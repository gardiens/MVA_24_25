{
  "cells": [
    {
      "cell_type": "markdown",
      "metadata": {
        "id": "view-in-github",
        "colab_type": "text"
      },
      "source": [
        "<a href=\"https://colab.research.google.com/github/gardiens/MVA_24_25/blob/main/Delires/TP4/TP4_delires.ipynb\" target=\"_parent\"><img src=\"https://colab.research.google.com/assets/colab-badge.svg\" alt=\"Open In Colab\"/></a>"
      ]
    },
    {
      "cell_type": "markdown",
      "metadata": {
        "id": "TdpPHz2Lp6VD"
      },
      "source": [
        "# TP Coding autoencoders and variational autoencoders in Pytorch\n",
        "\n",
        "\n",
        "Author : Alasdair Newson\n",
        "\n",
        "alasdair.newson@telecom-paris.fr\n",
        "\n",
        "## Objective:\n",
        "\n",
        "The goal of this TP is to explore autoencoders and variational autoencoders applied to a simple dataset. In this first part, we will look at an autoencoder applied to MNIST. We recall that an autoencoder is a neural network with the following general architecture:\n",
        "\n",
        "\n",
        "![AUTOENCODER](https://perso.telecom-paristech.fr/anewson/doc/images/autoencoder_illustration_2.png)\n",
        "\n",
        "The tensor $z$ in the middle of the network is called a __latent code__, and it belongs to the latent space. It is this latent space which is interesting in autoencoders (for image synthesis, editing, etc).\n",
        "\n",
        "### Your task:\n",
        "You need to add the missing parts in the code (parts between # --- START CODE HERE and # --- END CODE HERE or # FILL IN CODE)\n",
        "\n",
        "\n",
        "First of all, let's load some packages"
      ]
    },
    {
      "cell_type": "code",
      "execution_count": 21,
      "metadata": {
        "id": "JqNeIJ8Op8Ao"
      },
      "outputs": [],
      "source": [
        "import torch\n",
        "import torch.nn as nn\n",
        "import torch.nn.functional as F\n",
        "import torch.optim as optim\n",
        "from torchvision import datasets, transforms\n",
        "from torch.autograd import Variable\n",
        "from torchvision.utils import save_image\n",
        "\n",
        "import pdb\n",
        "import numpy as np\n",
        "import matplotlib.pyplot as plt\n",
        "\n",
        "\n",
        "def pytorch_to_numpy(x):\n",
        "    return x.detach().numpy()"
      ]
    },
    {
      "cell_type": "markdown",
      "metadata": {
        "id": "Hyj5dj_eui9D"
      },
      "source": [
        "First, we load the mnist dataset."
      ]
    },
    {
      "cell_type": "code",
      "execution_count": 22,
      "metadata": {
        "id": "4YPLKlPrufSk"
      },
      "outputs": [],
      "source": [
        "batch_size = 128\n",
        "\n",
        "# MNIST Dataset\n",
        "mnist_trainset = datasets.MNIST(\n",
        "    root=\"./mnist_data/\", train=True, transform=transforms.ToTensor(), download=True\n",
        ")\n",
        "mnist_testset = datasets.MNIST(\n",
        "    root=\"./mnist_data/\", train=False, transform=transforms.ToTensor(), download=False\n",
        ")\n",
        "\n",
        "# create data loader with smaller dataset size\n",
        "max_mnist_size = 1000\n",
        "mnist_trainset_reduced = torch.utils.data.random_split(\n",
        "    mnist_trainset, [max_mnist_size, len(mnist_trainset) - max_mnist_size]\n",
        ")[0]\n",
        "mnist_train_loader = torch.utils.data.DataLoader(\n",
        "    mnist_trainset_reduced, batch_size=batch_size, shuffle=True, drop_last=True\n",
        ")\n",
        "\n",
        "# download test dataset\n",
        "max_mnist_size = 512\n",
        "mnist_testset_reduced = torch.utils.data.random_split(\n",
        "    mnist_testset, [max_mnist_size, len(mnist_testset) - max_mnist_size]\n",
        ")[0]\n",
        "mnist_test_loader = torch.utils.data.DataLoader(\n",
        "    mnist_testset_reduced, batch_size=batch_size, shuffle=True, drop_last=True\n",
        ")"
      ]
    },
    {
      "cell_type": "code",
      "execution_count": 23,
      "metadata": {
        "colab": {
          "base_uri": "https://localhost:8080/"
        },
        "id": "r7YhlBT2PN9I",
        "outputId": "b46ae8de-f37c-49eb-bfaa-876fe1bce761"
      },
      "outputs": [
        {
          "output_type": "execute_result",
          "data": {
            "text/plain": [
              "torch.Size([60000, 28, 28])"
            ]
          },
          "metadata": {},
          "execution_count": 23
        }
      ],
      "source": [
        "mnist_trainset_reduced.dataset.train_data.shape"
      ]
    },
    {
      "cell_type": "markdown",
      "metadata": {
        "id": "t-bkK4ktwfvC"
      },
      "source": [
        "# 1 Vanilla Autoencoder\n",
        "\n",
        "Now, we define the general parameters of the autoencoder"
      ]
    },
    {
      "cell_type": "code",
      "execution_count": 24,
      "metadata": {
        "id": "mD56EDzbvUxq"
      },
      "outputs": [],
      "source": [
        "# autoencoder parameters\n",
        "n_rows = mnist_trainset_reduced.dataset.train_data.shape[1]\n",
        "n_cols = mnist_trainset_reduced.dataset.train_data.shape[2]\n",
        "n_channels = 1\n",
        "n_pixels = n_rows * n_cols\n",
        "\n",
        "img_shape = (n_rows, n_cols, n_channels)\n",
        "n_epochs = 150"
      ]
    },
    {
      "cell_type": "markdown",
      "metadata": {
        "id": "6jLa2-jQwxSI"
      },
      "source": [
        "Now, define the autoencoder architecture. In the first part, we will use the following MLP architecture :\n",
        "\n",
        "Encoder :\n",
        "- Flatten input\n",
        "- Dense layer, output size h_dim_1 + ReLU\n",
        "- Dense layer, output size h_dim_2 + ReLU\n",
        "- Dense layer, output size z_dim (no non-linearity)\n",
        "\n",
        "Decoder :\n",
        "- Dense layer, output size h_dim_2 + ReLU\n",
        "- Dense layer, output size h_dim_1 + ReLU\n",
        "- Dense layer, output size x_dim + Sigmoid Activation\n",
        "- Reshape, to size $28\\times 28\\times 1$\n",
        "\n",
        "For the Reshape operation, use the ```A.view(dim_1,dim_2,...)``` function, where ```A``` is your tensor."
      ]
    },
    {
      "cell_type": "code",
      "execution_count": 25,
      "metadata": {
        "id": "tEuZfnUlXxMl"
      },
      "outputs": [],
      "source": [
        "class AE(torch.nn.Module):\n",
        "    def __init__(self, x_dim, h_dim1, h_dim2, z_dim, n_rows, n_cols, n_channels):\n",
        "        super(AE, self).__init__()\n",
        "\n",
        "        self.n_rows = n_rows\n",
        "        self.n_cols = n_cols\n",
        "        self.n_channels = n_channels\n",
        "        self.n_pixels = (self.n_rows) * (self.n_cols)\n",
        "        self.z_dim = z_dim\n",
        "\n",
        "        # encoder part\n",
        "        self.fc1 = nn.Linear(x_dim, h_dim1)  # FILL IN CODE HERE\n",
        "        self.fc2 = nn.Linear(h_dim1, h_dim2)  # FILL IN CODE HERE\n",
        "        self.fc3 = nn.Linear(h_dim2, z_dim)  # FILL IN CODE HERE\n",
        "        # decoder part\n",
        "        self.fc4 = nn.Linear(z_dim, h_dim2)  # FILL IN CODE HERE\n",
        "        self.fc5 = nn.Linear(h_dim2, h_dim1)  # FILL IN CODE HERE\n",
        "        self.fc6 = nn.Linear(h_dim1, x_dim)  # FILL IN CODE HERE\n",
        "        self.activation = nn.ReLU()\n",
        "\n",
        "    def encoder(self, x):\n",
        "        # flatten h\n",
        "        h = x.flatten(start_dim=1)\n",
        "        h = self.fc1(h)\n",
        "        h = self.activation(h)\n",
        "        h = self.fc2(h)\n",
        "        h = self.activation(h)\n",
        "        h = self.fc3(h)  # FILL IN CODE HERE\n",
        "        return h\n",
        "\n",
        "    def decoder(self, z):\n",
        "        h = self.activation(self.fc4(z))\n",
        "        h = self.activation(self.fc5(h))\n",
        "        h = self.activation(self.fc6(h))  # FILL IN CODE HERE\n",
        "        h = h.reshape((h.shape[0], self.n_channels, self.n_rows, self.n_cols))\n",
        "        return h\n",
        "\n",
        "    def forward(self, x):\n",
        "        z = self.encoder(x)\n",
        "        y = self.decoder(z)\n",
        "        return y\n",
        "\n",
        "    def loss_function(self, x, y):\n",
        "        mse_loss = nn.MSELoss()\n",
        "        mse_loss = mse_loss(x, y)\n",
        "        return torch.mean(mse_loss)"
      ]
    },
    {
      "cell_type": "code",
      "execution_count": 26,
      "metadata": {
        "id": "oV40vRMQRoG1"
      },
      "outputs": [],
      "source": [
        "# create model\n",
        "ae_dim_1 = 512\n",
        "ae_dim_2 = 256\n",
        "z_dim = 10\n",
        "ae_model = AE(\n",
        "    x_dim=n_pixels,\n",
        "    h_dim1=ae_dim_1,\n",
        "    h_dim2=ae_dim_2,\n",
        "    z_dim=z_dim,\n",
        "    n_rows=n_rows,\n",
        "    n_cols=n_cols,\n",
        "    n_channels=n_channels,\n",
        ")\n",
        "ae_optimizer = optim.Adam(ae_model.parameters())"
      ]
    },
    {
      "cell_type": "markdown",
      "metadata": {
        "id": "-659aM36xvXX"
      },
      "source": [
        "Now, define a generic function to train the model for one epoch"
      ]
    },
    {
      "cell_type": "code",
      "execution_count": 27,
      "metadata": {
        "id": "wfqX6Brlxjyi"
      },
      "outputs": [],
      "source": [
        "def train_ae(ae_model, data_train_loader, epoch):\n",
        "    train_loss = 0\n",
        "    for batch_idx, (data, _) in enumerate(data_train_loader):\n",
        "        ae_optimizer.zero_grad()\n",
        "\n",
        "        y = ae_model(data)\n",
        "        loss_ae = ae_model.loss_function(data, y)  # FILL IN CODE HERE\n",
        "\n",
        "        loss_ae.backward()\n",
        "        train_loss += loss_ae.item()\n",
        "        ae_optimizer.step()\n",
        "\n",
        "        if batch_idx % 100 == 0:\n",
        "            print(\n",
        "                \"Train Epoch: {} [{}/{} ({:.0f}%)]\\tLoss: {:.6f}\".format(\n",
        "                    epoch,\n",
        "                    batch_idx * len(data),\n",
        "                    len(data_train_loader.dataset),\n",
        "                    100.0 * batch_idx / len(data_train_loader),\n",
        "                    loss_ae.item() / len(data),\n",
        "                )\n",
        "            )\n",
        "    print(\n",
        "        \"====> Epoch: {} Average loss: {:.4f}\".format(\n",
        "            epoch, train_loss / len(data_train_loader.dataset)\n",
        "        )\n",
        "    )"
      ]
    },
    {
      "cell_type": "markdown",
      "metadata": {
        "id": "w3EbmswSzJdK"
      },
      "source": [
        "We define a function to carry out testing on the autoencoder model"
      ]
    },
    {
      "cell_type": "code",
      "execution_count": 28,
      "metadata": {
        "colab": {
          "base_uri": "https://localhost:8080/"
        },
        "id": "11q_0PSibZk-",
        "outputId": "7b92f25b-48d2-44f6-b114-686c5c33f16d"
      },
      "outputs": [
        {
          "output_type": "stream",
          "name": "stdout",
          "text": [
            "Train Epoch: 0 [0/1000 (0%)]\tLoss: 0.000850\n",
            "====> Epoch: 0 Average loss: 0.0007\n",
            "Train Epoch: 1 [0/1000 (0%)]\tLoss: 0.000619\n",
            "====> Epoch: 1 Average loss: 0.0006\n",
            "Train Epoch: 2 [0/1000 (0%)]\tLoss: 0.000650\n",
            "====> Epoch: 2 Average loss: 0.0006\n",
            "Train Epoch: 3 [0/1000 (0%)]\tLoss: 0.000621\n",
            "====> Epoch: 3 Average loss: 0.0005\n",
            "Train Epoch: 4 [0/1000 (0%)]\tLoss: 0.000576\n",
            "====> Epoch: 4 Average loss: 0.0005\n",
            "Train Epoch: 5 [0/1000 (0%)]\tLoss: 0.000566\n",
            "====> Epoch: 5 Average loss: 0.0005\n",
            "Train Epoch: 6 [0/1000 (0%)]\tLoss: 0.000518\n",
            "====> Epoch: 6 Average loss: 0.0004\n",
            "Train Epoch: 7 [0/1000 (0%)]\tLoss: 0.000479\n",
            "====> Epoch: 7 Average loss: 0.0004\n",
            "Train Epoch: 8 [0/1000 (0%)]\tLoss: 0.000424\n",
            "====> Epoch: 8 Average loss: 0.0004\n",
            "Train Epoch: 9 [0/1000 (0%)]\tLoss: 0.000381\n",
            "====> Epoch: 9 Average loss: 0.0003\n",
            "Train Epoch: 10 [0/1000 (0%)]\tLoss: 0.000352\n",
            "====> Epoch: 10 Average loss: 0.0003\n",
            "Train Epoch: 11 [0/1000 (0%)]\tLoss: 0.000332\n",
            "====> Epoch: 11 Average loss: 0.0003\n",
            "Train Epoch: 12 [0/1000 (0%)]\tLoss: 0.000335\n",
            "====> Epoch: 12 Average loss: 0.0003\n",
            "Train Epoch: 13 [0/1000 (0%)]\tLoss: 0.000331\n",
            "====> Epoch: 13 Average loss: 0.0003\n",
            "Train Epoch: 14 [0/1000 (0%)]\tLoss: 0.000296\n",
            "====> Epoch: 14 Average loss: 0.0003\n",
            "Train Epoch: 15 [0/1000 (0%)]\tLoss: 0.000295\n",
            "====> Epoch: 15 Average loss: 0.0003\n",
            "Train Epoch: 16 [0/1000 (0%)]\tLoss: 0.000286\n",
            "====> Epoch: 16 Average loss: 0.0003\n",
            "Train Epoch: 17 [0/1000 (0%)]\tLoss: 0.000275\n",
            "====> Epoch: 17 Average loss: 0.0002\n",
            "Train Epoch: 18 [0/1000 (0%)]\tLoss: 0.000249\n",
            "====> Epoch: 18 Average loss: 0.0002\n",
            "Train Epoch: 19 [0/1000 (0%)]\tLoss: 0.000269\n",
            "====> Epoch: 19 Average loss: 0.0002\n",
            "Train Epoch: 20 [0/1000 (0%)]\tLoss: 0.000239\n",
            "====> Epoch: 20 Average loss: 0.0002\n",
            "Train Epoch: 21 [0/1000 (0%)]\tLoss: 0.000243\n",
            "====> Epoch: 21 Average loss: 0.0002\n",
            "Train Epoch: 22 [0/1000 (0%)]\tLoss: 0.000259\n",
            "====> Epoch: 22 Average loss: 0.0002\n",
            "Train Epoch: 23 [0/1000 (0%)]\tLoss: 0.000227\n",
            "====> Epoch: 23 Average loss: 0.0002\n",
            "Train Epoch: 24 [0/1000 (0%)]\tLoss: 0.000243\n",
            "====> Epoch: 24 Average loss: 0.0002\n",
            "Train Epoch: 25 [0/1000 (0%)]\tLoss: 0.000225\n",
            "====> Epoch: 25 Average loss: 0.0002\n",
            "Train Epoch: 26 [0/1000 (0%)]\tLoss: 0.000237\n",
            "====> Epoch: 26 Average loss: 0.0002\n",
            "Train Epoch: 27 [0/1000 (0%)]\tLoss: 0.000222\n",
            "====> Epoch: 27 Average loss: 0.0002\n",
            "Train Epoch: 28 [0/1000 (0%)]\tLoss: 0.000213\n",
            "====> Epoch: 28 Average loss: 0.0002\n",
            "Train Epoch: 29 [0/1000 (0%)]\tLoss: 0.000219\n",
            "====> Epoch: 29 Average loss: 0.0002\n",
            "Train Epoch: 30 [0/1000 (0%)]\tLoss: 0.000196\n",
            "====> Epoch: 30 Average loss: 0.0002\n",
            "Train Epoch: 31 [0/1000 (0%)]\tLoss: 0.000217\n",
            "====> Epoch: 31 Average loss: 0.0002\n",
            "Train Epoch: 32 [0/1000 (0%)]\tLoss: 0.000206\n",
            "====> Epoch: 32 Average loss: 0.0002\n",
            "Train Epoch: 33 [0/1000 (0%)]\tLoss: 0.000200\n",
            "====> Epoch: 33 Average loss: 0.0002\n",
            "Train Epoch: 34 [0/1000 (0%)]\tLoss: 0.000198\n",
            "====> Epoch: 34 Average loss: 0.0002\n",
            "Train Epoch: 35 [0/1000 (0%)]\tLoss: 0.000207\n",
            "====> Epoch: 35 Average loss: 0.0002\n",
            "Train Epoch: 36 [0/1000 (0%)]\tLoss: 0.000185\n",
            "====> Epoch: 36 Average loss: 0.0002\n",
            "Train Epoch: 37 [0/1000 (0%)]\tLoss: 0.000183\n",
            "====> Epoch: 37 Average loss: 0.0002\n",
            "Train Epoch: 38 [0/1000 (0%)]\tLoss: 0.000196\n",
            "====> Epoch: 38 Average loss: 0.0002\n",
            "Train Epoch: 39 [0/1000 (0%)]\tLoss: 0.000188\n",
            "====> Epoch: 39 Average loss: 0.0002\n",
            "Train Epoch: 40 [0/1000 (0%)]\tLoss: 0.000183\n",
            "====> Epoch: 40 Average loss: 0.0002\n",
            "Train Epoch: 41 [0/1000 (0%)]\tLoss: 0.000193\n",
            "====> Epoch: 41 Average loss: 0.0002\n",
            "Train Epoch: 42 [0/1000 (0%)]\tLoss: 0.000182\n",
            "====> Epoch: 42 Average loss: 0.0002\n",
            "Train Epoch: 43 [0/1000 (0%)]\tLoss: 0.000177\n",
            "====> Epoch: 43 Average loss: 0.0002\n",
            "Train Epoch: 44 [0/1000 (0%)]\tLoss: 0.000181\n",
            "====> Epoch: 44 Average loss: 0.0002\n",
            "Train Epoch: 45 [0/1000 (0%)]\tLoss: 0.000168\n",
            "====> Epoch: 45 Average loss: 0.0002\n",
            "Train Epoch: 46 [0/1000 (0%)]\tLoss: 0.000176\n",
            "====> Epoch: 46 Average loss: 0.0002\n",
            "Train Epoch: 47 [0/1000 (0%)]\tLoss: 0.000176\n",
            "====> Epoch: 47 Average loss: 0.0002\n",
            "Train Epoch: 48 [0/1000 (0%)]\tLoss: 0.000165\n",
            "====> Epoch: 48 Average loss: 0.0002\n",
            "Train Epoch: 49 [0/1000 (0%)]\tLoss: 0.000161\n",
            "====> Epoch: 49 Average loss: 0.0001\n",
            "Train Epoch: 50 [0/1000 (0%)]\tLoss: 0.000171\n",
            "====> Epoch: 50 Average loss: 0.0001\n",
            "Train Epoch: 51 [0/1000 (0%)]\tLoss: 0.000156\n",
            "====> Epoch: 51 Average loss: 0.0001\n",
            "Train Epoch: 52 [0/1000 (0%)]\tLoss: 0.000163\n",
            "====> Epoch: 52 Average loss: 0.0001\n",
            "Train Epoch: 53 [0/1000 (0%)]\tLoss: 0.000162\n",
            "====> Epoch: 53 Average loss: 0.0001\n",
            "Train Epoch: 54 [0/1000 (0%)]\tLoss: 0.000164\n",
            "====> Epoch: 54 Average loss: 0.0001\n",
            "Train Epoch: 55 [0/1000 (0%)]\tLoss: 0.000162\n",
            "====> Epoch: 55 Average loss: 0.0001\n",
            "Train Epoch: 56 [0/1000 (0%)]\tLoss: 0.000157\n",
            "====> Epoch: 56 Average loss: 0.0001\n",
            "Train Epoch: 57 [0/1000 (0%)]\tLoss: 0.000156\n",
            "====> Epoch: 57 Average loss: 0.0001\n",
            "Train Epoch: 58 [0/1000 (0%)]\tLoss: 0.000145\n",
            "====> Epoch: 58 Average loss: 0.0001\n",
            "Train Epoch: 59 [0/1000 (0%)]\tLoss: 0.000140\n",
            "====> Epoch: 59 Average loss: 0.0001\n",
            "Train Epoch: 60 [0/1000 (0%)]\tLoss: 0.000153\n",
            "====> Epoch: 60 Average loss: 0.0001\n",
            "Train Epoch: 61 [0/1000 (0%)]\tLoss: 0.000153\n",
            "====> Epoch: 61 Average loss: 0.0001\n",
            "Train Epoch: 62 [0/1000 (0%)]\tLoss: 0.000145\n",
            "====> Epoch: 62 Average loss: 0.0001\n",
            "Train Epoch: 63 [0/1000 (0%)]\tLoss: 0.000137\n",
            "====> Epoch: 63 Average loss: 0.0001\n",
            "Train Epoch: 64 [0/1000 (0%)]\tLoss: 0.000132\n",
            "====> Epoch: 64 Average loss: 0.0001\n",
            "Train Epoch: 65 [0/1000 (0%)]\tLoss: 0.000136\n",
            "====> Epoch: 65 Average loss: 0.0001\n",
            "Train Epoch: 66 [0/1000 (0%)]\tLoss: 0.000141\n",
            "====> Epoch: 66 Average loss: 0.0001\n",
            "Train Epoch: 67 [0/1000 (0%)]\tLoss: 0.000133\n",
            "====> Epoch: 67 Average loss: 0.0001\n",
            "Train Epoch: 68 [0/1000 (0%)]\tLoss: 0.000137\n",
            "====> Epoch: 68 Average loss: 0.0001\n",
            "Train Epoch: 69 [0/1000 (0%)]\tLoss: 0.000133\n",
            "====> Epoch: 69 Average loss: 0.0001\n",
            "Train Epoch: 70 [0/1000 (0%)]\tLoss: 0.000136\n",
            "====> Epoch: 70 Average loss: 0.0001\n",
            "Train Epoch: 71 [0/1000 (0%)]\tLoss: 0.000125\n",
            "====> Epoch: 71 Average loss: 0.0001\n",
            "Train Epoch: 72 [0/1000 (0%)]\tLoss: 0.000126\n",
            "====> Epoch: 72 Average loss: 0.0001\n",
            "Train Epoch: 73 [0/1000 (0%)]\tLoss: 0.000121\n",
            "====> Epoch: 73 Average loss: 0.0001\n",
            "Train Epoch: 74 [0/1000 (0%)]\tLoss: 0.000127\n",
            "====> Epoch: 74 Average loss: 0.0001\n",
            "Train Epoch: 75 [0/1000 (0%)]\tLoss: 0.000118\n",
            "====> Epoch: 75 Average loss: 0.0001\n",
            "Train Epoch: 76 [0/1000 (0%)]\tLoss: 0.000126\n",
            "====> Epoch: 76 Average loss: 0.0001\n",
            "Train Epoch: 77 [0/1000 (0%)]\tLoss: 0.000126\n",
            "====> Epoch: 77 Average loss: 0.0001\n",
            "Train Epoch: 78 [0/1000 (0%)]\tLoss: 0.000122\n",
            "====> Epoch: 78 Average loss: 0.0001\n",
            "Train Epoch: 79 [0/1000 (0%)]\tLoss: 0.000114\n",
            "====> Epoch: 79 Average loss: 0.0001\n",
            "Train Epoch: 80 [0/1000 (0%)]\tLoss: 0.000112\n",
            "====> Epoch: 80 Average loss: 0.0001\n",
            "Train Epoch: 81 [0/1000 (0%)]\tLoss: 0.000122\n",
            "====> Epoch: 81 Average loss: 0.0001\n",
            "Train Epoch: 82 [0/1000 (0%)]\tLoss: 0.000119\n",
            "====> Epoch: 82 Average loss: 0.0001\n",
            "Train Epoch: 83 [0/1000 (0%)]\tLoss: 0.000118\n",
            "====> Epoch: 83 Average loss: 0.0001\n",
            "Train Epoch: 84 [0/1000 (0%)]\tLoss: 0.000114\n",
            "====> Epoch: 84 Average loss: 0.0001\n",
            "Train Epoch: 85 [0/1000 (0%)]\tLoss: 0.000115\n",
            "====> Epoch: 85 Average loss: 0.0001\n",
            "Train Epoch: 86 [0/1000 (0%)]\tLoss: 0.000112\n",
            "====> Epoch: 86 Average loss: 0.0001\n",
            "Train Epoch: 87 [0/1000 (0%)]\tLoss: 0.000110\n",
            "====> Epoch: 87 Average loss: 0.0001\n",
            "Train Epoch: 88 [0/1000 (0%)]\tLoss: 0.000111\n",
            "====> Epoch: 88 Average loss: 0.0001\n",
            "Train Epoch: 89 [0/1000 (0%)]\tLoss: 0.000114\n",
            "====> Epoch: 89 Average loss: 0.0001\n",
            "Train Epoch: 90 [0/1000 (0%)]\tLoss: 0.000114\n",
            "====> Epoch: 90 Average loss: 0.0001\n",
            "Train Epoch: 91 [0/1000 (0%)]\tLoss: 0.000116\n",
            "====> Epoch: 91 Average loss: 0.0001\n",
            "Train Epoch: 92 [0/1000 (0%)]\tLoss: 0.000115\n",
            "====> Epoch: 92 Average loss: 0.0001\n",
            "Train Epoch: 93 [0/1000 (0%)]\tLoss: 0.000115\n",
            "====> Epoch: 93 Average loss: 0.0001\n",
            "Train Epoch: 94 [0/1000 (0%)]\tLoss: 0.000110\n",
            "====> Epoch: 94 Average loss: 0.0001\n",
            "Train Epoch: 95 [0/1000 (0%)]\tLoss: 0.000113\n",
            "====> Epoch: 95 Average loss: 0.0001\n",
            "Train Epoch: 96 [0/1000 (0%)]\tLoss: 0.000105\n",
            "====> Epoch: 96 Average loss: 0.0001\n",
            "Train Epoch: 97 [0/1000 (0%)]\tLoss: 0.000110\n",
            "====> Epoch: 97 Average loss: 0.0001\n",
            "Train Epoch: 98 [0/1000 (0%)]\tLoss: 0.000105\n",
            "====> Epoch: 98 Average loss: 0.0001\n",
            "Train Epoch: 99 [0/1000 (0%)]\tLoss: 0.000103\n",
            "====> Epoch: 99 Average loss: 0.0001\n",
            "Train Epoch: 100 [0/1000 (0%)]\tLoss: 0.000113\n",
            "====> Epoch: 100 Average loss: 0.0001\n",
            "Train Epoch: 101 [0/1000 (0%)]\tLoss: 0.000106\n",
            "====> Epoch: 101 Average loss: 0.0001\n",
            "Train Epoch: 102 [0/1000 (0%)]\tLoss: 0.000110\n",
            "====> Epoch: 102 Average loss: 0.0001\n",
            "Train Epoch: 103 [0/1000 (0%)]\tLoss: 0.000101\n",
            "====> Epoch: 103 Average loss: 0.0001\n",
            "Train Epoch: 104 [0/1000 (0%)]\tLoss: 0.000104\n",
            "====> Epoch: 104 Average loss: 0.0001\n",
            "Train Epoch: 105 [0/1000 (0%)]\tLoss: 0.000107\n",
            "====> Epoch: 105 Average loss: 0.0001\n",
            "Train Epoch: 106 [0/1000 (0%)]\tLoss: 0.000097\n",
            "====> Epoch: 106 Average loss: 0.0001\n",
            "Train Epoch: 107 [0/1000 (0%)]\tLoss: 0.000105\n",
            "====> Epoch: 107 Average loss: 0.0001\n",
            "Train Epoch: 108 [0/1000 (0%)]\tLoss: 0.000101\n",
            "====> Epoch: 108 Average loss: 0.0001\n",
            "Train Epoch: 109 [0/1000 (0%)]\tLoss: 0.000096\n",
            "====> Epoch: 109 Average loss: 0.0001\n",
            "Train Epoch: 110 [0/1000 (0%)]\tLoss: 0.000097\n",
            "====> Epoch: 110 Average loss: 0.0001\n",
            "Train Epoch: 111 [0/1000 (0%)]\tLoss: 0.000105\n",
            "====> Epoch: 111 Average loss: 0.0001\n",
            "Train Epoch: 112 [0/1000 (0%)]\tLoss: 0.000103\n",
            "====> Epoch: 112 Average loss: 0.0001\n",
            "Train Epoch: 113 [0/1000 (0%)]\tLoss: 0.000100\n",
            "====> Epoch: 113 Average loss: 0.0001\n",
            "Train Epoch: 114 [0/1000 (0%)]\tLoss: 0.000099\n",
            "====> Epoch: 114 Average loss: 0.0001\n",
            "Train Epoch: 115 [0/1000 (0%)]\tLoss: 0.000104\n",
            "====> Epoch: 115 Average loss: 0.0001\n",
            "Train Epoch: 116 [0/1000 (0%)]\tLoss: 0.000100\n",
            "====> Epoch: 116 Average loss: 0.0001\n",
            "Train Epoch: 117 [0/1000 (0%)]\tLoss: 0.000095\n",
            "====> Epoch: 117 Average loss: 0.0001\n",
            "Train Epoch: 118 [0/1000 (0%)]\tLoss: 0.000098\n",
            "====> Epoch: 118 Average loss: 0.0001\n",
            "Train Epoch: 119 [0/1000 (0%)]\tLoss: 0.000093\n",
            "====> Epoch: 119 Average loss: 0.0001\n",
            "Train Epoch: 120 [0/1000 (0%)]\tLoss: 0.000100\n",
            "====> Epoch: 120 Average loss: 0.0001\n",
            "Train Epoch: 121 [0/1000 (0%)]\tLoss: 0.000094\n",
            "====> Epoch: 121 Average loss: 0.0001\n",
            "Train Epoch: 122 [0/1000 (0%)]\tLoss: 0.000101\n",
            "====> Epoch: 122 Average loss: 0.0001\n",
            "Train Epoch: 123 [0/1000 (0%)]\tLoss: 0.000092\n",
            "====> Epoch: 123 Average loss: 0.0001\n",
            "Train Epoch: 124 [0/1000 (0%)]\tLoss: 0.000097\n",
            "====> Epoch: 124 Average loss: 0.0001\n",
            "Train Epoch: 125 [0/1000 (0%)]\tLoss: 0.000097\n",
            "====> Epoch: 125 Average loss: 0.0001\n",
            "Train Epoch: 126 [0/1000 (0%)]\tLoss: 0.000093\n",
            "====> Epoch: 126 Average loss: 0.0001\n",
            "Train Epoch: 127 [0/1000 (0%)]\tLoss: 0.000094\n",
            "====> Epoch: 127 Average loss: 0.0001\n",
            "Train Epoch: 128 [0/1000 (0%)]\tLoss: 0.000101\n",
            "====> Epoch: 128 Average loss: 0.0001\n",
            "Train Epoch: 129 [0/1000 (0%)]\tLoss: 0.000097\n",
            "====> Epoch: 129 Average loss: 0.0001\n",
            "Train Epoch: 130 [0/1000 (0%)]\tLoss: 0.000092\n",
            "====> Epoch: 130 Average loss: 0.0001\n",
            "Train Epoch: 131 [0/1000 (0%)]\tLoss: 0.000090\n",
            "====> Epoch: 131 Average loss: 0.0001\n",
            "Train Epoch: 132 [0/1000 (0%)]\tLoss: 0.000096\n",
            "====> Epoch: 132 Average loss: 0.0001\n",
            "Train Epoch: 133 [0/1000 (0%)]\tLoss: 0.000088\n",
            "====> Epoch: 133 Average loss: 0.0001\n",
            "Train Epoch: 134 [0/1000 (0%)]\tLoss: 0.000096\n",
            "====> Epoch: 134 Average loss: 0.0001\n",
            "Train Epoch: 135 [0/1000 (0%)]\tLoss: 0.000085\n",
            "====> Epoch: 135 Average loss: 0.0001\n",
            "Train Epoch: 136 [0/1000 (0%)]\tLoss: 0.000096\n",
            "====> Epoch: 136 Average loss: 0.0001\n",
            "Train Epoch: 137 [0/1000 (0%)]\tLoss: 0.000094\n",
            "====> Epoch: 137 Average loss: 0.0001\n",
            "Train Epoch: 138 [0/1000 (0%)]\tLoss: 0.000098\n",
            "====> Epoch: 138 Average loss: 0.0001\n",
            "Train Epoch: 139 [0/1000 (0%)]\tLoss: 0.000095\n",
            "====> Epoch: 139 Average loss: 0.0001\n",
            "Train Epoch: 140 [0/1000 (0%)]\tLoss: 0.000092\n",
            "====> Epoch: 140 Average loss: 0.0001\n",
            "Train Epoch: 141 [0/1000 (0%)]\tLoss: 0.000096\n",
            "====> Epoch: 141 Average loss: 0.0001\n",
            "Train Epoch: 142 [0/1000 (0%)]\tLoss: 0.000086\n",
            "====> Epoch: 142 Average loss: 0.0001\n",
            "Train Epoch: 143 [0/1000 (0%)]\tLoss: 0.000099\n",
            "====> Epoch: 143 Average loss: 0.0001\n",
            "Train Epoch: 144 [0/1000 (0%)]\tLoss: 0.000091\n",
            "====> Epoch: 144 Average loss: 0.0001\n",
            "Train Epoch: 145 [0/1000 (0%)]\tLoss: 0.000097\n",
            "====> Epoch: 145 Average loss: 0.0001\n",
            "Train Epoch: 146 [0/1000 (0%)]\tLoss: 0.000095\n",
            "====> Epoch: 146 Average loss: 0.0001\n",
            "Train Epoch: 147 [0/1000 (0%)]\tLoss: 0.000093\n",
            "====> Epoch: 147 Average loss: 0.0001\n",
            "Train Epoch: 148 [0/1000 (0%)]\tLoss: 0.000087\n",
            "====> Epoch: 148 Average loss: 0.0001\n",
            "Train Epoch: 149 [0/1000 (0%)]\tLoss: 0.000088\n",
            "====> Epoch: 149 Average loss: 0.0001\n"
          ]
        }
      ],
      "source": [
        "# create model\n",
        "ae_dim_1 = 512\n",
        "ae_dim_2 = 256\n",
        "z_dim = 10\n",
        "ae_model = AE(\n",
        "    x_dim=n_pixels,\n",
        "    h_dim1=ae_dim_1,\n",
        "    h_dim2=ae_dim_2,\n",
        "    z_dim=z_dim,\n",
        "    n_rows=n_rows,\n",
        "    n_cols=n_cols,\n",
        "    n_channels=n_channels,\n",
        ")\n",
        "ae_optimizer = optim.Adam(ae_model.parameters())\n",
        "for epoch in range(0, n_epochs):\n",
        "    train_ae(ae_model, mnist_train_loader, epoch)"
      ]
    },
    {
      "cell_type": "code",
      "execution_count": 29,
      "metadata": {
        "id": "T8jXjdRyzMy2"
      },
      "outputs": [],
      "source": [
        "def display_images(imgs):\n",
        "    r = 1\n",
        "    c = imgs.shape[0]\n",
        "    fig, axs = plt.subplots(r, c)\n",
        "    for j in range(c):\n",
        "        # black and white images\n",
        "        axs[j].imshow(pytorch_to_numpy(imgs[j, 0, :, :]), cmap=\"gray\")\n",
        "        axs[j].axis(\"off\")\n",
        "    plt.show()\n",
        "\n",
        "\n",
        "def display_ae_images(ae_model, test_imgs):\n",
        "    n_images = 5\n",
        "    idx = np.random.randint(0, test_imgs.shape[0], n_images)\n",
        "    test_imgs = test_imgs[idx, :, :, :]\n",
        "    print(test_imgs.shape)\n",
        "\n",
        "    # get output images\n",
        "    output_imgs = pytorch_to_numpy(ae_model.forward(test_imgs))\n",
        "    print(output_imgs.shape)\n",
        "\n",
        "    r = 2\n",
        "    c = n_images\n",
        "    fig, axs = plt.subplots(r, c)\n",
        "    for j in range(c):\n",
        "        # black and white images\n",
        "        axs[0, j].imshow(test_imgs[j, 0, :, :], cmap=\"gray\")\n",
        "        axs[0, j].axis(\"off\")\n",
        "        axs[0, j].title.set_text(\"Original\")\n",
        "        axs[1, j].imshow(output_imgs[j, 0, :, :], cmap=\"gray\")\n",
        "        axs[1, j].axis(\"off\")\n",
        "        axs[1, j].title.set_text(\"Reconstructed\")\n",
        "    plt.show()"
      ]
    },
    {
      "cell_type": "code",
      "execution_count": 30,
      "metadata": {
        "colab": {
          "base_uri": "https://localhost:8080/",
          "height": 381
        },
        "id": "9pbXch29d68D",
        "outputId": "15878e84-b859-45a7-d960-70cfaeb28632"
      },
      "outputs": [
        {
          "output_type": "stream",
          "name": "stdout",
          "text": [
            "torch.Size([5, 1, 28, 28])\n",
            "(5, 1, 28, 28)\n"
          ]
        },
        {
          "output_type": "display_data",
          "data": {
            "text/plain": [
              "<Figure size 640x480 with 10 Axes>"
            ],
            "image/png": "[encoded data removed]"
          },
          "metadata": {}
        }
      ],
      "source": [
        "test_imgs = next(iter(mnist_train_loader))[0]\n",
        "display_ae_images(ae_model, test_imgs)"
      ]
    },
    {
      "cell_type": "markdown",
      "metadata": {
        "id": "assPaJqB5sa-"
      },
      "source": [
        "__Question__ Are you satisfied with the results, do they look good ?"
      ]
    },
    {
      "cell_type": "markdown",
      "metadata": {
        "id": "Q7uoWa4O5x8R"
      },
      "source": [
        "__Your answer:__\n",
        "The autoencoder has successfully reconstructed the original images, preserving the overall shape and structure of the digits. However, there are noticeable differences in the reconstructed outputs: the edges appear slightly blurred, indicating potential information loss in the encoding-decoding process. Additionally, the intensity of the white pixels is somewhat diminished compared to the original images, suggesting that the model might be introducing some smoothing effects or failing to fully capture high-frequency details."
      ]
    },
    {
      "cell_type": "markdown",
      "metadata": {
        "id": "zO9ATQEiyr3b"
      },
      "source": [
        "## 2/ Two simple generative models\n",
        "\n",
        "In this section, we consider two naÃ¯ve approaches to creating generative models. The general idea is the following:\n",
        "\n",
        "- train an autoencoder\n",
        "- estimate different statistics (average, variance) of the data in the latent space\n",
        "- using these statistics, define a model based on a Gaussian distribution\n",
        "- generate data with this distribution\n",
        "\n",
        "We will consider these two situations :\n",
        "\n",
        "- a multivariate Gaussian distribution with __diagonal covariance matrix__ (each latent component is an independent random variable). This requires the average and variance in each latent component\n",
        "- a multivariate Gaussian distribution with __non-diagonal covariance matrix__. This requires the average and covariance matrix of the latent components\n",
        "\n",
        "Obviously, since this is done _a posteriori_ after training the autoencoder, there is nothing which guarantees that the latent codes do indeed follow a Gaussian distribution. Our goal will be to verify that Variational Autoencoders indeed produce better results than such naÃ¯ve approaches."
      ]
    },
    {
      "cell_type": "markdown",
      "metadata": {
        "id": "x2M1-BRmf56d"
      },
      "source": [
        "## 2.0 Defining and generating random Gaussian latent codes\n",
        "\n",
        "Let $z$ be a latent code and $d$ the dimension of the latent space (called ``z_dim`` in the code). We suppose that the $z$'s follow a multivariate Gaussian distribution, written as:\n",
        "\n",
        "\\begin{equation}\n",
        "z \\sim \\mathcal{N}\\left(\n",
        "\\mu,\n",
        "\\bf{C}\n",
        "\\right),\n",
        "\\end{equation}\n",
        "where $\\mu$ and $\\bf{C}$ are the average vector and covariance matrix of the Gaussian distribution. To define such a generative model, we must therefore determine $\\mu$ and $\\bf{C}$. Once this is done, we can generate a random Gaussian latent code in the following manner:\n",
        "\n",
        "\\begin{equation}\n",
        "z = \\mu + {\\bf{L}} \\varepsilon,\n",
        "\\end{equation}\n",
        "where $\\varepsilon$ is a random vector drawn from a multivariate normal distribution ($\\mu=0$ and ${\\bf{C}} = \\text{Id}$), and $\\bf{L}$ is the Cholesky decomposition of the positive semi-definite covariance matrix. In other words:\n",
        "\n",
        "\\begin{equation}\n",
        "{\\bf{C}} = {\\bf{L}}{\\bf{L}^T}.\n",
        "\\end{equation}\n",
        "\n",
        "This gives a simple method of producing a multivariate Gaussian random variable."
      ]
    },
    {
      "cell_type": "markdown",
      "metadata": {
        "id": "NWpucm972i7j"
      },
      "source": [
        "## 2.1/ A Gaussian model with diagonal covariance\n",
        "\n",
        "The first naÃ¯ve model is  defined in this first case as:\n",
        "\n",
        "- $\\bf{\\mu}=\\left[\\mu_0, \\mu_1, \\cdots, \\mu_{d-1}\\right]^T$\n",
        "- $\n",
        "  \\bf{C} = \\begin{pmatrix}\n",
        "\\sigma_0^2 & 0 & \\cdots & 0 \\\\\n",
        "0 & \\sigma_1^2 & \\cdots & 0 \\\\\n",
        "\\vdots & \\ddots & \\ddots & \\vdots \\\\\n",
        "0 & 0 & \\cdots & \\sigma_{d-1}^2\n",
        "\\end{pmatrix}$\n",
        "\n",
        "In this situation, therefore, the matrix $\\bf{L}$ can be calculated quite simply, as:\n",
        "- $\n",
        "  \\bf{L} = \\begin{pmatrix}\n",
        "\\sigma_0 & 0 & \\cdots & 0 \\\\\n",
        "0 & \\sigma_1 & \\cdots & 0 \\\\\n",
        "\\vdots & \\ddots & \\ddots & \\vdots \\\\\n",
        "0 & 0 & \\cdots & \\sigma_{d-1}\n",
        "\\end{pmatrix}$\n",
        "\n",
        "In the next cell, calculate the empirical average and variances over a certain number of batches:"
      ]
    },
    {
      "cell_type": "code",
      "execution_count": 31,
      "metadata": {
        "colab": {
          "base_uri": "https://localhost:8080/"
        },
        "id": "sUXHCtvW2iQ0",
        "outputId": "95105555-a963-4c6f-e6a4-2da2911647bf"
      },
      "outputs": [
        {
          "output_type": "stream",
          "name": "stdout",
          "text": [
            "the data torch.Size([128, 10])\n",
            "the data torch.Size([128, 10])\n",
            "the data torch.Size([128, 10])\n",
            "the data torch.Size([128, 10])\n",
            "the data torch.Size([128, 10])\n",
            "the data torch.Size([128, 10])\n",
            "the data torch.Size([128, 10])\n",
            "Average of latent codes: tensor([-0.6187,  0.9310,  0.0280, -1.3642, -2.0553,  2.8480, -2.5026, -2.4939,\n",
            "        -2.5708, -0.5135], grad_fn=<MeanBackward1>)\n",
            "Standard deviation of latent codes: tensor([4.0567, 3.0541, 3.1876, 3.3579, 3.0343, 3.5838, 3.1773, 3.0276, 3.2622,\n",
            "        2.8420], grad_fn=<MeanBackward1>)\n"
          ]
        }
      ],
      "source": [
        "n_batches = np.floor(len(mnist_train_loader.dataset.indices) / batch_size).astype(int)\n",
        "\n",
        "z_average = torch.zeros(n_batches, ae_model.z_dim)\n",
        "z_sigma = torch.zeros(n_batches, ae_model.z_dim)\n",
        "\n",
        "for batch_idx, (data, _) in enumerate(mnist_train_loader):\n",
        "    z = ae_model.encoder(data)\n",
        "    print(\"the data\", z.shape)\n",
        "    z_average[batch_idx, :] = z.mean(axis=0)  # FILL IN CODE HERE\n",
        "    z_sigma[batch_idx, :] = z.std(dim=0)  # FILL IN CODE HERE\n",
        "\n",
        "z_average = z_average.mean(axis=0)  # FILL IN CODE HERE\n",
        "z_sigma = z_sigma.mean(axis=0)  # FILL IN CODE HERE\n",
        "\n",
        "print(\"Average of latent codes:\", z_average)\n",
        "print(\"Standard deviation of latent codes:\", z_sigma)"
      ]
    },
    {
      "cell_type": "markdown",
      "metadata": {
        "id": "Lrpc62ML9K4l"
      },
      "source": [
        "Now, in the next cell generate data with this simple generative model using the approach described above. Display these images with the ``display_images`` function.\n",
        "\n",
        "__NB__ You do not actually have to define the matrix $\\bf{L}$ in this case, an element-wise multiplication of two (properly chosen) vectors will suffice. To generate multivariate normal random variables you can use the following Pytorch function:\n",
        "\n",
        "- ```torch.randn```\n"
      ]
    },
    {
      "cell_type": "code",
      "execution_count": 32,
      "metadata": {
        "colab": {
          "base_uri": "https://localhost:8080/",
          "height": 122
        },
        "id": "1_Tekii-9QEo",
        "outputId": "949065cf-fe69-4b3c-e37a-3428771c0e28"
      },
      "outputs": [
        {
          "output_type": "display_data",
          "data": {
            "text/plain": [
              "<Figure size 640x480 with 5 Axes>"
            ],
            "image/png": "[encoded data removed]"
          },
          "metadata": {}
        }
      ],
      "source": [
        "def generate_images_diagonal_gaussian(ae_model, z_average, z_sigma, n_images=5):\n",
        "    # create n_images\n",
        "    epsilon = torch.zeros(size=(n_images, ae_model.z_dim))\n",
        "    for k in range(n_images):\n",
        "        epsilon[k, :] = torch.normal(z_average, z_sigma)\n",
        "\n",
        "    z_generated = ae_model.decoder(epsilon)  # FILL IN CODE HERE\n",
        "    imgs_generated = z_generated.detach()\n",
        "    # imgs_generated = ... # FILL IN CODE HERE\n",
        "    return imgs_generated\n",
        "\n",
        "\n",
        "imgs_generated = generate_images_diagonal_gaussian(\n",
        "    ae_model, z_average, z_sigma, n_images=5\n",
        ")\n",
        "display_images(imgs_generated)"
      ]
    },
    {
      "cell_type": "markdown",
      "metadata": {
        "id": "xiNaEgLIloeA"
      },
      "source": [
        "As you should be able to see, these results are not that good. Let's try a slightly more sophisticated model."
      ]
    },
    {
      "cell_type": "markdown",
      "metadata": {
        "id": "WjVPfkRKYMSh"
      },
      "source": [
        "## 2.1 Non-diagonal Gaussian model\n",
        "\n",
        "The second model uses a non-diagonal covariance matrix $\\bf{C}$ in the multivariate Gaussian distribution. In the next cell, calculate the average and covariance matrix over several batches of latent codes.\n",
        "\n",
        "__NB__ You can use the ```torch.cov``` function. Make sure to put the data in the right format for this (see documentation : https://pytorch.org/docs/stable/generated/torch.cov.html)."
      ]
    },
    {
      "cell_type": "code",
      "execution_count": 33,
      "metadata": {
        "colab": {
          "base_uri": "https://localhost:8080/"
        },
        "id": "ArXgre39CD2H",
        "outputId": "c4c7dfbe-4179-44e9-badb-2bd6dd515846"
      },
      "outputs": [
        {
          "output_type": "stream",
          "name": "stdout",
          "text": [
            "Average of latent codes: torch.Size([10])\n",
            "Covariance matrix of latent codes: torch.Size([10, 10])\n"
          ]
        }
      ],
      "source": [
        "n_batches = np.floor(len(mnist_train_loader.dataset.indices) / batch_size).astype(int)\n",
        "\n",
        "z_average = torch.zeros(n_batches, ae_model.z_dim)\n",
        "z_covariance = torch.zeros(n_batches, ae_model.z_dim, ae_model.z_dim)\n",
        "\n",
        "for batch_idx, (data, _) in enumerate(mnist_train_loader):\n",
        "    z = ae_model.encoder(data)\n",
        "    z_average[batch_idx, :] = z.mean(axis=0)\n",
        "\n",
        "    z_covariance[batch_idx, :, :] = torch.cov(z.T)\n",
        "\n",
        "    # z_covariance[batch_idx,:,:] = ... # FILL IN CODE HERE\n",
        "z_average = z_average.mean(axis=0)  # FILL IN CODE HERE\n",
        "z_covariance = z_covariance.mean(axis=0)  # FILL IN CODE HERE\n",
        "\n",
        "print(\"Average of latent codes:\", z_average.shape)\n",
        "print(\"Covariance matrix of latent codes:\", z_covariance.shape)"
      ]
    },
    {
      "cell_type": "markdown",
      "metadata": {
        "id": "JhXU8cnTZ0E8"
      },
      "source": [
        "Now, generate some samples with this distribution. In this case, you will actually have to calculate the Cholesky decomposition and find $\\bf{L}$. For this, you can use\n",
        "\n",
        "- ```torch.linalg.cholesky```\n",
        "\n",
        "In this model, you will need to carry out matrix multiplication over a batch of latent codes, which is a bit more complicated than the previous naÃ¯ve model (which used element-wise vector multiplication). So you have two options:\n",
        "\n",
        "- copy the matrix $\\bf{L}$ several times and carry out batch matrix multiplication\n",
        "- simply loop and carry out normal matrix multiplication to produce each image (this has the disadvantage of not taking advantage of any parallelisation, but it should not matter too much).\n",
        "\n",
        "In the first case, you can use the following functions:\n",
        "\n",
        "- ```torch.bmm```\n",
        "- ```torch.tile```\n",
        "\n",
        "Fill in the function to generate images using this model now:"
      ]
    },
    {
      "cell_type": "code",
      "execution_count": 34,
      "metadata": {
        "colab": {
          "base_uri": "https://localhost:8080/",
          "height": 122
        },
        "id": "zXGlJTZ7Z4ed",
        "outputId": "b6679033-aa4c-49cf-a2ef-75b9c7479c0f"
      },
      "outputs": [
        {
          "output_type": "display_data",
          "data": {
            "text/plain": [
              "<Figure size 640x480 with 5 Axes>"
            ],
            "image/png": "[encoded data removed]"
          },
          "metadata": {}
        }
      ],
      "source": [
        "def generate_images_non_diagonal_gaussian(\n",
        "    ae_model, z_average, z_covariance, n_images=5\n",
        "):\n",
        "    # calcualte Cholesky decomposition of covariance matrix : C = L L^T\n",
        "    # Make sure that the first dimension is the batch dimension (with batch size n_images)\n",
        "    # You can use the torch.unsqueeze function for this\n",
        "    L = torch.linalg.cholesky(z_covariance)  # Shape (latent_dim, latent_dim)\n",
        "\n",
        "    # Ensure z_average has correct shape (1, latent_dim) and expand to (n_images, latent_dim)\n",
        "    z_average = z_average.unsqueeze(0).expand(n_images, -1)\n",
        "\n",
        "    # Sample standard normal distribution: shape (n_images, latent_dim)\n",
        "    epsilon = torch.randn(n_images, z_average.shape[1])\n",
        "\n",
        "    # Apply transformation to sample from the multivariate Gaussian: z = μ + L * ε\n",
        "    z_samples = z_average + epsilon @ L.T  # (n_images, latent_dim)\n",
        "\n",
        "    z_generated = ae_model.decoder(z_samples)  # FILL IN CODE HERE\n",
        "    imgs_generated = z_generated.detach()\n",
        "    # imgs_generated = ... # FILL IN CODE HERE\n",
        "    return imgs_generated\n",
        "\n",
        "\n",
        "imgs_generated = generate_images_non_diagonal_gaussian(\n",
        "    ae_model, z_average, z_covariance, n_images=5\n",
        ")\n",
        "display_images(imgs_generated)"
      ]
    },
    {
      "cell_type": "markdown",
      "metadata": {
        "id": "qLtsdri6zKEm"
      },
      "source": [
        "You should see some improvement, but we can do better than this. Thus, we turn to the variational autoencoder."
      ]
    },
    {
      "cell_type": "markdown",
      "metadata": {
        "id": "8UqeNhuSdnDt"
      },
      "source": [
        "# 3/ Variational autoencoder\n",
        "\n",
        "Now, we are going to create an variational autoencoder to carry out __image generation__. Let's first recall the idea of a variational autoencoder\n",
        "\n",
        "## Main idea\n",
        "\n",
        "The main idea is to create an autoencoder whose latent codes follow a certain distribution (a Gaussian distribution in practice). This is done with two tools :\n",
        "\n",
        "- A specific architecture, where the encoder produces the average and variance of the latent codes\n",
        "- A specially designed loss function\n",
        "\n",
        "Once the VAE is trained, it is possible to sample in the latent space by producing random normal variables and simply decoding.\n",
        "\n",
        "## Architecture\n",
        "\n",
        "The architecture of the VAE model is as follows:\n",
        "\n",
        "The encoder consists of:\n",
        "\n",
        "Encoder :\n",
        "- Flatten input\n",
        "- Dense layer $+$ ReLU\n",
        "- Dense layer $+$ ReLU\n",
        "- Dense layer (no non-linarity) to produce the average, Dense layer (no non-linarity) to produce the variance (these last two layers are in parallel)\n",
        "\n",
        "Decoder :\n",
        "- Dense layer $+$ ReLU\n",
        "- Dense layer $+$ ReLU\n",
        "- Dense layer $+$ Sigmoid Activation\n",
        "- Reshape, to size $28\\times 28\\times 1$\n",
        "\n",
        "\n",
        "## Variational Autoencoder loss\n",
        "\n",
        "Recall that for the VAE, the loss function is in fact a function to __maximise__. In fact, for implementation, you will see that it is easier to __minimise__ $-\\mathcal{L}$.\n",
        "\n",
        "In the case of an image which is represented by a set of __Bernoulli__ variables (which is relevant for mnist), the original loss function (to maximise) is written :\n",
        "\n",
        "\n",
        "\\begin{align}\n",
        "\\mathcal{L} &= \\log\\left(p_\\theta(x|z)\\right) - KL\\left( q_\\phi(z|x) \\; || \\; p_\\theta(z)\\right) \\\\\n",
        "    &= \\left(\\sum_{i} x_i \\log y_i + (1-x_i) \\log (1-y_i)\\right) - \\left(\\frac{1}{2} \\sum_j \\left( \\sigma_j^2 + \\mu_j^2 - \\log \\sigma_j^2 -1 \\right)\\right)\n",
        "\\end{align}\n",
        "\n",
        "\n",
        "where $i$ is summed over the image pixels, and $j$ is summed over the elements of the latent space. $\\sigma_j^2$ is the $j$th element of the latent space variance, and $\\mu_j$ is the $j$th element of the latent space mean.\n",
        "\n",
        "The left part of the loss (reconstruction error) can be implemented simply as the binary cross-entropy between the input x and the output y. Since we are __maximising__ $-$[binary cross-entropy] (look at the formula), this is equivalent to minimising the binary cross-entropy.\n",
        "\n",
        "For the right part of the equation (KL divergence), you need to implement it manually.\n",
        "\n",
        "The final loss is the average, over the batch size, of the sum of the reconstruction error (left part) and the KL divergence (right part). Be careful, in the formula, the sums over $i$ and $j$ are over the number of pixels and the number of latent elements, respectively. To achieve a sum rather than an average, you can use ```torch.nn.BCELoss(reduction='sum')()```, and the ```torch.sum()``` functions.\n",
        "\n",
        "As in the case of the normal autoencoder, you will need to flatten and then reshape the tensors at the beginning/end of the network."
      ]
    },
    {
      "cell_type": "code",
      "execution_count": 35,
      "metadata": {
        "id": "6siMHQLheM4T"
      },
      "outputs": [],
      "source": [
        "class VAE(torch.nn.Module):\n",
        "    def __init__(self, x_dim, h_dim1, h_dim2, z_dim, n_rows, n_cols, n_channels):\n",
        "        super(VAE, self).__init__()\n",
        "\n",
        "        self.n_rows = n_rows\n",
        "        self.n_cols = n_cols\n",
        "        self.n_channels = n_channels\n",
        "        self.n_pixels = (self.n_rows) * (self.n_cols)\n",
        "        self.z_dim = z_dim\n",
        "\n",
        "        # encoder part\n",
        "        self.fc1 = nn.Linear(x_dim, h_dim1)  # FILL IN CODE HERE\n",
        "        self.fc2 = nn.Linear(h_dim1, h_dim2)  # FILL IN CODE HERE\n",
        "        self.fc3_mu = nn.Linear(h_dim2, z_dim)  # FILL IN CODE HERE\n",
        "        self.fc3_var = nn.Linear(h_dim2, z_dim)  # FILL IN CODE HERE\n",
        "        # decoder part\n",
        "        self.fc4 = nn.Linear(z_dim, h_dim2)  # FILL IN CODE HERE\n",
        "        self.fc5 = nn.Linear(h_dim2, h_dim1)  # FILL IN CODE HERE\n",
        "        self.fc6 = nn.Linear(h_dim1, x_dim)  # FILL IN CODE HERE\n",
        "        self.activation = nn.ReLU()\n",
        "\n",
        "    def encoder(self, x):\n",
        "        # flatten h\n",
        "        h = x.flatten(start_dim=1)\n",
        "        h = self.fc1(h)\n",
        "        h = self.activation(h)\n",
        "        h = self.fc2(h)\n",
        "        h = self.activation(h)\n",
        "        mu = self.fc3_mu(h)\n",
        "        log_var = self.fc3_var(h)\n",
        "        return mu, log_var\n",
        "\n",
        "    def decoder(self, z):\n",
        "        h = self.activation(self.fc4(z))\n",
        "        h = self.activation(self.fc5(h))\n",
        "        h = self.fc6(h)  # FILL IN CODE HERE\n",
        "        # classify it\n",
        "        h = torch.sigmoid(h)\n",
        "        h = h.reshape((h.shape[0], self.n_channels, self.n_rows, self.n_cols))\n",
        "\n",
        "        return h\n",
        "\n",
        "    def sampling(self, mu, log_var):\n",
        "        # this function samples a Gaussian distribution, with average (mu) and standard deviation specified (using log_var)\n",
        "        std = log_var.exp()\n",
        "        eps = torch.randn_like(std)\n",
        "        return eps.mul(std).add_(mu)  # return z sample\n",
        "\n",
        "    def forward(self, x):\n",
        "        z_mu, z_log_var = self.encoder(x)\n",
        "        z = self.sampling(z_mu, z_log_var)\n",
        "        return self.decoder(z), z_mu, z_log_var\n",
        "\n",
        "    def loss_function(self, x, y, mu, log_var):\n",
        "        reconstruction_error = F.binary_cross_entropy(y, x, reduction=\"sum\")\n",
        "        KLD = -0.5 * torch.sum(1 + log_var - mu.pow(2) - log_var.exp())\n",
        "        # KLD = ... # FILL IN CODE HERE\n",
        "        Loss = reconstruction_error + KLD\n",
        "\n",
        "        return Loss  # FILL IN CODE HERE"
      ]
    },
    {
      "cell_type": "markdown",
      "metadata": {
        "id": "hk_9fDIphlsi"
      },
      "source": [
        "Now, create the model (similarly as above)"
      ]
    },
    {
      "cell_type": "code",
      "execution_count": 36,
      "metadata": {
        "id": "pVlpC2R3htyU"
      },
      "outputs": [],
      "source": [
        "# create model\n",
        "vae_dim_1 = ae_dim_1\n",
        "vae_dim_2 = ae_dim_2\n",
        "vae_model = VAE(\n",
        "    x_dim=n_pixels,\n",
        "    h_dim1=vae_dim_1,\n",
        "    h_dim2=vae_dim_2,\n",
        "    z_dim=z_dim,\n",
        "    n_rows=n_rows,\n",
        "    n_cols=n_cols,\n",
        "    n_channels=n_channels,\n",
        ")\n",
        "vae_optimizer = optim.Adam(vae_model.parameters())"
      ]
    },
    {
      "cell_type": "markdown",
      "metadata": {
        "id": "NYKLF_oMh5HO"
      },
      "source": [
        "Finally, train the model. First modify the training function to the case of the vae."
      ]
    },
    {
      "cell_type": "code",
      "execution_count": 37,
      "metadata": {
        "id": "z6DjKTWmmssb",
        "colab": {
          "base_uri": "https://localhost:8080/"
        },
        "outputId": "08ca64e6-9fa3-472f-e5a7-badd40615c74"
      },
      "outputs": [
        {
          "output_type": "stream",
          "name": "stdout",
          "text": [
            "Train Epoch: 0 [0/1000 (0%)]\tLoss: 545.330383\n",
            "====> Epoch: 0 Average loss: 408.3879\n",
            "Train Epoch: 1 [0/1000 (0%)]\tLoss: 309.491669\n",
            "====> Epoch: 1 Average loss: 235.4176\n",
            "Train Epoch: 2 [0/1000 (0%)]\tLoss: 225.836578\n",
            "====> Epoch: 2 Average loss: 194.0422\n",
            "Train Epoch: 3 [0/1000 (0%)]\tLoss: 209.666306\n",
            "====> Epoch: 3 Average loss: 189.3808\n",
            "Train Epoch: 4 [0/1000 (0%)]\tLoss: 209.699020\n",
            "====> Epoch: 4 Average loss: 185.8416\n",
            "Train Epoch: 5 [0/1000 (0%)]\tLoss: 196.322006\n",
            "====> Epoch: 5 Average loss: 184.9411\n",
            "Train Epoch: 6 [0/1000 (0%)]\tLoss: 210.975647\n",
            "====> Epoch: 6 Average loss: 183.5567\n",
            "Train Epoch: 7 [0/1000 (0%)]\tLoss: 199.479324\n",
            "====> Epoch: 7 Average loss: 180.7876\n",
            "Train Epoch: 8 [0/1000 (0%)]\tLoss: 198.565720\n",
            "====> Epoch: 8 Average loss: 176.2960\n",
            "Train Epoch: 9 [0/1000 (0%)]\tLoss: 188.664108\n",
            "====> Epoch: 9 Average loss: 172.4699\n",
            "Train Epoch: 10 [0/1000 (0%)]\tLoss: 185.678085\n",
            "====> Epoch: 10 Average loss: 170.9091\n",
            "Train Epoch: 11 [0/1000 (0%)]\tLoss: 194.047806\n",
            "====> Epoch: 11 Average loss: 169.5763\n",
            "Train Epoch: 12 [0/1000 (0%)]\tLoss: 189.854568\n",
            "====> Epoch: 12 Average loss: 169.2166\n",
            "Train Epoch: 13 [0/1000 (0%)]\tLoss: 193.308304\n",
            "====> Epoch: 13 Average loss: 167.9476\n",
            "Train Epoch: 14 [0/1000 (0%)]\tLoss: 190.004745\n",
            "====> Epoch: 14 Average loss: 168.2794\n",
            "Train Epoch: 15 [0/1000 (0%)]\tLoss: 186.792542\n",
            "====> Epoch: 15 Average loss: 167.4138\n",
            "Train Epoch: 16 [0/1000 (0%)]\tLoss: 191.077621\n",
            "====> Epoch: 16 Average loss: 167.3886\n",
            "Train Epoch: 17 [0/1000 (0%)]\tLoss: 188.016968\n",
            "====> Epoch: 17 Average loss: 167.3524\n",
            "Train Epoch: 18 [0/1000 (0%)]\tLoss: 180.971176\n",
            "====> Epoch: 18 Average loss: 166.8105\n",
            "Train Epoch: 19 [0/1000 (0%)]\tLoss: 180.296509\n",
            "====> Epoch: 19 Average loss: 166.8502\n",
            "Train Epoch: 20 [0/1000 (0%)]\tLoss: 183.200333\n",
            "====> Epoch: 20 Average loss: 166.1698\n",
            "Train Epoch: 21 [0/1000 (0%)]\tLoss: 187.174973\n",
            "====> Epoch: 21 Average loss: 166.3558\n",
            "Train Epoch: 22 [0/1000 (0%)]\tLoss: 181.928131\n",
            "====> Epoch: 22 Average loss: 165.0163\n",
            "Train Epoch: 23 [0/1000 (0%)]\tLoss: 187.204941\n",
            "====> Epoch: 23 Average loss: 164.1530\n",
            "Train Epoch: 24 [0/1000 (0%)]\tLoss: 173.489426\n",
            "====> Epoch: 24 Average loss: 164.0381\n",
            "Train Epoch: 25 [0/1000 (0%)]\tLoss: 183.463272\n",
            "====> Epoch: 25 Average loss: 163.8102\n",
            "Train Epoch: 26 [0/1000 (0%)]\tLoss: 177.204788\n",
            "====> Epoch: 26 Average loss: 164.1537\n",
            "Train Epoch: 27 [0/1000 (0%)]\tLoss: 181.163193\n",
            "====> Epoch: 27 Average loss: 163.0565\n",
            "Train Epoch: 28 [0/1000 (0%)]\tLoss: 182.677826\n",
            "====> Epoch: 28 Average loss: 162.4800\n",
            "Train Epoch: 29 [0/1000 (0%)]\tLoss: 179.714783\n",
            "====> Epoch: 29 Average loss: 162.4815\n",
            "Train Epoch: 30 [0/1000 (0%)]\tLoss: 177.267639\n",
            "====> Epoch: 30 Average loss: 162.0998\n",
            "Train Epoch: 31 [0/1000 (0%)]\tLoss: 179.526260\n",
            "====> Epoch: 31 Average loss: 161.8793\n",
            "Train Epoch: 32 [0/1000 (0%)]\tLoss: 180.350952\n",
            "====> Epoch: 32 Average loss: 161.0362\n",
            "Train Epoch: 33 [0/1000 (0%)]\tLoss: 182.472565\n",
            "====> Epoch: 33 Average loss: 161.3763\n",
            "Train Epoch: 34 [0/1000 (0%)]\tLoss: 178.519089\n",
            "====> Epoch: 34 Average loss: 159.7587\n",
            "Train Epoch: 35 [0/1000 (0%)]\tLoss: 175.507004\n",
            "====> Epoch: 35 Average loss: 160.8386\n",
            "Train Epoch: 36 [0/1000 (0%)]\tLoss: 179.865662\n",
            "====> Epoch: 36 Average loss: 160.5483\n",
            "Train Epoch: 37 [0/1000 (0%)]\tLoss: 181.052094\n",
            "====> Epoch: 37 Average loss: 160.4746\n",
            "Train Epoch: 38 [0/1000 (0%)]\tLoss: 182.123505\n",
            "====> Epoch: 38 Average loss: 160.0321\n",
            "Train Epoch: 39 [0/1000 (0%)]\tLoss: 177.501724\n",
            "====> Epoch: 39 Average loss: 159.3917\n",
            "Train Epoch: 40 [0/1000 (0%)]\tLoss: 174.594391\n",
            "====> Epoch: 40 Average loss: 159.9570\n",
            "Train Epoch: 41 [0/1000 (0%)]\tLoss: 177.941208\n",
            "====> Epoch: 41 Average loss: 159.2641\n",
            "Train Epoch: 42 [0/1000 (0%)]\tLoss: 170.931595\n",
            "====> Epoch: 42 Average loss: 158.8161\n",
            "Train Epoch: 43 [0/1000 (0%)]\tLoss: 181.372131\n",
            "====> Epoch: 43 Average loss: 159.0813\n",
            "Train Epoch: 44 [0/1000 (0%)]\tLoss: 173.273544\n",
            "====> Epoch: 44 Average loss: 158.9917\n",
            "Train Epoch: 45 [0/1000 (0%)]\tLoss: 178.187302\n",
            "====> Epoch: 45 Average loss: 158.7685\n",
            "Train Epoch: 46 [0/1000 (0%)]\tLoss: 180.038086\n",
            "====> Epoch: 46 Average loss: 159.5888\n",
            "Train Epoch: 47 [0/1000 (0%)]\tLoss: 174.362259\n",
            "====> Epoch: 47 Average loss: 158.0748\n",
            "Train Epoch: 48 [0/1000 (0%)]\tLoss: 181.021820\n",
            "====> Epoch: 48 Average loss: 158.0579\n",
            "Train Epoch: 49 [0/1000 (0%)]\tLoss: 168.521210\n",
            "====> Epoch: 49 Average loss: 158.0064\n",
            "Train Epoch: 50 [0/1000 (0%)]\tLoss: 177.295776\n",
            "====> Epoch: 50 Average loss: 157.8083\n",
            "Train Epoch: 51 [0/1000 (0%)]\tLoss: 176.220016\n",
            "====> Epoch: 51 Average loss: 158.1511\n",
            "Train Epoch: 52 [0/1000 (0%)]\tLoss: 177.248795\n",
            "====> Epoch: 52 Average loss: 157.2496\n",
            "Train Epoch: 53 [0/1000 (0%)]\tLoss: 177.997940\n",
            "====> Epoch: 53 Average loss: 156.2507\n",
            "Train Epoch: 54 [0/1000 (0%)]\tLoss: 174.143326\n",
            "====> Epoch: 54 Average loss: 156.8448\n",
            "Train Epoch: 55 [0/1000 (0%)]\tLoss: 172.362381\n",
            "====> Epoch: 55 Average loss: 156.4400\n",
            "Train Epoch: 56 [0/1000 (0%)]\tLoss: 171.714447\n",
            "====> Epoch: 56 Average loss: 156.1954\n",
            "Train Epoch: 57 [0/1000 (0%)]\tLoss: 169.439377\n",
            "====> Epoch: 57 Average loss: 156.0290\n",
            "Train Epoch: 58 [0/1000 (0%)]\tLoss: 165.071167\n",
            "====> Epoch: 58 Average loss: 156.4950\n",
            "Train Epoch: 59 [0/1000 (0%)]\tLoss: 174.084274\n",
            "====> Epoch: 59 Average loss: 156.5346\n",
            "Train Epoch: 60 [0/1000 (0%)]\tLoss: 168.281952\n",
            "====> Epoch: 60 Average loss: 155.6679\n",
            "Train Epoch: 61 [0/1000 (0%)]\tLoss: 174.703445\n",
            "====> Epoch: 61 Average loss: 156.4017\n",
            "Train Epoch: 62 [0/1000 (0%)]\tLoss: 172.821091\n",
            "====> Epoch: 62 Average loss: 155.4883\n",
            "Train Epoch: 63 [0/1000 (0%)]\tLoss: 176.012436\n",
            "====> Epoch: 63 Average loss: 155.5199\n",
            "Train Epoch: 64 [0/1000 (0%)]\tLoss: 179.444931\n",
            "====> Epoch: 64 Average loss: 156.3127\n",
            "Train Epoch: 65 [0/1000 (0%)]\tLoss: 171.880630\n",
            "====> Epoch: 65 Average loss: 155.6116\n",
            "Train Epoch: 66 [0/1000 (0%)]\tLoss: 167.820038\n",
            "====> Epoch: 66 Average loss: 154.7750\n",
            "Train Epoch: 67 [0/1000 (0%)]\tLoss: 177.653595\n",
            "====> Epoch: 67 Average loss: 154.2112\n",
            "Train Epoch: 68 [0/1000 (0%)]\tLoss: 164.539871\n",
            "====> Epoch: 68 Average loss: 154.9987\n",
            "Train Epoch: 69 [0/1000 (0%)]\tLoss: 178.178360\n",
            "====> Epoch: 69 Average loss: 154.1804\n",
            "Train Epoch: 70 [0/1000 (0%)]\tLoss: 169.509705\n",
            "====> Epoch: 70 Average loss: 154.8135\n",
            "Train Epoch: 71 [0/1000 (0%)]\tLoss: 174.265137\n",
            "====> Epoch: 71 Average loss: 154.0041\n",
            "Train Epoch: 72 [0/1000 (0%)]\tLoss: 162.048157\n",
            "====> Epoch: 72 Average loss: 153.6082\n",
            "Train Epoch: 73 [0/1000 (0%)]\tLoss: 166.186035\n",
            "====> Epoch: 73 Average loss: 154.4489\n",
            "Train Epoch: 74 [0/1000 (0%)]\tLoss: 171.344955\n",
            "====> Epoch: 74 Average loss: 153.9219\n",
            "Train Epoch: 75 [0/1000 (0%)]\tLoss: 173.731537\n",
            "====> Epoch: 75 Average loss: 152.9796\n",
            "Train Epoch: 76 [0/1000 (0%)]\tLoss: 165.423187\n",
            "====> Epoch: 76 Average loss: 153.6257\n",
            "Train Epoch: 77 [0/1000 (0%)]\tLoss: 160.851578\n",
            "====> Epoch: 77 Average loss: 152.8602\n",
            "Train Epoch: 78 [0/1000 (0%)]\tLoss: 173.525513\n",
            "====> Epoch: 78 Average loss: 153.1623\n",
            "Train Epoch: 79 [0/1000 (0%)]\tLoss: 166.865906\n",
            "====> Epoch: 79 Average loss: 152.1573\n",
            "Train Epoch: 80 [0/1000 (0%)]\tLoss: 171.632614\n",
            "====> Epoch: 80 Average loss: 152.2119\n",
            "Train Epoch: 81 [0/1000 (0%)]\tLoss: 170.642639\n",
            "====> Epoch: 81 Average loss: 152.8927\n",
            "Train Epoch: 82 [0/1000 (0%)]\tLoss: 168.399796\n",
            "====> Epoch: 82 Average loss: 152.4298\n",
            "Train Epoch: 83 [0/1000 (0%)]\tLoss: 166.164169\n",
            "====> Epoch: 83 Average loss: 152.8072\n",
            "Train Epoch: 84 [0/1000 (0%)]\tLoss: 160.267593\n",
            "====> Epoch: 84 Average loss: 152.4574\n",
            "Train Epoch: 85 [0/1000 (0%)]\tLoss: 167.122375\n",
            "====> Epoch: 85 Average loss: 152.0557\n",
            "Train Epoch: 86 [0/1000 (0%)]\tLoss: 163.120758\n",
            "====> Epoch: 86 Average loss: 152.4718\n",
            "Train Epoch: 87 [0/1000 (0%)]\tLoss: 165.876160\n",
            "====> Epoch: 87 Average loss: 152.0084\n",
            "Train Epoch: 88 [0/1000 (0%)]\tLoss: 171.615662\n",
            "====> Epoch: 88 Average loss: 151.9391\n",
            "Train Epoch: 89 [0/1000 (0%)]\tLoss: 173.829926\n",
            "====> Epoch: 89 Average loss: 151.6060\n",
            "Train Epoch: 90 [0/1000 (0%)]\tLoss: 174.338272\n",
            "====> Epoch: 90 Average loss: 151.3423\n",
            "Train Epoch: 91 [0/1000 (0%)]\tLoss: 168.763702\n",
            "====> Epoch: 91 Average loss: 152.0573\n",
            "Train Epoch: 92 [0/1000 (0%)]\tLoss: 164.706406\n",
            "====> Epoch: 92 Average loss: 151.3323\n",
            "Train Epoch: 93 [0/1000 (0%)]\tLoss: 164.745468\n",
            "====> Epoch: 93 Average loss: 151.7957\n",
            "Train Epoch: 94 [0/1000 (0%)]\tLoss: 167.736526\n",
            "====> Epoch: 94 Average loss: 150.8546\n",
            "Train Epoch: 95 [0/1000 (0%)]\tLoss: 165.243408\n",
            "====> Epoch: 95 Average loss: 151.5590\n",
            "Train Epoch: 96 [0/1000 (0%)]\tLoss: 167.950729\n",
            "====> Epoch: 96 Average loss: 151.4665\n",
            "Train Epoch: 97 [0/1000 (0%)]\tLoss: 167.331512\n",
            "====> Epoch: 97 Average loss: 151.0591\n",
            "Train Epoch: 98 [0/1000 (0%)]\tLoss: 167.796021\n",
            "====> Epoch: 98 Average loss: 150.6627\n",
            "Train Epoch: 99 [0/1000 (0%)]\tLoss: 168.635193\n",
            "====> Epoch: 99 Average loss: 150.7494\n",
            "Train Epoch: 100 [0/1000 (0%)]\tLoss: 172.894592\n",
            "====> Epoch: 100 Average loss: 150.0379\n",
            "Train Epoch: 101 [0/1000 (0%)]\tLoss: 170.928406\n",
            "====> Epoch: 101 Average loss: 150.7177\n",
            "Train Epoch: 102 [0/1000 (0%)]\tLoss: 168.950638\n",
            "====> Epoch: 102 Average loss: 150.3767\n",
            "Train Epoch: 103 [0/1000 (0%)]\tLoss: 171.096024\n",
            "====> Epoch: 103 Average loss: 150.8812\n",
            "Train Epoch: 104 [0/1000 (0%)]\tLoss: 167.973297\n",
            "====> Epoch: 104 Average loss: 149.6916\n",
            "Train Epoch: 105 [0/1000 (0%)]\tLoss: 174.538513\n",
            "====> Epoch: 105 Average loss: 150.9697\n",
            "Train Epoch: 106 [0/1000 (0%)]\tLoss: 167.283676\n",
            "====> Epoch: 106 Average loss: 150.7823\n",
            "Train Epoch: 107 [0/1000 (0%)]\tLoss: 161.324295\n",
            "====> Epoch: 107 Average loss: 149.8689\n",
            "Train Epoch: 108 [0/1000 (0%)]\tLoss: 169.309372\n",
            "====> Epoch: 108 Average loss: 150.3164\n",
            "Train Epoch: 109 [0/1000 (0%)]\tLoss: 161.467651\n",
            "====> Epoch: 109 Average loss: 150.2772\n",
            "Train Epoch: 110 [0/1000 (0%)]\tLoss: 165.149124\n",
            "====> Epoch: 110 Average loss: 149.6904\n",
            "Train Epoch: 111 [0/1000 (0%)]\tLoss: 165.676682\n",
            "====> Epoch: 111 Average loss: 149.3656\n",
            "Train Epoch: 112 [0/1000 (0%)]\tLoss: 168.686951\n",
            "====> Epoch: 112 Average loss: 150.1671\n",
            "Train Epoch: 113 [0/1000 (0%)]\tLoss: 174.929550\n",
            "====> Epoch: 113 Average loss: 150.0716\n",
            "Train Epoch: 114 [0/1000 (0%)]\tLoss: 164.112595\n",
            "====> Epoch: 114 Average loss: 149.5287\n",
            "Train Epoch: 115 [0/1000 (0%)]\tLoss: 167.874786\n",
            "====> Epoch: 115 Average loss: 149.2227\n",
            "Train Epoch: 116 [0/1000 (0%)]\tLoss: 167.105637\n",
            "====> Epoch: 116 Average loss: 148.0195\n",
            "Train Epoch: 117 [0/1000 (0%)]\tLoss: 175.746704\n",
            "====> Epoch: 117 Average loss: 148.7972\n",
            "Train Epoch: 118 [0/1000 (0%)]\tLoss: 171.685318\n",
            "====> Epoch: 118 Average loss: 149.6158\n",
            "Train Epoch: 119 [0/1000 (0%)]\tLoss: 168.150040\n",
            "====> Epoch: 119 Average loss: 148.9300\n",
            "Train Epoch: 120 [0/1000 (0%)]\tLoss: 167.902481\n",
            "====> Epoch: 120 Average loss: 148.5806\n",
            "Train Epoch: 121 [0/1000 (0%)]\tLoss: 164.231796\n",
            "====> Epoch: 121 Average loss: 149.5254\n",
            "Train Epoch: 122 [0/1000 (0%)]\tLoss: 163.636719\n",
            "====> Epoch: 122 Average loss: 148.6998\n",
            "Train Epoch: 123 [0/1000 (0%)]\tLoss: 156.890167\n",
            "====> Epoch: 123 Average loss: 148.4398\n",
            "Train Epoch: 124 [0/1000 (0%)]\tLoss: 161.504440\n",
            "====> Epoch: 124 Average loss: 148.1186\n",
            "Train Epoch: 125 [0/1000 (0%)]\tLoss: 170.571152\n",
            "====> Epoch: 125 Average loss: 148.7681\n",
            "Train Epoch: 126 [0/1000 (0%)]\tLoss: 167.649231\n",
            "====> Epoch: 126 Average loss: 148.3857\n",
            "Train Epoch: 127 [0/1000 (0%)]\tLoss: 171.116394\n",
            "====> Epoch: 127 Average loss: 148.7692\n",
            "Train Epoch: 128 [0/1000 (0%)]\tLoss: 165.944031\n",
            "====> Epoch: 128 Average loss: 148.4360\n",
            "Train Epoch: 129 [0/1000 (0%)]\tLoss: 162.748383\n",
            "====> Epoch: 129 Average loss: 148.6875\n",
            "Train Epoch: 130 [0/1000 (0%)]\tLoss: 155.658005\n",
            "====> Epoch: 130 Average loss: 147.9219\n",
            "Train Epoch: 131 [0/1000 (0%)]\tLoss: 167.341690\n",
            "====> Epoch: 131 Average loss: 148.8303\n",
            "Train Epoch: 132 [0/1000 (0%)]\tLoss: 171.416992\n",
            "====> Epoch: 132 Average loss: 148.7909\n",
            "Train Epoch: 133 [0/1000 (0%)]\tLoss: 165.369980\n",
            "====> Epoch: 133 Average loss: 148.6290\n",
            "Train Epoch: 134 [0/1000 (0%)]\tLoss: 167.974411\n",
            "====> Epoch: 134 Average loss: 148.9202\n",
            "Train Epoch: 135 [0/1000 (0%)]\tLoss: 160.902435\n",
            "====> Epoch: 135 Average loss: 147.7746\n",
            "Train Epoch: 136 [0/1000 (0%)]\tLoss: 162.878006\n",
            "====> Epoch: 136 Average loss: 147.6559\n",
            "Train Epoch: 137 [0/1000 (0%)]\tLoss: 159.443924\n",
            "====> Epoch: 137 Average loss: 148.1543\n",
            "Train Epoch: 138 [0/1000 (0%)]\tLoss: 163.223541\n",
            "====> Epoch: 138 Average loss: 148.2096\n",
            "Train Epoch: 139 [0/1000 (0%)]\tLoss: 162.549652\n",
            "====> Epoch: 139 Average loss: 146.9860\n",
            "Train Epoch: 140 [0/1000 (0%)]\tLoss: 166.219421\n",
            "====> Epoch: 140 Average loss: 148.3876\n",
            "Train Epoch: 141 [0/1000 (0%)]\tLoss: 163.366531\n",
            "====> Epoch: 141 Average loss: 147.0403\n",
            "Train Epoch: 142 [0/1000 (0%)]\tLoss: 163.246567\n",
            "====> Epoch: 142 Average loss: 147.7900\n",
            "Train Epoch: 143 [0/1000 (0%)]\tLoss: 168.805618\n",
            "====> Epoch: 143 Average loss: 148.4780\n",
            "Train Epoch: 144 [0/1000 (0%)]\tLoss: 161.694595\n",
            "====> Epoch: 144 Average loss: 147.3007\n",
            "Train Epoch: 145 [0/1000 (0%)]\tLoss: 168.821991\n",
            "====> Epoch: 145 Average loss: 147.0663\n",
            "Train Epoch: 146 [0/1000 (0%)]\tLoss: 157.203323\n",
            "====> Epoch: 146 Average loss: 147.4870\n",
            "Train Epoch: 147 [0/1000 (0%)]\tLoss: 167.199829\n",
            "====> Epoch: 147 Average loss: 146.9753\n",
            "Train Epoch: 148 [0/1000 (0%)]\tLoss: 161.933701\n",
            "====> Epoch: 148 Average loss: 147.8848\n",
            "Train Epoch: 149 [0/1000 (0%)]\tLoss: 176.393631\n",
            "====> Epoch: 149 Average loss: 146.9724\n"
          ]
        }
      ],
      "source": [
        "def train_vae(vae_model, data_train_loader, epoch):\n",
        "    train_loss = 0\n",
        "    for batch_idx, (data, _) in enumerate(data_train_loader):\n",
        "        vae_optimizer.zero_grad()\n",
        "\n",
        "        y, z_mu, z_log_var = vae_model(data)  # FILL IN CODE HERE\n",
        "        loss_vae = vae_model.loss_function(\n",
        "            data, y, z_mu, z_log_var\n",
        "        )  # FILL IN CODE HERE\n",
        "        loss_vae.backward()\n",
        "        train_loss += loss_vae.item()\n",
        "        vae_optimizer.step()\n",
        "\n",
        "        if batch_idx % 100 == 0:\n",
        "            print(\n",
        "                \"Train Epoch: {} [{}/{} ({:.0f}%)]\\tLoss: {:.6f}\".format(\n",
        "                    epoch,\n",
        "                    batch_idx * len(data),\n",
        "                    len(data_train_loader.dataset),\n",
        "                    100.0 * batch_idx / len(data_train_loader),\n",
        "                    loss_vae.item() / len(data),\n",
        "                )\n",
        "            )\n",
        "    print(\n",
        "        \"====> Epoch: {} Average loss: {:.4f}\".format(\n",
        "            epoch, train_loss / len(data_train_loader.dataset)\n",
        "        )\n",
        "    )\n",
        "\n",
        "\n",
        "# now train the model\n",
        "# create model\n",
        "n_epochs = 150\n",
        "vae_dim_1 = ae_dim_1\n",
        "vae_dim_2 = ae_dim_2\n",
        "z_dimtest = 1\n",
        "vae_model = VAE(\n",
        "    x_dim=n_pixels,\n",
        "    h_dim1=vae_dim_1,\n",
        "    h_dim2=vae_dim_2,\n",
        "    z_dim=z_dimtest,\n",
        "    n_rows=n_rows,\n",
        "    n_cols=n_cols,\n",
        "    n_channels=n_channels,\n",
        ")\n",
        "vae_optimizer = optim.Adam(vae_model.parameters())\n",
        "for epoch in range(0, n_epochs):\n",
        "    train_vae(vae_model, mnist_train_loader, epoch)"
      ]
    },
    {
      "cell_type": "markdown",
      "metadata": {
        "id": "uTfRje_AkKDr"
      },
      "source": [
        "Now, generate some images with the VAE model"
      ]
    },
    {
      "cell_type": "code",
      "execution_count": 38,
      "metadata": {
        "colab": {
          "base_uri": "https://localhost:8080/",
          "height": 139
        },
        "id": "41tXdNsFkKk5",
        "outputId": "8c983cc6-c427-48c2-c727-a09a1b91392f"
      },
      "outputs": [
        {
          "output_type": "stream",
          "name": "stdout",
          "text": [
            "torch.Size([5, 1, 28, 28])\n"
          ]
        },
        {
          "output_type": "display_data",
          "data": {
            "text/plain": [
              "<Figure size 640x480 with 5 Axes>"
            ],
            "image/png": "[encoded data removed]"
          },
          "metadata": {}
        }
      ],
      "source": [
        "def generate_images_vae(vae_model, n_images=5):\n",
        "    # create n_images\n",
        "    epsilon = torch.randn(size=(n_images, vae_model.z_dim))\n",
        "    z_generated = vae_model.decoder(epsilon)  # FILL IN CODE HERE\n",
        "    imgs_generated = z_generated.detach()\n",
        "    print(imgs_generated.shape)\n",
        "    # imgs_generated = ... # FILL IN CODE HERE\n",
        "    return imgs_generated\n",
        "\n",
        "\n",
        "imgs_generated = generate_images_vae(vae_model, n_images=5)\n",
        "display_images(imgs_generated)"
      ]
    },
    {
      "cell_type": "markdown",
      "metadata": {
        "id": "lGnvKoynzaFN"
      },
      "source": [
        "Do you think the results are better ? What difference can you see ? What advantage does the Variational Autoencoder have over the simple autoencoder model, even though the second autoencoder approach has a more complex probabilistic latent model (a full covariance matrix) ?\n",
        "\n",
        "The results generated by the VAE appear to be slightly worse in terms of reconstruction quality compared to the standard autoencoder. The reconstructed images exhibit significant blurring, making the digit contours less distinct. Additionally, the overall structure of some digits appears distorted, which suggests that the VAE's probabilistic nature introduces variability in the reconstructions.\n",
        "\n",
        "This blurriness could by explained by the structure of the VAE, as they model the latent space probabilistically rather than deterministically. The added complexity of the probabilistic latent space, especially with a full covariance matrix, can make the model more robust to variations in the data but at the cost of reduced sharpness in individual reconstructions.\n",
        "\n",
        "The main advantage of the VAEover a simple autoencoder lies in its ability to generate more diverse outputs due to its probabilistic latent space representation. As it map to probability distribution,it  ensures continuity and smoothness in the latent space, allowing for meaningful interpolation between data points and robust generalization."
      ]
    },
    {
      "cell_type": "markdown",
      "metadata": {
        "id": "osihhrLmGs73"
      },
      "source": [
        "### Statistics of $q_\\phi$\n",
        "\n",
        "Remember, our goal was to create an autoencoder such that the distributions $q_{\\phi}(z|x)$ of each input data point in the latent space is a normal distribution, ie such that $\\mu=0$ and $\\sigma=1$ for all inputs. Let us see if this goal was attained.\n",
        "\n",
        "For this, take a batch of test images, and calculate the vectors $\\mu=0$ and $\\sigma=1$ of these images (recall that they should be 0 and 1). Now,use a 2D scatter plot on any two of the latent coordinates to visualise the values of $\\mu$ and $\\sigma$ (you can try several different combinations of the latent coordinates).\n",
        "\n",
        "You will need to use ```detach().numpy()``` to plot these values."
      ]
    },
    {
      "cell_type": "code",
      "execution_count": 39,
      "metadata": {
        "id": "v4gCgsRJGs73",
        "colab": {
          "base_uri": "https://localhost:8080/",
          "height": 466
        },
        "outputId": "818feead-ac0f-4031-be61-aad5538d5b9b"
      },
      "outputs": [
        {
          "output_type": "execute_result",
          "data": {
            "text/plain": [
              "Text(0, 0.5, 'Variance of latent codes')"
            ]
          },
          "metadata": {},
          "execution_count": 39
        },
        {
          "output_type": "display_data",
          "data": {
            "text/plain": [
              "<Figure size 640x480 with 1 Axes>"
            ],
            "image/png": "[encoded data removed]"
          },
          "metadata": {}
        }
      ],
      "source": [
        "# FILL IN STUDENT\n",
        "n_batches = np.floor(len(mnist_train_loader.dataset.indices) / batch_size).astype(int)\n",
        "\n",
        "\n",
        "z_mu = torch.zeros(n_batches, 1)\n",
        "z_var = torch.zeros(n_batches, 1)\n",
        "for batch_idx, (data, _) in enumerate(mnist_train_loader):\n",
        "    mu, log_var = vae_model.encoder(data)\n",
        "    # save the mu everywhere\n",
        "    plt.scatter(mu.detach().numpy(), log_var.exp().detach().numpy())\n",
        "    # Do a scatter plot out of it\n",
        "\n",
        "# plt.scatter(z_average, z_covariance)\n",
        "plt.xlabel(\"Average of latent codes\")\n",
        "plt.ylabel(\"Variance of latent codes\")"
      ]
    },
    {
      "cell_type": "markdown",
      "metadata": {
        "id": "4ikjkB8VGs73"
      },
      "source": [
        "Do we indeed see most values around $\\mu=0$, $\\sigma=1$ ? Is this in fact possible ? Why ? What compromise are we trying to achieve ?\n",
        "The average $\\mu = 0$ is indeed centered around zero, which aligns with the expected behavior of a well-trained Variational Autoencoder (VAE) where the prior distribution is modeled as a standard normal distribution ($\\mathcal{N}(0,1)$). However, the variance $\\sigma^2$ is much closer to 0 than 1, indicating that the model's outputs are nearly deterministic rather than truly probabilistic.\n",
        "\n",
        "This suggests that the VAE is not fully utilizing the stochastic nature of the latent space. One possible reason for this could be the lack of diversity in the dataset, leading the model to behave more like a standard autoencoder. If the data does not necessitate a diverse range of outputs, the VAE's encoder should  collapse towards deterministic mappings.\n",
        "\n",
        "The fundamental compromise we are trying to achieve in VAEs is between generating diverse outputs and accurately reconstructing the input data. A well-balanced VAE should introduce enough variance in the latent space to enable meaningful generation while still ensuring that reconstructions remain faithful to the input.\n"
      ]
    },
    {
      "cell_type": "markdown",
      "metadata": {
        "id": "uuYn3_PBzjkI"
      },
      "source": [
        "__Your answer:__"
      ]
    },
    {
      "cell_type": "markdown",
      "metadata": {
        "id": "uXm-D9Ef9vYm"
      },
      "source": [
        "Let us now compare the three models (AE diagonal covariance, AE full covariance and VAE) quantitavely."
      ]
    },
    {
      "cell_type": "markdown",
      "metadata": {
        "id": "04MddkzuE324"
      },
      "source": [
        "# 4 Evaluating and comparing the models\n",
        "\n",
        "We will evaluate the models, in the following manner:\n",
        "\n",
        "- we train a simple convolutional neural network classifier on mnist, to a good accuracy\n",
        "- we generate images with each model\n",
        "- we find the average of the highest probability of the images according to the classifier, for each model. If this value is high, it means that on average the classifier considers that the images look like a number\n",
        "\n",
        "We will use the following convoluional architecture for the classifier:\n",
        "\n",
        "- conv2d, filter size  3Ã—3 , 32 filters, stride=(2,2), padding=\"SAME\"\n",
        "- ReLU\n",
        "- conv2d, filter size  3Ã—3 , 32 filters, stride=(2,2), padding=\"SAME\"\n",
        "- ReLU\n",
        "- MaxPool2D, stride=(2,2)\n",
        "- Flatten\n",
        "- Dense layer\n",
        "\n",
        "Now, define the model. To make things easier, use the ```torch.nn.Sequential``` API (there is no need for a Class in this simple case)."
      ]
    },
    {
      "cell_type": "code",
      "execution_count": 40,
      "metadata": {
        "id": "P87a-DkXFOCv"
      },
      "outputs": [],
      "source": [
        "learning_rate = 0.01\n",
        "n_epochs = 20\n",
        "batch_size = 64\n",
        "nb_classes = int(mnist_trainset.targets.max() + 1)\n",
        "\n",
        "# number of convolutional filters to use\n",
        "nb_filters = 32\n",
        "# convolution kernel size\n",
        "kernel_size = (3, 3)\n",
        "# size of pooling area for max pooling\n",
        "pool_size = (2, 2)\n",
        "\n",
        "# --- Size of the successive layers\n",
        "n_h_0 = 1  # greyscale input images\n",
        "n_h_1 = nb_filters\n",
        "n_h_2 = nb_filters\n",
        "\n",
        "mnist_classification_model = nn.Sequential(\n",
        "    nn.Conv2d(n_h_0, n_h_1, kernel_size=kernel_size),\n",
        "    nn.ReLU(),\n",
        "    nn.Conv2d(n_h_1, n_h_2, kernel_size=kernel_size),\n",
        "    nn.ReLU(),\n",
        "    nn.MaxPool2d(kernel_size=pool_size),\n",
        "    nn.Flatten(),\n",
        "    nn.Linear(4608, nb_classes),\n",
        ")\n",
        "\n",
        "criterion = nn.CrossEntropyLoss()\n",
        "optimizer = torch.optim.Adam(mnist_classification_model.parameters(), lr=learning_rate)"
      ]
    },
    {
      "cell_type": "markdown",
      "metadata": {
        "id": "_sUZONxw2bnt"
      },
      "source": [
        "Create a function to calculate accuracy, instead of loss"
      ]
    },
    {
      "cell_type": "code",
      "execution_count": 41,
      "metadata": {
        "id": "aOww0ydr2fT0"
      },
      "outputs": [],
      "source": [
        "def get_accuracy(x_pred, x_label):\n",
        "    acc = torch.sum(x_pred == x_label) / (x_pred.shape[0])\n",
        "    return acc"
      ]
    },
    {
      "cell_type": "markdown",
      "metadata": {
        "id": "qw0vkZIqFcse"
      },
      "source": [
        "Now, train the model. You should be able to achieve an accuracy close to 1.00 within 20 epochs"
      ]
    },
    {
      "cell_type": "code",
      "execution_count": 42,
      "metadata": {
        "id": "0FA8YoX2FcHP",
        "colab": {
          "base_uri": "https://localhost:8080/"
        },
        "outputId": "d62088ee-c8f9-4972-be2f-4dbd344b36f1"
      },
      "outputs": [
        {
          "output_type": "stream",
          "name": "stdout",
          "text": [
            "Epoch:0 Train Loss:0.0065 Accuracy:0.7109\n",
            "Epoch:1 Train Loss:0.0072 Accuracy:0.8047\n",
            "Epoch:2 Train Loss:0.0024 Accuracy:0.9297\n",
            "Epoch:3 Train Loss:0.0025 Accuracy:0.9141\n",
            "Epoch:4 Train Loss:0.0015 Accuracy:0.9297\n",
            "Epoch:5 Train Loss:0.0010 Accuracy:0.9531\n",
            "Epoch:6 Train Loss:0.0009 Accuracy:0.9688\n",
            "Epoch:7 Train Loss:0.0003 Accuracy:0.9922\n",
            "Epoch:8 Train Loss:0.0002 Accuracy:0.9922\n",
            "Epoch:9 Train Loss:0.0001 Accuracy:1.0000\n",
            "Epoch:10 Train Loss:0.0001 Accuracy:0.9922\n",
            "Epoch:11 Train Loss:0.0001 Accuracy:1.0000\n",
            "Epoch:12 Train Loss:0.0002 Accuracy:0.9844\n",
            "Epoch:13 Train Loss:0.0002 Accuracy:0.9922\n",
            "Epoch:14 Train Loss:0.0000 Accuracy:1.0000\n",
            "Epoch:15 Train Loss:0.0000 Accuracy:1.0000\n",
            "Epoch:16 Train Loss:0.0006 Accuracy:0.9688\n",
            "Epoch:17 Train Loss:0.0002 Accuracy:0.9844\n",
            "Epoch:18 Train Loss:0.0002 Accuracy:0.9922\n",
            "Epoch:19 Train Loss:0.0001 Accuracy:1.0000\n"
          ]
        }
      ],
      "source": [
        "train_losses = []\n",
        "valid_losses = []\n",
        "\n",
        "for epoch in range(0, n_epochs):\n",
        "    train_loss = 0.0\n",
        "\n",
        "    for batch_idx, (imgs, labels) in enumerate(mnist_train_loader):\n",
        "        # set the gradients back to 0\n",
        "        optimizer.zero_grad()\n",
        "        predict = mnist_classification_model(imgs)\n",
        "        # apply loss function\n",
        "        loss = criterion(predict, labels)\n",
        "        acc = get_accuracy(torch.argmax(predict, dim=1), labels)\n",
        "        # backpropagation\n",
        "        loss.backward()\n",
        "        optimizer.step()\n",
        "        train_loss = loss.item()\n",
        "    print(\n",
        "        \"Epoch:{} Train Loss:{:.4f} Accuracy:{:.4f}\".format(\n",
        "            epoch, train_loss / imgs.shape[0], acc\n",
        "        )\n",
        "    )"
      ]
    },
    {
      "cell_type": "markdown",
      "metadata": {
        "id": "zFgN5LblFwTa"
      },
      "source": [
        "### Evaluate the average maximum prediction of the images generated by each generative model (higher is better)\n",
        "\n",
        "Now, we will evaluate the models. For each ones, produce a certain number of images, and put those images through the classification network. Then find the maximum class probability of each image, and average it over all the images. We will use this as a metric to evaluate each model.\n",
        "\n",
        "__CAREFUL__: the output of the network does __not__ include the Softmax layer, so you will have to carry it out, with:\n",
        "- ```torch.nn.Softmax()(...)```\n",
        "\n",
        "Define this metric now:"
      ]
    },
    {
      "cell_type": "code",
      "execution_count": 45,
      "metadata": {
        "id": "lCJ_0qqjOXHT"
      },
      "outputs": [],
      "source": [
        "def generative_model_score(imgs_in, classification_model):\n",
        "    gen_score = classification_model(imgs_in)\n",
        "    # find maximum class probability of each image\n",
        "    # apply softmax\n",
        "    proba = F.softmax(gen_score, dim=1)\n",
        "    proba = torch.max(proba, dim=1).values\n",
        "    # average it over all image\n",
        "    gen_score = torch.mean(proba)\n",
        "\n",
        "    return gen_score"
      ]
    },
    {
      "cell_type": "markdown",
      "metadata": {
        "id": "yGq7YFg51UoP"
      },
      "source": [
        "Now, generate some images with each of the three models, and evaluate these models:"
      ]
    },
    {
      "cell_type": "code",
      "execution_count": 46,
      "metadata": {
        "id": "4-L4u2jhILFx",
        "colab": {
          "base_uri": "https://localhost:8080/"
        },
        "outputId": "fb087ad3-fd69-49f6-bf91-47c7670f1016"
      },
      "outputs": [
        {
          "output_type": "stream",
          "name": "stdout",
          "text": [
            "torch.Size([50, 1, 28, 28])\n",
            "Diagonal gaussian generative model score :  0.8918923139572144\n",
            "Non diagonal gaussian generative model score :  0.9177461266517639\n",
            "Variational autoencoder model score:  0.9355672597885132\n"
          ]
        }
      ],
      "source": [
        "imgs_diagonal_gaussian = generate_images_diagonal_gaussian(\n",
        "    ae_model, z_average, z_sigma, n_images=50\n",
        ")\n",
        "imgs_non_diagonal_gaussian = generate_images_non_diagonal_gaussian(\n",
        "    ae_model, z_average, z_covariance, n_images=50\n",
        ")\n",
        "imgs_vae = generate_images_vae(vae_model, n_images=50)\n",
        "\n",
        "# average of maximum of first model\n",
        "diagonal_gaussian_score = float(\n",
        "    generative_model_score(imgs_diagonal_gaussian, mnist_classification_model)\n",
        ")\n",
        "non_diagonal_gaussian_score = float(\n",
        "    generative_model_score(imgs_non_diagonal_gaussian, mnist_classification_model)\n",
        ")\n",
        "vae_gaussian_score = float(generative_model_score(imgs_vae, mnist_classification_model))\n",
        "\n",
        "print(\"Diagonal gaussian generative model score : \", diagonal_gaussian_score)\n",
        "print(\"Non diagonal gaussian generative model score : \", non_diagonal_gaussian_score)\n",
        "print(\"Variational autoencoder model score: \", vae_gaussian_score)"
      ]
    },
    {
      "cell_type": "markdown",
      "metadata": {
        "id": "sxvsG8FC1gNS"
      },
      "source": [
        "Please answer the following questions:\n",
        "\n",
        "- Which model is better quantitatively ?\n",
        "- Do the quantitative result support the qualitative results ?\n",
        "- Can you see any drawbacks of this method of evaluation ?\n",
        "- Can you propose any more sophisticated models than the multivariate Gaussian approach (apart from the variational autoencoder) ?"
      ]
    },
    {
      "cell_type": "markdown",
      "metadata": {
        "id": "3SYCyfKR3G7Y"
      },
      "source": [
        "__Your answer__"
      ]
    },
    {
      "cell_type": "code",
      "execution_count": 44,
      "metadata": {
        "id": "bqBTTwC8Gs75"
      },
      "outputs": [],
      "source": []
    },
    {
      "cell_type": "markdown",
      "metadata": {
        "id": "HOLQlstYG8aG"
      },
      "source": [
        "## 5 Conclusion\n",
        "\n",
        "Summarise the advantages and disadvantages of the variational autoencoder, with respect with what you have seen in this lab. In particular, discuss the following points :\n",
        "- The advantages/drawbacks of the Gaussian model in the latent space ($q_\\theta(z|x)$)\n",
        "- The advantages/drawbacks of the Bernoulli or Gaussian models for the image space ($p_\\theta(x|z)$)\n",
        "- To what extent is the initial goal achieved, ie creating an autoencoder whose latent codes follow a (multi-dimensional) normal distribution;"
      ]
    },
    {
      "cell_type": "markdown",
      "metadata": {
        "id": "r20F6Qe8H3Ky"
      },
      "source": [
        "__Answer__"
      ]
    },
    {
      "cell_type": "code",
      "execution_count": 44,
      "metadata": {
        "id": "XhdRKzoDVJRB"
      },
      "outputs": [],
      "source": []
    }
  ],
  "metadata": {
    "accelerator": "GPU",
    "colab": {
      "provenance": [],
      "toc_visible": true,
      "include_colab_link": true
    },
    "kernelspec": {
      "display_name": "Python 3 (ipykernel)",
      "language": "python",
      "name": "python3"
    },
    "language_info": {
      "codemirror_mode": {
        "name": "ipython",
        "version": 3
      },
      "file_extension": ".py",
      "mimetype": "text/x-python",
      "name": "python",
      "nbconvert_exporter": "python",
      "pygments_lexer": "ipython3",
      "version": "3.8.10"
    }
  },
  "nbformat": 4,
  "nbformat_minor": 0
}