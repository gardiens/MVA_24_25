{
 "cells": [
  {
   "cell_type": "markdown",
   "metadata": {},
   "source": [
    "In this second practical session, we explore surface deformation algorithms with two applications : surface parametrization for texture mapping and as-rigid-as possible deformation for non-rigid alignment.\n",
    "\n",
    "Program for today:\n",
    "1. Surface Parameterisation\n",
    "\n",
    "    a. Tutte embedding,\n",
    "\n",
    "    b. Angle-preserving map with free boundary.\n",
    "    \n",
    "2. Surface alignment\n",
    "\n",
    "    a. Rigid alignment with Iterative Closest Point,\n",
    "\n",
    "    b. ARAP for non-rigid alignment.\n"
   ]
  },
  {
   "cell_type": "markdown",
   "metadata": {},
   "source": [
    "# Environment Setup\n",
    "\n",
    "You'll need to install meshplot, using either:\n",
    "- Conda:\n",
    "   - ```conda install -c conda-forge meshplot```\n",
    "- Pip:\n",
    "   - ```pip install pythreejs```\n",
    "   - ```pip install git+https://github.com/skoch9/meshplot.git```\n",
    "\n",
    "Works best with jupyter notebook."
   ]
  },
  {
   "cell_type": "code",
   "execution_count": null,
   "metadata": {},
   "outputs": [],
   "source": [
    "import os\n",
    "import shutil\n",
    "\n",
    "import numpy as np\n",
    "import matplotlib.pyplot as plt\n",
    "import scipy.sparse.linalg as sla\n",
    "import scipy.sparse\n",
    "from scipy.sparse import csc_matrix\n",
    "\n",
    "# THE FOLLOWING COME FROM THE PROVIDED DATA, DO NOT TRY TO PIP INSTALL THEM\n",
    "import plot_utils as plu\n",
    "import mesh_utils\n",
    "from mesh_utils.mesh import TriMesh"
   ]
  },
  {
   "cell_type": "markdown",
   "metadata": {},
   "source": [
    "# Surface Parameterisation\n",
    "\n",
    "Given a triangle mesh with triangle list $T$ ($n_f \\times 3$ array of integers) and vertex coordinates $X$ ($n_v \\times 3$ array of floats), a parametrization is simply an assignment of planar coordinates $U$ ($n_v \\times 2$ array of floats) for each vertex of the mesh. This parametrization will be vizualized by mapping a texture in planar coordinates to 3D coordinates."
   ]
  },
  {
   "cell_type": "markdown",
   "metadata": {},
   "source": [
    "## Tutte embedding\n",
    "\n",
    "The most simple way of computing planar coordinates is to fix the boundary of the mesh to predefined positions (in this example a unit circle) and place the inner vertices at the barycenter of their neighbours. For a boundary vertex $j$, the coordinates $(u_j,v_j)$ are constrained to the position $(\\bar{u}_j,\\bar{v}_j)$. More precisely, the planar coordinates $(u_i,v_i)$ of vertex $i$ satisfies the system of equations:\n",
    "\\begin{array}{lll}\n",
    "    \\sum_{j \\in N_i} w_{ij} (u_j - u_i) = 0, & \\sum_{j \\in N_i} w_{ij} (v_j - v_i) = 0, & \\text{ for all boundary vertices } i, \\\\\n",
    "    u_j = \\bar{u}_j, & u_j = \\bar{v}_j, & \\text{ for all interior vertices } j,\n",
    "\\end{array}\n",
    "where $w_{ij}$ are the cotan-weights computed in the previous practical session and $N_i$ is the set of vertices linked to $i$ by an edge.\n",
    "\n",
    "This system of linear equations can be easily rewritten in term of Laplacian matrix $W$ computed in the previous session:\n",
    "$$\n",
    "\\begin{array}{l}\n",
    "(W u)_i = 0, \\text{ and } (W v)_i = 0  \\text{ for all interior vertices $i$,} \\\\\n",
    "u_j = \\bar{u}_j, \\text{ and } v_j = \\bar{v}_j \\text{ for all boundary vertices $j$.}\n",
    "\\end{array}\n",
    "$$\n",
    "\n",
    "Let `id_int` and `id_bnd` be the lists of interior and boundary indices. The boundary coordinates `u[id_bnd]` and `v[id_bnd]` are coordinates evenly distributed on a circle.  With the boundary coordinates `u[id_bnd]` given, we want to solve the system of linear equations `W[id_int,:][:,id_int]*u[id_int] =-W[id_int,:][:,id_bnd]*u[id_bnd]` for the variables `u[id_int]`.\n",
    "\n",
    "This is done in three steps:\n",
    "1. Build the lists `id_int` and `id_bnd`\n",
    "2. Solve the constrained system of linear equations\n",
    "3. Vizualize the texture"
   ]
  },
  {
   "cell_type": "markdown",
   "metadata": {},
   "source": [
    "###  QUESTION 1 - Border Edges"
   ]
  },
  {
   "cell_type": "markdown",
   "metadata": {},
   "source": [
    "**Given a set of triangles, compute the list of (unordered) edges which lie at the border**"
   ]
  },
  {
   "cell_type": "code",
   "execution_count": null,
   "metadata": {},
   "outputs": [],
   "source": [
    "def get_border_edges(triangles: np.array) -> list[list]:\n",
    "    \"\"\"\n",
    "    Get the border edges of a mesh. In no particular order\n",
    "\n",
    "    Parameters\n",
    "    ----------\n",
    "    triangles : ndarray of shape (n_triangles, 3)\n",
    "\n",
    "    Returns\n",
    "    -------\n",
    "    border_edges : list of list of length n_border_edges.\n",
    "                   The border edges of the mesh. Element i contains the two\n",
    "                     vertices of the i-th border edge.\n",
    "    \"\"\"\n",
    "    # YOUR CODE HERE\n",
    "    not_border = []\n",
    "    border_edges = []\n",
    "    triangles = np.sort(\n",
    "        triangles\n",
    "    )  # get a sorted version of it , imporatant if edges are not sorted\n",
    "    for triangle in triangles:\n",
    "        first_edge = triangle[1], triangle[0]\n",
    "        second_edge = triangle[2], triangle[1]\n",
    "        third_edge = triangle[2], triangle[0]\n",
    "        assert first_edge != second_edge\n",
    "        for edge in [first_edge, second_edge, third_edge]:\n",
    "            if edge in not_border:\n",
    "                continue\n",
    "            elif edge in border_edges:\n",
    "                not_border.append(edge)\n",
    "                border_edges.remove(edge)\n",
    "            else:\n",
    "                border_edges.append(edge)\n",
    "    # TODO: optimized version of it\n",
    "    return border_edges  # ,not_border"
   ]
  },
  {
   "cell_type": "code",
   "execution_count": null,
   "metadata": {},
   "outputs": [],
   "source": [
    "mesh1 = TriMesh(\"./data/sphere_cut_uv.obj\").process(k=0)\n",
    "print(type(mesh1.faces))\n",
    "border_edges = get_border_edges(mesh1.faces)\n",
    "# Visualize the border. It is here just a cut of the sphere\n",
    "\n",
    "plu.plot(mesh1, points=np.unique(border_edges))\n",
    "# seems correct"
   ]
  },
  {
   "cell_type": "code",
   "execution_count": null,
   "metadata": {},
   "outputs": [],
   "source": [
    "plu.plot(mesh1)"
   ]
  },
  {
   "cell_type": "markdown",
   "metadata": {},
   "source": [
    "### Question 2 - Orderd points on a circle"
   ]
  },
  {
   "cell_type": "markdown",
   "metadata": {},
   "source": [
    "**Write a function to generate evenly spaced points on the circle in a counterclockwise order.**\n",
    "These are going to be the fixed positions of our border vertices"
   ]
  },
  {
   "cell_type": "code",
   "execution_count": null,
   "metadata": {},
   "outputs": [],
   "source": [
    "def get_n_points_on_circle(n_points):\n",
    "    \"\"\"\n",
    "    Builds n_points evenly spaced points on the unit circle.\n",
    "\n",
    "    Parameters\n",
    "    ----------\n",
    "    n_points : int\n",
    "        Number of points to generate\n",
    "\n",
    "    Returns\n",
    "    -------\n",
    "    points : ndarray of shape (n_points, 2)\n",
    "        The points on the unit circle\n",
    "    \"\"\"\n",
    "    # YOUR CODE HERE\n",
    "    list_args = [2 * np.pi * k / n_points for k in range(n_points)]\n",
    "    points = np.array([(np.cos(args), np.sin(args)) for args in list_args])\n",
    "    return points"
   ]
  },
  {
   "cell_type": "code",
   "execution_count": null,
   "metadata": {},
   "outputs": [],
   "source": [
    "circle_points = get_n_points_on_circle(10)\n",
    "plt.figure(dpi=100)\n",
    "plt.scatter(circle_points[:, 0], circle_points[:, 1])\n",
    "plt.axis(\"equal\")"
   ]
  },
  {
   "cell_type": "markdown",
   "metadata": {},
   "source": [
    "### Question 3 - Solving the Embedding"
   ]
  },
  {
   "cell_type": "markdown",
   "metadata": {},
   "source": [
    "**Solve for the uv coordinate using ```scipy.sparse.linalg.spsolve```**\n",
    "\n",
    "Tip: The slicing ```W[id_int,id_int]``` does not work on a scipy sparse matrix, instead use ```W[id_int,:][:,id_int]```.\n",
    "\n",
    "Because the function `get_n_points_on_circle` gives an *ordered* set of points on the circle but the function `get_border_edges` outputs vertices which are *unordered*, we will need to *sort* the list of border edges. We provide the function ```build_ordered_edges``` below which generates an *ordered* list of border edges using the output of ```get_border_edges``` defined in Question 1."
   ]
  },
  {
   "cell_type": "code",
   "execution_count": null,
   "metadata": {},
   "outputs": [],
   "source": [
    "def find_next_edge(current_edge, remaining_edges):\n",
    "    for i, edge in enumerate(remaining_edges):\n",
    "        if current_edge[1] in edge:\n",
    "            return i, edge  # if edge[0]==current_edge[1] else edge[::-1]\n",
    "    return None, None\n",
    "\n",
    "\n",
    "def build_ordered_edges(triangles):\n",
    "    \"\"\"\n",
    "    Compute an ordered list of edges that form a path around the border of the mesh.\n",
    "    in lexicographical order !\n",
    "    Parameters\n",
    "    ----------\n",
    "    triangles : ndarray of shape (n_triangles, 3)\n",
    "\n",
    "    Returns\n",
    "    -------\n",
    "    ordered_edge_list : list of list of length n_border_edges.\n",
    "                        The border edges of the mesh. Element i contains the two\n",
    "                        vertices of the i-th border edge.\n",
    "    \"\"\"\n",
    "\n",
    "    border_edges = get_border_edges(triangles)  # (p,2)\n",
    "    remaining_edges = border_edges.copy()  # .tolist()\n",
    "\n",
    "    ordered_edge_list = []\n",
    "\n",
    "    current_edge = remaining_edges[0]\n",
    "    ordered_edge_list.append(current_edge)\n",
    "\n",
    "    remaining_edges.pop(0)\n",
    "\n",
    "    while remaining_edges:\n",
    "        i_edge, next_edge = find_next_edge(current_edge, remaining_edges)\n",
    "        # print(len(remaining_edges), i_edge, next_edge, current_edge)\n",
    "        if next_edge:\n",
    "            # Add the next edge to the ordered list\n",
    "            # print(\"toadd:\",  next_edge if next_edge[0]==current_edge[1] else [next_edge[1], next_edge[0]])\n",
    "            ordered_edge_list.append(\n",
    "                next_edge\n",
    "                if next_edge[0] == current_edge[1]\n",
    "                else [next_edge[1], next_edge[0]]\n",
    "            )\n",
    "\n",
    "            # Remove the next edge from the list of border edges\n",
    "            remaining_edges.pop(i_edge)\n",
    "\n",
    "            # Update the current edge for the next iteration\n",
    "            current_edge = ordered_edge_list[-1]\n",
    "        else:\n",
    "            # If no next edge is found, break the loop\n",
    "            break\n",
    "    return ordered_edge_list"
   ]
  },
  {
   "cell_type": "code",
   "execution_count": null,
   "metadata": {},
   "outputs": [],
   "source": [
    "# Load the mesh and compute the Laplacian\n",
    "mesh1 = TriMesh(\"./data/sphere_cut_uv.obj\").process(k=0)\n",
    "ordered_edges = build_ordered_edges(mesh1.faces)"
   ]
  },
  {
   "cell_type": "code",
   "execution_count": null,
   "metadata": {},
   "outputs": [],
   "source": [
    "# Defined used function\n",
    "\n",
    "\n",
    "import scipy.sparse as sparse\n",
    "\n",
    "\n",
    "def getuv(dim_solve: int, mesh1, id_boundary: np.array, boundary_points_2d: np.array):\n",
    "    \"\"\"Get the tutte embedding of a mesh with boundary conditions.\n",
    "\n",
    "    Parameters\n",
    "    ----------\n",
    "    dim_solve : int\n",
    "        the dimension of the mesh\n",
    "    mesh1 : mesh\n",
    "        incoming mesh\n",
    "    boundary_points : np.array (k, 2)\n",
    "        boundary points\n",
    "    id_boundary: np.array (k,) int\n",
    "        the indices of the boundary points in the mesh that will be mapped into boundary points\n",
    "\n",
    "    Returns\n",
    "    -------\n",
    "    _type_\n",
    "        _description_\n",
    "    \"\"\"\n",
    "    n = mesh1.n_vertices\n",
    "    # Will be LU=Ubarre\n",
    "    # Computationnaly speaking Ubarre[0] will be the result of x axis and Ubarre[1] for y axis\n",
    "    Ubarre = [np.zeros(shape=(mesh1.n_vertices)) for _ in range(dim_solve)]\n",
    "    L = [np.zeros(shape=(mesh1.n_vertices, mesh1.n_vertices)) for _ in range(dim_solve)]\n",
    "\n",
    "    # Update the equation for boundary vertices\n",
    "    # update  Ubarre\n",
    "    for dim in range(dim_solve):\n",
    "        Ubarredim = Ubarre[dim]\n",
    "        Ubarredim[id_boundary] = boundary_points_2d[:, dim]\n",
    "    # Update L  to be diagonal on constraint value\n",
    "    for dim in range(dim_solve):\n",
    "        Ldim = L[dim]\n",
    "        \"\"\"         diag=Ldim[np.ix_(id_boundary,id_boundary)]\n",
    "        to_fill=np.ones(len(id_boundary)) \"\"\"\n",
    "        # np.fill_diagonal(a=diag,val=to_fill)\n",
    "        # np.fill_diagonal(Ldim[np.ix_(id_boundary, id_boundary)], to_fill)\n",
    "        Ldim[np.ix_(id_boundary, id_boundary)] = np.eye(len(id_boundary))\n",
    "        # print(\"non zero diag\",np.nonzero(diag))\n",
    "\n",
    "    # compute id_int , we take care of interior point\n",
    "    id_int = [k for k in range(n) if k not in id_boundary]\n",
    "\n",
    "    # get the cotangent weight\n",
    "    # In the slide we hsould compute Lu=U avec u unknown and U = 0 if interior and equal circle points otherwise, However according to the tutorial,\n",
    "    # if you should Lij appropriately, it is in fact the contangent weight\n",
    "    from mesh_utils.laplacian import cotangent_weights\n",
    "\n",
    "    W = cotangent_weights(vertices=mesh1.vertices, faces=mesh1.faces)\n",
    "    for dim in range(dim_solve):\n",
    "        Ldim = L[dim]\n",
    "        # We have Wu(i)=0\n",
    "        Ldim[id_int, :] = W.todense()[id_int, :]\n",
    "    # Update Ubarre for interior points\n",
    "    # As ubarre is defined as np.zeros, we don't need to take care of it\n",
    "\n",
    "    # solve it\n",
    "    resultat = []\n",
    "    L_solve = []\n",
    "    Ubarre_solve = []\n",
    "    for dim in range(dim_solve):\n",
    "        L_solve.append(sparse.csc_matrix(L[dim]))\n",
    "        Ubarre_solve.append(Ubarre[dim])\n",
    "\n",
    "    for dim in range(dim_solve):\n",
    "        print(\"solving for dim\", dim)\n",
    "\n",
    "        Ldim = L_solve[dim]\n",
    "        Ubarredim = Ubarre[\n",
    "            dim\n",
    "        ]  # sparse.csc_matrix(Ubarre[dim],shape=Ubarre[dim].shape)\n",
    "\n",
    "        result = scipy.sparse.linalg.spsolve(A=Ldim, b=Ubarredim)\n",
    "        resultat.append(result)\n",
    "    uv_total = np.stack(resultat, axis=1)\n",
    "    return uv_total"
   ]
  },
  {
   "cell_type": "code",
   "execution_count": null,
   "metadata": {},
   "outputs": [],
   "source": [
    "# TODO Compute the embedding u,v using the text above.\n",
    "# Get the list of ordered edges and the Laplacian\n",
    "import copy\n",
    "\n",
    "ordered_edges = build_ordered_edges(mesh1.faces)  # at the bondary\n",
    "dim_solve = 2\n",
    "# first get the boundary condition\n",
    "# ordered_edges[i] will be sent to circle_points[i]\n",
    "# get the list of indices of boundary indices, as ordered edges is a path it is ordered_edges[:,1] with the first elemnt in addition\n",
    "\n",
    "id_boundary = [ordered_edges[0][0]]\n",
    "id_boundary = id_boundary + np.array(ordered_edges)[:, 1].tolist()\n",
    "circle_points = get_n_points_on_circle(len(id_boundary))\n",
    "boundary_points_2d = circle_points  # boundary points 2d\n",
    "\n",
    "uv_total = getuv(\n",
    "    dim_solve=dim_solve,\n",
    "    mesh1=mesh1,\n",
    "    id_boundary=id_boundary,\n",
    "    boundary_points_2d=boundary_points_2d,\n",
    ")\n",
    "### (n,2) computed UV coordinates (takes more than 1 line)\n",
    "\n",
    "flat_coords = np.zeros((mesh1.n_vertices, 3))\n",
    "flat_coords[:, :2] = uv_total"
   ]
  },
  {
   "cell_type": "code",
   "execution_count": null,
   "metadata": {},
   "outputs": [],
   "source": [
    "# Check that the constraints are good (normally naturally, since you built the system accordingly\n",
    "plt.scatter(flat_coords[id_boundary, 0], flat_coords[id_boundary, 1])"
   ]
  },
  {
   "cell_type": "code",
   "execution_count": null,
   "metadata": {},
   "outputs": [],
   "source": [
    "# Visualize the texture on the mesh\n",
    "uv_map = mesh_utils.read_obj_texture(\"./data/sphere_cut_uv.obj\")[-1]\n",
    "\n",
    "\n",
    "plu.plot_textured_mesh(\n",
    "    mesh1, uv_map, points=np.unique(np.array(border_edges).flatten()), wireframe=True\n",
    ")"
   ]
  },
  {
   "cell_type": "code",
   "execution_count": null,
   "metadata": {},
   "outputs": [],
   "source": [
    "# Visualize the results\n",
    "\n",
    "# Flattened coordinates with reegular grid\n",
    "plu.plot_texture(flat_coords, mesh1.faces, uv_total, wireframe=True)\n",
    "\n",
    "# We can take the regular grid back to the sphere\n",
    "# plu.plot_texture(mesh1.vertices, mesh1.faces, uv_map, wireframe=True)\n",
    "\n",
    "# Or take the Texture of the sphere to the flat world\n",
    "# plu.plot_texture(flat_coords, mesh1.faces, uv_total, wireframe=True)"
   ]
  },
  {
   "cell_type": "markdown",
   "metadata": {},
   "source": [
    "Let's now visualize how it would render on the Earth"
   ]
  },
  {
   "cell_type": "code",
   "execution_count": null,
   "metadata": {},
   "outputs": [],
   "source": [
    "image = plt.imread(\"data/earth_daymap.jpg\")\n",
    "plt.figure(dpi=120)\n",
    "plt.imshow(image)\n",
    "plt.axis(\"off\");"
   ]
  },
  {
   "cell_type": "code",
   "execution_count": null,
   "metadata": {},
   "outputs": [],
   "source": [
    "os.makedirs(\"results\", exist_ok=True)\n",
    "shutil.copyfile(\"data/earth_daymap.jpg\", \"results/earth_daymap.jpg\")\n",
    "\n",
    "\n",
    "# THIS EXPORTS A .OBJ FILE WITH TEXTURE AND MATERIAL INFORMATION. DOWNLOAD AND OPEN WITH MESHLAB\n",
    "TriMesh(mesh1.vertices, mesh1.faces).export_texture(\n",
    "    \"results/tutte_earth.obj\", uv_map, texture_im=\"earth_daymap.jpg\"\n",
    ")\n",
    "TriMesh(flat_coords, mesh1.faces).export_texture(\n",
    "    \"results/tutte_earth_flat.obj\", uv_map, texture_im=\"earth_daymap.jpg\"\n",
    ")"
   ]
  },
  {
   "cell_type": "markdown",
   "metadata": {},
   "source": [
    "## Least Square Conformal Map\n",
    "\n",
    "Conformal maps are special type of parametrizations which preserve angles. On a smooth surface, they are characterized by the relationship between the gradient of the coordinate $u$ and the coordinate $v$\n",
    "$$ \\nabla u = n \\times \\nabla v $$\n",
    "where $n$ is the surface normal. On a triangle mesh, the coordinates $(u,v)$ are computed using a linear least-squares problem\n",
    "$$ \\min_{u,v} \\sum_{t \\in T} A_t |\\nabla u - n \\times \\nabla v|^2 \\text{ subject to the constraint: } \\sum_i u_i^2 + v_i^2 = 1 $$\n",
    "where $A_t$ is the area of triangle $t$. As explained in the course, the objective function can be written in term of the Laplacian matrix $W$. This leads to the smallest eigenvalue problem\n",
    "$$ \\min_{u,v} \\begin{pmatrix} u \\\\ v \\end{pmatrix}^\\top \\begin{pmatrix} W & -M \\\\ -M^\\top & W \\end{pmatrix} \\begin{pmatrix} u \\\\ v \\end{pmatrix} \\text{ subject to the constraint: } \\sum_i u_i^2 + v_i^2 = 1 $$\n",
    "The sparse matrix $M$ of size $n_v \\times n_v$ is given by\n",
    "$$ M_{ij} = \\left\\lbrace \\begin{array}{ll} \n",
    "0 & \\text{if $i$ or $j$ is an interior vertex } \\\\\n",
    "1/2 & \\text{if $i$ to $j$ is a positive edge of the boundary triangle} \\\\\n",
    "-1/2 & \\text{if $i$ to $j$ is a negative edge of the boundary triangle} \n",
    "\\end{array} \\right.$$\n",
    "\n",
    "Positive edges are edges that appear when going around a face in the order provided in the file. Negative edges are when going the opposite direction.\n",
    "\n",
    "*Tips:* To assemble this matrix simply accumulate $\\pm\\frac{1}{2}$ values for all triangles using the triangle list using the formula above. Since interior edges appear twice in opposite direction in the mesh, their coefficient will vanish for them, and only values for border edges will remain.\n",
    "\n",
    "\n",
    "1. Build the sparse matrix `M`\n",
    "2. Compute the LSCM parametrization using `scipy.sparse.linalg.eigs` \n",
    "3. Extract the boundary coordinate of the parametrization and use them to compute a Tutte embedding "
   ]
  },
  {
   "cell_type": "markdown",
   "metadata": {},
   "source": [
    "### Question 4 - Build M"
   ]
  },
  {
   "cell_type": "code",
   "execution_count": null,
   "metadata": {},
   "outputs": [],
   "source": [
    "import scipy.sparse as sparse\n",
    "\n",
    "\n",
    "def build_M(faces: np.array) -> scipy.sparse.csr_matrix:\n",
    "    \"\"\"\n",
    "    Build the M matrix above with values only at border edges.\n",
    "    M can be build by adding the formula for M_ij for each edge of each face on the mesh.\n",
    "    Coefficients at interior edges will vanish because they appear twice with opposite signs.\n",
    "\n",
    "    Parameters\n",
    "    ----------\n",
    "    faces : ndarray of shape (n_faces, 3)\n",
    "\n",
    "    Returns\n",
    "    -------\n",
    "    M : scipy.sparse.csr_matrix of shape (n_vertices, n_vertices)\n",
    "    \"\"\"\n",
    "    n_vertices = len(np.unique(faces))\n",
    "    M = np.zeros(shape=(n_vertices, n_vertices))\n",
    "    n_face = faces.shape[1]\n",
    "    for face in faces:\n",
    "        for k in range(n_face):\n",
    "            i, j = face[(k + 1) % n_face], face[k % n_face]\n",
    "            M[i, j] += 1 / 2  # Positive order\n",
    "            M[j, i] -= 1 / 2  # negative order\n",
    "\n",
    "    # convert to sparse\n",
    "    M = sparse.csr_matrix(M)\n",
    "\n",
    "    return M"
   ]
  },
  {
   "cell_type": "code",
   "execution_count": null,
   "metadata": {},
   "outputs": [],
   "source": [
    "mesh1 = TriMesh(\"./data/sphere_cut_uv.obj\").process(k=0)\n",
    "M = build_M(mesh1.faces)"
   ]
  },
  {
   "cell_type": "markdown",
   "metadata": {},
   "source": [
    "### Question 5 - Solve the system\n",
    "\n",
    "Use scipy [bmat function](https://docs.scipy.org/doc/scipy/reference/generated/scipy.sparse.bmat.html) to build sparse matrices from blocks.\n",
    "\n",
    "Try with the two meshes (diablo doesn't have uv map)"
   ]
  },
  {
   "cell_type": "code",
   "execution_count": null,
   "metadata": {},
   "outputs": [],
   "source": [
    "# mesh1 = TriMesh(\"./data/diablo_cut2.obj\").process(k=0)\n",
    "mesh1 = TriMesh(\"./data/sphere_cut_uv.obj\").process(k=0)\n",
    "v, f, uv_map = mesh_utils.read_obj_texture(\"./data/sphere_cut_uv.obj\")\n",
    "W = mesh1.W"
   ]
  },
  {
   "cell_type": "code",
   "execution_count": null,
   "metadata": {},
   "outputs": [],
   "source": [
    "M = build_M(mesh1.faces)\n",
    "system_matrix = sparse.bmat([[W, -M], [-M.transpose(), W]])\n",
    "\n",
    "res_eigenvalues, res_eigenvectors = scipy.sparse.linalg.eigsh(\n",
    "    system_matrix, k=3, which=\"LM\", sigma=-0.001\n",
    ")\n",
    "\n",
    "# Check that first 2 eigenvalues are 0\n",
    "print(res_eigenvalues)\n",
    "np.isclose(res_eigenvalues[:2], 0).all()"
   ]
  },
  {
   "cell_type": "code",
   "execution_count": null,
   "metadata": {},
   "outputs": [],
   "source": [
    "uv_coords = res_eigenvectors[:, 2].reshape((mesh1.n_vertices, 2), order=\"F\")\n",
    "\n",
    "# plu.plot_texture(mesh1.vertices, mesh1.faces, uv_coords)\n",
    "flat_coords = np.zeros((mesh1.n_vertices, 3))\n",
    "flat_coords[:, :2] = uv_coords\n",
    "# plu.plot_texture(flat_coords, mesh1.faces, uv_map, wireframe=True)\n",
    "\n",
    "\n",
    "# For the Sphere\n",
    "plu.plot_texture(flat_coords, mesh1.faces, uv_map, wireframe=True)"
   ]
  },
  {
   "cell_type": "markdown",
   "metadata": {},
   "source": [
    "you can again visualize with the earth map on the sphere"
   ]
  },
  {
   "cell_type": "code",
   "execution_count": null,
   "metadata": {},
   "outputs": [],
   "source": [
    "TriMesh(mesh1.vertices, mesh1.faces).export_texture(\n",
    "    \"results/lscm_earth.obj\", uv_map, texture_im=\"earth_daymap.jpg\"\n",
    ")\n",
    "TriMesh(flat_coords, mesh1.faces).export_texture(\n",
    "    \"results/lscm_earth_flat.obj\", uv_map, texture_im=\"earth_daymap.jpg\"\n",
    ")"
   ]
  },
  {
   "cell_type": "markdown",
   "metadata": {},
   "source": [
    "###  Question 6 - Extract the boundary of the U,V conformal coordinates and compute the tutte embedding on the same boundary"
   ]
  },
  {
   "cell_type": "markdown",
   "metadata": {},
   "source": [
    "Tips: be careful with the ordering of the boundery vertices"
   ]
  },
  {
   "cell_type": "code",
   "execution_count": null,
   "metadata": {},
   "outputs": [],
   "source": [
    "# TODO\n",
    "\n",
    "\n",
    "def extract_boundary_conformal(uv_coords):\n",
    "    \"\"\"\n",
    "\n",
    "    Parameters\n",
    "    ----------\n",
    "    uv_coords : ndarray of shape (n_vertices, 2)\n",
    "        _description_\n",
    "    \"\"\"\n",
    "    import scipy.spatial as spatial\n",
    "\n",
    "    hull = spatial.ConvexHull(uv_coords)\n",
    "    points = uv_coords\n",
    "    boundary = points[\n",
    "        hull.vertices\n",
    "    ]  # scipy in 2D returns the vertices of the convex hull in counter-clockwise order\n",
    "    return boundary"
   ]
  },
  {
   "cell_type": "code",
   "execution_count": null,
   "metadata": {},
   "outputs": [],
   "source": [
    "def plot_boundary(uv_coords):\n",
    "    import matplotlib.pyplot as plt\n",
    "\n",
    "    points = uv_coords\n",
    "    boundary = extract_boundary_conformal(uv_coords)\n",
    "    plt.plot(points[:, 0], points[:, 1], \"o\", label=\"Points\")\n",
    "\n",
    "    plt.plot(boundary[:, 0], boundary[:, 1], \"r--\", lw=2, label=\"Boundary\")\n",
    "    plt.legend()\n",
    "    plt.show()\n",
    "\n",
    "\n",
    "plot_boundary(uv_coords)"
   ]
  },
  {
   "cell_type": "code",
   "execution_count": null,
   "metadata": {},
   "outputs": [],
   "source": [
    "def apply_tutte_on_conformal(uv, mesh):\n",
    "    boundary = extract_boundary_conformal(\n",
    "        uv\n",
    "    )  # get the boundary in counterclockwise order\n",
    "    ordered_edges = build_ordered_edges(mesh.faces)\n",
    "    # The issue here with boundary as convex hull is that it may have less points than the ordered edges\n",
    "    #! WARNING CHANGE HERE BASED ON EXTRACT BOUNDARY\n",
    "    # * heuristics for now\n",
    "    n = len(boundary)\n",
    "    m = len(ordered_edges)\n",
    "    print(len(ordered_edges))\n",
    "    id_boundary = []\n",
    "    assert n <= m, \" didn't check the other case\"\n",
    "    for k in range(n):\n",
    "        id_boundary.append(ordered_edges[int(k * m / n)][0])\n",
    "\n",
    "    # apply tutte embedding on the boundary\n",
    "    dim_solve = 2\n",
    "    mesh1 = mesh\n",
    "    id_boundary = id_boundary\n",
    "    boundary_points_2d = boundary\n",
    "\n",
    "    uv_total = getuv(\n",
    "        dim_solve=dim_solve,\n",
    "        mesh1=mesh1,\n",
    "        id_boundary=id_boundary,\n",
    "        boundary_points_2d=boundary_points_2d,\n",
    "    )\n",
    "\n",
    "    return uv_total\n",
    "\n",
    "\n",
    "uv_tutt_on_conform = apply_tutte_on_conformal(uv_coords, mesh1)"
   ]
  },
  {
   "cell_type": "code",
   "execution_count": null,
   "metadata": {},
   "outputs": [],
   "source": [
    "uv_map = mesh_utils.read_obj_texture(\"./data/sphere_cut_uv.obj\")[-1]\n",
    "\n",
    "# plu.plot_texture(mesh1.vertices, mesh1.faces, uv_coords)\n",
    "flat_coords = np.zeros((mesh1.n_vertices, 3))\n",
    "flat_coords[:, :2] = uv_tutt_on_conform\n",
    "# plu.plot_texture(flat_coords, mesh1.faces, uv_map, wireframe=True)\n",
    "\n",
    "\n",
    "# For the Sphere\n",
    "plu.plot_texture(flat_coords, mesh1.faces, uv_tutt_on_conform, wireframe=True)"
   ]
  },
  {
   "cell_type": "markdown",
   "metadata": {},
   "source": [
    "# 2 Surface Alignment"
   ]
  },
  {
   "cell_type": "markdown",
   "metadata": {},
   "source": [
    "## Iterative Closest Point\n",
    "\n",
    "The goal of this algorithm is to align two point clouds $X = \\{ x_i \\}$ and $Y = \\{ y_i \\}$ using only rigid transformations -- translation and rotation. It is standard algorithm to align 3D scans taken from different viewpoints. The most basic implementation iterates between three steps until convergence:\n",
    "\n",
    "1. For each point of $X$ compute the closest point in the set $Y$. This assignment is given by the table $p$\n",
    "$$ p_i = \\arg\\min_{j} \\|x_i - y_j\\|^2 .$$\n",
    "This can be done efficiently with a knn-search.\n",
    "\n",
    "2. Find the translation that best align the point cloud given the assignment $p$\n",
    "$$ \\min_{t \\in \\mathbb{R}^3} \\sum_i \\|x_i + t - y_{p_i}\\|^2 .$$\n",
    "This problem can be solved exactly with the formula $t = \\frac{1}{|X|}\\sum_i y_i - x_i$.\n",
    "\n",
    "3. Compute the rotation aligning the point cloud after translation:\n",
    "$$ \\min_{R} \\sum_i \\|Rx_i + t - y_{p_i}\\|^2 .$$\n",
    "This is an [orthogonal Procrustes problem](https://en.wikipedia.org/wiki/Orthogonal_Procrustes_problem) and can be solved efficiently using a Singular Value Decomposition ([SVD](https://en.wikipedia.org/wiki/Singular_value_decomposition)). Let the matrix $A = \\sum_i (t-y_{p_i})x_i^\\top$ be decomposed as $A = U S V^\\top$ where $U,V$ are unitary matrices and $S$ a diagonal matrix. The optimal rotation is given by $R = U D V^\\top$ with $D$ a diagonal matrix with $+1$ on the diagonal corresponding to the two largest singular values and $\\pm 1$ on the smallest singular value. The sign is chosen so that $\\det R = 1$.\n",
    "\n",
    "4. Update the position of $X$: $x_i \\leftarrow Rx_i+t$\n",
    "\n",
    "\n",
    "**To do:**\n",
    "1. Implement the steps\n",
    "2. Align the Armadilo"
   ]
  },
  {
   "cell_type": "markdown",
   "metadata": {},
   "source": [
    "### Question 7 - Compute Nearest Neighbor"
   ]
  },
  {
   "cell_type": "code",
   "execution_count": null,
   "metadata": {},
   "outputs": [],
   "source": [
    "from scipy.spatial import cKDTree\n",
    "\n",
    "\n",
    "def Query_CPU(\n",
    "    xyz_query,\n",
    "    xyz_search,\n",
    "    K,\n",
    "):\n",
    "    # Use scipy Kdtree to perform the query\n",
    "    # XYZ MUST BE OF dimension 2 not 3\n",
    "    kdtree = cKDTree(xyz_search)\n",
    "    # TODO: you may need to tweak the number of num_workers, 1 is really long but -1 is can OOM\n",
    "    distances, neighbors = kdtree.query(xyz_query, k=K, workers=-1)\n",
    "    return distances, neighbors\n",
    "\n",
    "\n",
    "def compute_nearest_neighbor(X, Y):\n",
    "    \"\"\"\n",
    "    Compute the nearest neighbor in Y for each point in X\n",
    "\n",
    "    Parameters:\n",
    "    -----------\n",
    "    X : (n, d) array of points\n",
    "    Y : (m, d) array of points\n",
    "\n",
    "    Returns:\n",
    "    --------\n",
    "    nearst_neighbor : (n,) array of indices of the nearest neighbor in Y for X\n",
    "    \"\"\"\n",
    "    return Query_CPU(xyz_query=X, xyz_search=Y, K=1)[1]"
   ]
  },
  {
   "cell_type": "markdown",
   "metadata": {},
   "source": [
    "### Question 8 - Compute optimal rotations and translation"
   ]
  },
  {
   "cell_type": "code",
   "execution_count": null,
   "metadata": {},
   "outputs": [],
   "source": [
    "import scipy\n",
    "\n",
    "\n",
    "def compute_rigid_transform(X_source, X_target):\n",
    "    \"\"\"\n",
    "    Compute the optimal rotation matrix and translation that aligns two point clouds of the same size X_source and X_target.\n",
    "    This rotation should be applied to X_source.\n",
    "\n",
    "    Parameters:\n",
    "    -----------\n",
    "    X_source : (n, d) array of points\n",
    "    Y_target : (n, d) array of points\n",
    "\n",
    "    Returns:\n",
    "    --------\n",
    "    R : (d, d) rotation matrix\n",
    "    t : (d,) translation vector\n",
    "    \"\"\"\n",
    "    cardX = X_source.shape[0]\n",
    "    print(\"x source\", X_source.shape)\n",
    "    t = 1 / cardX * (X_target - X_source).sum(axis=0)\n",
    "\n",
    "    A = np.zeros((X_source.shape[1], X_source.shape[1]))\n",
    "    for i in range(cardX):\n",
    "        A += np.outer(X_target[i] - t, X_source[i])\n",
    "    # WHY THIS ONE ?\n",
    "    U, S, Vt = np.linalg.svd(A)\n",
    "    D = np.eye(X_source.shape[1])\n",
    "    D[-1, -1] = np.linalg.det(np.dot(U, Vt))\n",
    "    R = np.dot(np.dot(U, D), Vt)\n",
    "    return R, t"
   ]
  },
  {
   "cell_type": "markdown",
   "metadata": {},
   "source": [
    "### Question 9 - Apply the ICP algorithm\n",
    "We provide a function to apply a rigid transformation ```R,t``` to a point cloud"
   ]
  },
  {
   "cell_type": "code",
   "execution_count": null,
   "metadata": {},
   "outputs": [],
   "source": [
    "def transform_pointcloud(X, R, t):\n",
    "    \"\"\"\n",
    "    Transform a point cloud X by a rotation matrix R and a translation vector t.\n",
    "\n",
    "    Parameters:\n",
    "    -----------\n",
    "    X : (n, d) array of points\n",
    "    R : (d, d) rotation matrix\n",
    "    t : (d,) translation vector\n",
    "\n",
    "    Returns:\n",
    "    --------\n",
    "    X_transformed : (n, d) array of transformed points\n",
    "    \"\"\"\n",
    "\n",
    "    return X @ R.T + t"
   ]
  },
  {
   "cell_type": "code",
   "execution_count": null,
   "metadata": {},
   "outputs": [],
   "source": [
    "def icp_align(X_source, Y_target, n_iter=50):\n",
    "    \"\"\"\n",
    "    Align two point clouds X_source and Y_target using the ICP algorithm.\n",
    "\n",
    "    Parameters:\n",
    "    -----------\n",
    "    X_source : (n, d) array of points\n",
    "    Y_target : (m, d) array of points\n",
    "    n_iter   : int - number of iterations of the ICP algorithm\n",
    "\n",
    "    Returns:\n",
    "    --------\n",
    "    X_aligned : (n, d) array of aligned points\n",
    "    \"\"\"\n",
    "    k = 0\n",
    "    loss = np.inf\n",
    "    # TODO compute ICP alignement\n",
    "    X_source = X_source.copy()\n",
    "    # loss> np.linalg.norm(X_source-Y_target,ord=2) and\n",
    "    while k < n_iter:\n",
    "        pi = compute_nearest_neighbor(X=X_source, Y=Y_target)\n",
    "        X_target = Y_target[pi]\n",
    "        R, t = compute_rigid_transform(X_source=X_source, X_target=X_target)\n",
    "        X_source = transform_pointcloud(X_source, R, t)\n",
    "\n",
    "        loss = np.linalg.norm(X_source - X_target, ord=2)\n",
    "        print(\"iteration\", k, \"loss\", loss)\n",
    "        k += 1\n",
    "    return X_source"
   ]
  },
  {
   "cell_type": "code",
   "execution_count": null,
   "metadata": {},
   "outputs": [],
   "source": [
    "def plot_superimposed(mesh1, mesh2, *args, **kwargs):\n",
    "    \"\"\"\n",
    "    Plot the superposition of the two meshes\n",
    "    \"\"\"\n",
    "    mesh = TriMesh(\n",
    "        np.concatenate([mesh1.vertices, mesh2.vertices], axis=0),\n",
    "        np.concatenate([mesh1.faces, mesh2.faces + mesh1.n_vertices], axis=0),\n",
    "    )\n",
    "    plu.plot(mesh, *args, **kwargs)\n",
    "\n",
    "\n",
    "mesh1 = TriMesh(\"./data/Armadillo_1.off\")\n",
    "mesh2 = TriMesh(\"./data/Armadillo_2.off\")\n",
    "\n",
    "plot_superimposed(mesh1, mesh2)"
   ]
  },
  {
   "cell_type": "code",
   "execution_count": null,
   "metadata": {},
   "outputs": [],
   "source": [
    "# VISUALIZE ICP Result, you can change the n_iter to improve results\n",
    "vert1_aligned = icp_align(mesh1.vertices, mesh2.vertices, n_iter=100)\n",
    "\n",
    "plot_superimposed(TriMesh(vert1_aligned, mesh1.faces), mesh2)"
   ]
  },
  {
   "cell_type": "markdown",
   "metadata": {},
   "source": [
    "## Interpretation\n",
    "loss is decreasing and the mesh seems to be more aligned, so the algorithm should be working"
   ]
  },
  {
   "cell_type": "markdown",
   "metadata": {},
   "source": [
    "## As-rigid-as possible deformation\n",
    "This model of deformation tries to preserves at best the shape features. As explained in the course, given a triangle mesh ($T$: triangle list, $X$: vertex positions) the goal is to find new vertex positions $Y = \\{ y_i\\}$ which are as-close-as possible to a local rotation of the initial position $X$. More precisely, we store a rotation matrix $R_i$ at each vertex $i$ and find the rotations $R$ and position $y$ minimizing\n",
    "$$ \\min_{y,R} \\sum_{i} \\sum_{j \\in N_i} w_{ij} \\| y_i - y_j - R_i (x_i - x_j) \\|^2, \\text{  $y$ subject to position constraint,}$$\n",
    "with $w_{ij}$ the cotan-weight and $N_i$ the set of vertices adajcent to $i$.\n",
    "\n",
    "To solve this problem, we iterate between solving for best the position and for rotat\n",
    "ions.\n",
    "\n",
    "1. Finding the optimal position $y$ is simply a constrained Laplacian problem (just like the first question)\n",
    "$$W y = b, \\quad \\text{where } b_i = \\sum_{j \\in N_i} \\frac{w_{ij}}{2} (R_i+R_j) (x_i - x_j) \\text{ for each vertex $i$}, $$\n",
    "and $y$ is constrained at some given vertices.\n",
    "\n",
    "2. Finding the optimal rotation $R_i$ amounts for solving an orthogonal Procrustes problem for each vertex $i$ where the matrix $B_i = \\sum_{j \\in N_i} w_{ij} (y_i - y_j) (x_i - x_j)^\\top$ is decomposed via a SVD (see step 3 of previous question).\n",
    "\n",
    "\n",
    "**To do:**\n",
    "1. Open the file diablo.obj. Solve constrained Laplacian problem with vertex idices `id_lock = [1175, 762, 381, 2383, 1836]` displaced by a vector `[0,0,-0.5; 0,0,0.5; 0,0,-0.5; 0,0,0.5; 1.5,0,0]`\n",
    "2. Add procrustes problem for each vertex\n",
    "3. Add a closest point query at the beginning of the iteration. Chose randomly N points which will be constrained during the iteration."
   ]
  },
  {
   "cell_type": "markdown",
   "metadata": {},
   "source": [
    "We provide a function to compute a list of neighbors for each vertex"
   ]
  },
  {
   "cell_type": "code",
   "execution_count": null,
   "metadata": {},
   "outputs": [],
   "source": [
    "def get_per_vertex_neighbors(faces):\n",
    "    \"\"\"\n",
    "    Compute per-vertex neighbors from a list of triangles\n",
    "\n",
    "    Parameters:\n",
    "    -----------\n",
    "    faces : (n, 3) array of vertex indices for each triangle\n",
    "\n",
    "    Returns:\n",
    "    --------\n",
    "    neighbors : list of lists of vertex indices\n",
    "    \"\"\"\n",
    "\n",
    "    neighbors = [set() for _ in range(faces.max() + 1)]\n",
    "    for face in faces:\n",
    "        neighbors[face[0]].add(face[1])\n",
    "        neighbors[face[0]].add(face[2])\n",
    "\n",
    "        neighbors[face[1]].add(face[0])\n",
    "        neighbors[face[1]].add(face[2])\n",
    "\n",
    "        neighbors[face[2]].add(face[0])\n",
    "        neighbors[face[2]].add(face[1])\n",
    "\n",
    "    return [list(n) for n in neighbors]"
   ]
  },
  {
   "cell_type": "markdown",
   "metadata": {},
   "source": [
    "### Question 10 - Compute the matrix $B_i$"
   ]
  },
  {
   "cell_type": "code",
   "execution_count": null,
   "metadata": {},
   "outputs": [],
   "source": [
    "def get_arap_edge_covariance(x, y, cotan_matrix, per_vertex_neighbors):\n",
    "    \"\"\"\n",
    "    Compute the covariance matrix of the edge between x and y. (Formula B_i)\n",
    "\n",
    "    Parameters:\n",
    "    -----------\n",
    "    x : (n,3) array of coordinates of x\n",
    "    y : (n, 3) array of coordinates of y\n",
    "    cotan_matrix : (n,n) cotan matrix of the mesh,\n",
    "    per_vertex_neighbors : (n,) list with list of neighbors of each vertex\n",
    "\n",
    "    Returns:\n",
    "    --------\n",
    "    covariances : (n, 3, 3) covariance matrices of the edge between x and y\n",
    "    \"\"\"\n",
    "    N = x.shape[0]\n",
    "    covariances = np.zeros((N, 3, 3))\n",
    "\n",
    "    # YOUR CODE HERE\n",
    "    # You can do a loop or let scipy do the job for you (faster)\n",
    "\n",
    "    for i in range(N):\n",
    "        neighbors = per_vertex_neighbors[i]\n",
    "        # Compute the covariance matrix of the edge between x and y\n",
    "        B_i = np.zeros((3, 3))\n",
    "        for j in range(len(neighbors)):\n",
    "            neighbor = neighbors[j]\n",
    "            eij = x[i] - x[neighbor]\n",
    "            eijprime = y[i] - y[neighbor]\n",
    "            wij = cotan_matrix[i, neighbor]\n",
    "            S = wij * np.outer(eijprime, eij)\n",
    "            B_i += S\n",
    "        covariances[i] = B_i\n",
    "\n",
    "    return covariances"
   ]
  },
  {
   "cell_type": "markdown",
   "metadata": {},
   "source": [
    "### Question 11 - Compute the rotation $R_i$ from $B_i$"
   ]
  },
  {
   "cell_type": "code",
   "execution_count": null,
   "metadata": {},
   "outputs": [],
   "source": [
    "import scipy.linalg\n",
    "\n",
    "\n",
    "def get_rot_from_covariances(covariances):\n",
    "    \"\"\"\n",
    "    Compute optimal rotation matrix from edge covariance matrices, using SVD.\n",
    "\n",
    "    Parameters:\n",
    "    -----------\n",
    "    covariances : (n, 3, 3) covariance matrices for each vertex\n",
    "\n",
    "    Returns:\n",
    "    --------\n",
    "    rots : (n, 3, 3) rotation matrices for each vertex\n",
    "    \"\"\"\n",
    "    rots = np.zeros_like(covariances)  # (n, 3, 3)\n",
    "\n",
    "    #  YOUR CODE HERE\n",
    "    # You can do a loop or let scipy do the job for you (faster)\n",
    "    for i in range(covariances.shape[0]):\n",
    "        covariance = covariances[i]\n",
    "\n",
    "        U, s, Vt = np.linalg.svd(covariance)\n",
    "        R = U @ Vt  #!\n",
    "        dets = np.linalg.det(R)\n",
    "        Vt[-1, :] *= dets\n",
    "        R = U @ Vt  # Vt @ U#U@Vt #! TRANSPOSE OR NO TRANSPOSE?\n",
    "        rots[i] = R\n",
    "\n",
    "    return rots"
   ]
  },
  {
   "cell_type": "markdown",
   "metadata": {},
   "source": [
    "### Question 12 - Compute the vector $b$"
   ]
  },
  {
   "cell_type": "code",
   "execution_count": null,
   "metadata": {},
   "outputs": [],
   "source": [
    "def compute_ARAP_rotated_vert(vertices, rotations, cotan_matrix, per_vertex_neighbors):\n",
    "    \"\"\"\n",
    "    Compute the right hand term of the ARAP linear system (formula b_i)\n",
    "\n",
    "    Parameters:\n",
    "    -----------\n",
    "    vertices : (n, 3) array of vertices\n",
    "    rotations : (n, 3, 3) array of rotation matrices\n",
    "    cotan_matrix : (n,n) cotan matrix of the mesh\n",
    "    per_vertex_neighbors : (n,) list with list of neighbors of each vertex\n",
    "\n",
    "    Returns:\n",
    "    --------\n",
    "    b : (n, 3) right hand term of the ARAP linear system\n",
    "    \"\"\"\n",
    "    b = np.zeros((vertices.shape[0], 3))\n",
    "\n",
    "    # YOUR CODE HERE\n",
    "    # You can do a loop or let scipy do the job for you (faster)\n",
    "    for i in range(len(vertices)):\n",
    "        bi = b[i]\n",
    "        for j in range(len(per_vertex_neighbors[i])):\n",
    "            neighbor = per_vertex_neighbors[i][j]\n",
    "            wij = cotan_matrix[i, neighbor] / 2\n",
    "            R = rotations[i] + rotations[neighbor]\n",
    "            p = vertices[i] - vertices[neighbor]\n",
    "            bi += wij * R @ p\n",
    "    return b"
   ]
  },
  {
   "cell_type": "markdown",
   "metadata": {},
   "source": [
    "### Question 13 - Apply ARAP Deformation.\n",
    "Note that the linear system is constrained. Use the same trick as in Question 1 to handle"
   ]
  },
  {
   "cell_type": "code",
   "execution_count": null,
   "metadata": {},
   "outputs": [],
   "source": [
    "def init_mesh():\n",
    "    mesh3 = TriMesh(\"./data/diablo2.obj\").process(k=0)\n",
    "\n",
    "    # THE ID OF THE LANDMARKS\n",
    "    id_lock = [1175, 762, 381, 2383, 1836]\n",
    "\n",
    "    # THE EXPECTED POSITIONS OF THE LANDMARKS AFTER OPTIMIZATION\n",
    "    disp = np.array(\n",
    "        [[0, 0, -0.5], [0, 0, 0.5], [0, 0, -0.5], [0, 0, 0.5], [0.5, 0.5, 0]]\n",
    "    )\n",
    "    positions_target = mesh3.vertices[id_lock] + disp\n",
    "    return mesh3, id_lock, positions_target\n",
    "\n",
    "\n",
    "mesh3, id_lock, positions_target = init_mesh()"
   ]
  },
  {
   "cell_type": "code",
   "execution_count": null,
   "metadata": {},
   "outputs": [],
   "source": [
    "# VISUALIZE THE LANDMARKS\n",
    "plu.plot(\n",
    "    mesh3,\n",
    "    points=np.concatenate([mesh3.vertices[id_lock], positions_target]),\n",
    "    cmap_p=np.tile(np.arange(len(id_lock)), 2),\n",
    "    shading_p=dict(point_size=0.3),\n",
    "    colormap=\"jet\",\n",
    ")"
   ]
  },
  {
   "cell_type": "code",
   "execution_count": null,
   "metadata": {},
   "outputs": [],
   "source": [
    "def prepare_lhs(W):\n",
    "    \"\"\"Compute W to put it under the right constraint\n",
    "\n",
    "    Parameters\n",
    "    ----------\n",
    "    W : laplacian weights\n",
    "    \"\"\"\n",
    "    W = W.copy()\n",
    "    # Update W on constrained Vertices\n",
    "    W[id_lock] = 0  # SET ALL CONSTRAINT TO 0 on id_lock\n",
    "    W[np.ix_(id_lock, id_lock)] = np.eye(len(id_lock))\n",
    "    return W\n",
    "\n",
    "\n",
    "def init_rot_pos(mesh3, positions_target, id_in, id_lock):\n",
    "    # Initial guess for the vertices\n",
    "    init_res = np.zeros_like(mesh3.vertices)\n",
    "    init_res[id_lock] = positions_target\n",
    "    init_res[id_in] = mesh3.vertices[id_in]\n",
    "    rot = (np.array([np.diag([1, 1, 1]) for _ in range(mesh3.n_vertices)]),)\n",
    "    base_mesh = mesh3.vertices\n",
    "    return init_res, rot, base_mesh\n",
    "\n",
    "\n",
    "def apply_rot(rotations, X):\n",
    "    # rotations array (n,3,3)\n",
    "    # X array (n,3)\n",
    "\n",
    "    # rotated_vertices=np.matmul(rotations, X[:, :, None]).squeeze()\n",
    "    # stupid version I'm titled\n",
    "    rotated_vertices = np.zeros_like(X)\n",
    "    for i in range(len(X)):\n",
    "        rotated_vertices[i] = rotations[i] @ X[i]\n",
    "    return rotated_vertices"
   ]
  },
  {
   "cell_type": "code",
   "execution_count": null,
   "metadata": {},
   "outputs": [],
   "source": [
    "vertex_neighbors = get_per_vertex_neighbors(mesh3.faces)\n",
    "from mesh_utils.laplacian import cotangent_weights\n",
    "\n",
    "mesh3, id_lock, positions_target = init_mesh()\n",
    "W = mesh3.W.copy()\n",
    "cotan_matrix = cotangent_weights(vertices=mesh3.vertices, faces=mesh3.faces)\n",
    "\n",
    "W_LHS = prepare_lhs(W)\n",
    "# Diagonal correct\n",
    "print(W.shape, mesh3.n_vertices)\n",
    "# Interior vertices\n",
    "id_in = [i for i in range(mesh3.n_vertices) if i not in id_lock]\n",
    "\n",
    "# Initial guess for the vertices\n",
    "init_res, rot, base_mesh = init_rot_pos(mesh3, positions_target, id_in, id_lock)\n",
    "init_res_base = init_res.copy()\n",
    "# ARAP Loop. You can try to increase the number of iterations and see the difference\n",
    "nb_iterations = 1\n",
    "\n",
    "for i in range(nb_iterations):\n",
    "    print(\"init_res\", init_res.shape)\n",
    "    # Compute rotation matrices, covariances, b\n",
    "    # Get covariance\n",
    "    print(\"----iteration\", i)\n",
    "\n",
    "    # rotated_vertices=apply_rot(rot,X=init_res)\n",
    "    Y = init_res\n",
    "    covariances = get_arap_edge_covariance(\n",
    "        cotan_matrix=cotan_matrix,\n",
    "        per_vertex_neighbors=vertex_neighbors,\n",
    "        x=base_mesh,\n",
    "        y=Y,\n",
    "    )\n",
    "\n",
    "    # First guess rotation\n",
    "    rot = get_rot_from_covariances(covariances)\n",
    "    # Now plug the rotation to get the new positions pi'\n",
    "    b = compute_ARAP_rotated_vert(\n",
    "        vertices=init_res,\n",
    "        rotations=rot,\n",
    "        cotan_matrix=W,\n",
    "        per_vertex_neighbors=vertex_neighbors,\n",
    "    )\n",
    "\n",
    "    # Now remove the fixed neighbors that have to go to the target\n",
    "    b[id_lock] = positions_target\n",
    "    # Compute right hand term and left hand term of ARAP SYSTEM\n",
    "    # Think about the constraint, go back the the text in part 1.1 to see how to build the constrained system\n",
    "    lhs = W_LHS  # TODO left hand side of the system\n",
    "    rhs = b  # TODO right hand side of the system\n",
    "\n",
    "    res = scipy.sparse.linalg.spsolve(lhs, rhs)\n",
    "    # print(\"res for id_lock\",res[id_lock])\n",
    "    # print(\"the position target\",positions_target)\n",
    "    final_res = np.zeros_like(init_res)\n",
    "    final_res[id_lock] = positions_target\n",
    "    final_res[id_in] = res[id_in]\n",
    "    # final_res=res\n",
    "    # compute the ARAP loss\n",
    "    \"\"\" loss=energy(vertex_neighbors,cotan_matrix,\n",
    "                Xini=init_res_base,Yprime=final_res,rotation=rot\n",
    "                        ,power=2) \"\"\"\n",
    "    \"\"\" print(\"the loss\",loss\n",
    "          ) \"\"\"\n",
    "    init_res = final_res\n",
    "\n",
    "\n",
    "final_res.shape"
   ]
  },
  {
   "cell_type": "code",
   "execution_count": null,
   "metadata": {},
   "outputs": [],
   "source": [
    "print(W_LHS[np.ix_(id_lock, id_lock)].todense())\n",
    "print(b[id_lock])\n",
    "print(\"positions_target\", positions_target)"
   ]
  },
  {
   "cell_type": "code",
   "execution_count": null,
   "metadata": {},
   "outputs": [],
   "source": [
    "plu.plot(TriMesh(final_res, mesh3.faces))"
   ]
  },
  {
   "cell_type": "code",
   "execution_count": null,
   "metadata": {},
   "outputs": [],
   "source": [
    "new_mesh = TriMesh(final_res, mesh3.faces)\n",
    "plot_superimposed(new_mesh, mesh3)"
   ]
  },
  {
   "cell_type": "code",
   "execution_count": null,
   "metadata": {},
   "outputs": [],
   "source": [
    "plu.plot(new_mesh)"
   ]
  }
 ],
 "metadata": {
  "kernelspec": {
   "display_name": "geom",
   "language": "python",
   "name": "python3"
  },
  "language_info": {
   "codemirror_mode": {
    "name": "ipython",
    "version": 3
   },
   "file_extension": ".py",
   "mimetype": "text/x-python",
   "name": "python",
   "nbconvert_exporter": "python",
   "pygments_lexer": "ipython3",
   "version": "3.12.7"
  },
  "toc": {
   "base_numbering": 1,
   "nav_menu": {},
   "number_sections": true,
   "sideBar": true,
   "skip_h1_title": false,
   "title_cell": "Table of Contents",
   "title_sidebar": "Contents",
   "toc_cell": false,
   "toc_position": {},
   "toc_section_display": true,
   "toc_window_display": false
  }
 },
 "nbformat": 4,
 "nbformat_minor": 4
}
