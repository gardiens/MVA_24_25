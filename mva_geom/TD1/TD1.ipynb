{
 "cells": [
  {
   "cell_type": "markdown",
   "id": "0",
   "metadata": {},
   "source": [
    "In this practical session, we explore the use of the Laplacian operator on a surface, in order to solve heat diffusision, to perform shape matching, or even to compute geodesic distances !\n",
    "\n",
    "In a first step, we learn how to read and store triangulated surfaces (*meshes*), and how to build the discrete Laplace-Beltrami Operator. \n",
    "\n",
    "We then seek to use this operator in different practical scenarios."
   ]
  },
  {
   "cell_type": "markdown",
   "id": "1",
   "metadata": {},
   "source": [
    "# Setup envionment "
   ]
  },
  {
   "cell_type": "markdown",
   "id": "2",
   "metadata": {},
   "source": [
    "Your Python environment should include `numpy`, `scipy`, `matplotlib` and `meshplot`. The latter can be installed from conda using:\n",
    "><code> conda install -c conda-forge meshplot\n",
    "</code>"
   ]
  },
  {
   "cell_type": "markdown",
   "id": "3",
   "metadata": {},
   "source": [
    "Please download [this zip file](https://www.lix.polytechnique.fr/Labo/Robin.Magnet/INF631/data.zip) and place all elements in the same folder as the notebook."
   ]
  },
  {
   "cell_type": "code",
   "execution_count": null,
   "id": "4",
   "metadata": {},
   "outputs": [],
   "source": [
    "import numpy as np\n",
    "\n",
    "# If you did not put the elements of the zip file in the same folder as the the notebook add the next two lines\n",
    "# import sys\n",
    "# sys.path.append(\"PATH TO THE DIRECTORY WHERE YOU UNZIPED YOUR FILES\")\n",
    "import plot_utils as plu  # Follow the above procedure\n",
    "import scipy.sparse as sparse"
   ]
  },
  {
   "cell_type": "markdown",
   "id": "5",
   "metadata": {},
   "source": [
    "# 0. Reading and storing a mesh "
   ]
  },
  {
   "cell_type": "markdown",
   "id": "6",
   "metadata": {},
   "source": [
    "Unlike images, there are several ways to represent a discrete (triangulated) surface. In this session, we will stick to the most basic data structure which is made of:\n",
    "1. A list of vertex coordinates in $\\mathbb{R}^3$\n",
    "2. A list of triangles, each defined by 3 **ordered** vertex indices $i,j,k\\in\\mathbb{N}$. The order of the vertices define the direction of the normal.\n",
    "\n",
    "The `OFF` format, or **O**bject **F**ile **F**ormat, stores this information in a `.off` file, which we will use today. "
   ]
  },
  {
   "cell_type": "markdown",
   "id": "7",
   "metadata": {},
   "source": [
    "Open the `bunny.off` file using a text editor, where the structure will look like :\n",
    "<blockquote>\n",
    "    <code>OFF\n",
    "34834 69451 0\n",
    "-0.0378297 0.12794 0.00447467\n",
    "-0.0447794 0.128887 0.00190497\n",
    "...\n",
    "-0.0400442 0.15362 -0.00816685\n",
    "3 20463 20462 19669 \n",
    "3 8845 8935 14299 \n",
    "...</code>\n",
    "</blockquote>\n",
    "\n",
    "As you may already understand, our `.off` file is presented as follows:\n",
    "<ol>\n",
    "    <li> First Line: <code>OFF</code> letters</li>\n",
    "    <li> Second Line:  <code>n m 0</code>, with $n$ the numbers of <b>vertices</b> and $m$ the number of <b>triangles</b></li>\n",
    "    <li> Next $n$ lines: <code>X Y Z</code> coordinates for each <b>vertex</b></li>\n",
    "    <li> Next $m$ lines: <code>3 i j k</code> indices of the vertices constituting each <b>face</b></li>\n",
    "</ol>\n",
    "\n",
    "In practice, the `OFF` file format can include some more information as you can see on [here](https://en.wikipedia.org/wiki/OFF_(file_format)) if you are interested."
   ]
  },
  {
   "cell_type": "markdown",
   "id": "8",
   "metadata": {},
   "source": [
    "### QUESTION 1\n",
    "<b> Write the function `read_off` which can read a basic `.off` file.</b>"
   ]
  },
  {
   "cell_type": "markdown",
   "id": "9",
   "metadata": {},
   "source": [
    "**Tips** :\n",
    "<ol>\n",
    "    <li> You can use the <code>with</code> statement to efficiently process a file: <br>\n",
    "        <code>with open(filepath, 'r') as f:\n",
    "   # compute operation on file</code>\n",
    "    </li>\n",
    "    <li> <code>f.readline()</code> returns the next line</li>\n",
    "    <li> <code>text.strip().split()</code> removes breakline characters from <code>text</code> and splits with respect to spaces. Try it with <code>text=\"1 2 3\\n\"</code> to see what happens.</li>\n",
    "</ol>"
   ]
  },
  {
   "cell_type": "code",
   "execution_count": null,
   "id": "10",
   "metadata": {},
   "outputs": [],
   "source": []
  },
  {
   "cell_type": "code",
   "execution_count": null,
   "id": "11",
   "metadata": {},
   "outputs": [],
   "source": [
    "import numpy as np\n",
    "\n",
    "\n",
    "def read_off(filepath):\n",
    "    \"\"\"\n",
    "    Reads a simple .off file\n",
    "\n",
    "    Input\n",
    "    --------------\n",
    "    filepath : str - path to the .off file\n",
    "\n",
    "    Output\n",
    "    --------------\n",
    "    vertices : (n,3) array of vertex coordinates (float)\n",
    "    faces    : (m,3) array of faces defined by vertices index (integers)\n",
    "    \"\"\"\n",
    "    ## TODO\n",
    "    # READ THE OFF FILE with path \"filepath\" and return vertex and faces information\n",
    "    with open(filepath, \"r\") as f:\n",
    "        f.readline()\n",
    "\n",
    "        n, m, _ = f.readline().split()\n",
    "        n = int(n)\n",
    "        m = int(m)\n",
    "        k = 0\n",
    "        j = 0\n",
    "        result_vertex = []\n",
    "        result_edge = []\n",
    "        while line := f.readline():\n",
    "            if k < n:\n",
    "\n",
    "                result_vertex.append(np.array(line.strip().split(\" \"), dtype=np.float32))\n",
    "\n",
    "                k += 1\n",
    "\n",
    "            else:\n",
    "                edge = line.rstrip()[1:].split(\" \")[1:]\n",
    "                result_edge.append(np.array(edge, dtype=np.int64))\n",
    "\n",
    "    return np.array(result_vertex), np.array(result_edge)\n",
    "    return vertices, faces"
   ]
  },
  {
   "cell_type": "markdown",
   "id": "12",
   "metadata": {},
   "source": [
    "As we will have to deal with several components regarding a single mesh, it might be good to create a specific class in which all information will be stored."
   ]
  },
  {
   "cell_type": "code",
   "execution_count": null,
   "id": "13",
   "metadata": {},
   "outputs": [],
   "source": [
    "class MyMesh:\n",
    "    def __init__(self, path):\n",
    "        \"\"\"\n",
    "        Initialize the mesh from a path\n",
    "        \"\"\"\n",
    "        self.vertices, self.faces = read_off(path)"
   ]
  },
  {
   "cell_type": "markdown",
   "id": "14",
   "metadata": {},
   "source": [
    "This way, if we define an instance of `MyMesh` as `mesh = MyMesh(filepath)`, the `__init__` function is automatically run with parameter `filepath` (ignore the `self` parameter).\n",
    "\n",
    "Then the mesh vertex coordinates can be accessed using `mesh.vertices`and its faces information with `mesh.faces`. These are the *properties* of our class.\n",
    "\n",
    "Let us load and visualize our bunny:"
   ]
  },
  {
   "cell_type": "code",
   "execution_count": null,
   "id": "15",
   "metadata": {},
   "outputs": [],
   "source": [
    "mesh = MyMesh(\"bunny.off\")\n",
    "print(mesh.vertices, mesh.faces)"
   ]
  },
  {
   "cell_type": "code",
   "execution_count": null,
   "id": "16",
   "metadata": {},
   "outputs": [],
   "source": [
    "plu.plot(mesh)"
   ]
  },
  {
   "cell_type": "markdown",
   "id": "17",
   "metadata": {},
   "source": [
    "# 1. Discrete Operators"
   ]
  },
  {
   "cell_type": "markdown",
   "id": "18",
   "metadata": {},
   "source": [
    "As seen in class, the Laplacian of a mesh is ubiquitous in geometry processing. The discrete laplacian is defined as\n",
    "$$\n",
    "L = A^{-1}W\n",
    "$$\n",
    "with $A$ the (diagonal) area matrix, and $W$ the cotangent weight matrix"
   ]
  },
  {
   "cell_type": "markdown",
   "id": "19",
   "metadata": {},
   "source": [
    "**Notes for Sparse Matrices**<br>\n",
    "As the Laplace-Operator is a differential operator, it only locally acts at a point with respect to a local neighborhood. When storing it in a $n\\times n$ matrix, this results in numerous zero entries, which are useless to keep in memory.\n",
    "\n",
    "For both speed and memory efficiency, we use sparse matrices to represent such operators, where only non-zero entries are stored. The most basic structure for a sparse matrix is the **COO**rdinate format, which consists in three lists $I,J,V$ which respectively store the line index, column index and value for each non-zero entry.\n",
    "\n",
    "For algebra manipulations (matrix vector multiplications, linear system, ...), other format such as **C**ompressed **S**parse **R**ow (CSR) provide a substential speedup compared to COO. You can read about the CSR and CSC format [here](https://en.wikipedia.org/wiki/Sparse_matrix).\n",
    "\n",
    "In the [`scipy.sparse`](https://docs.scipy.org/doc/scipy/reference/sparse.html) library, you can generate COO, CSR or CSC matrices from the $I,J,V$ format using for instance<br>\n",
    "> <code>scipy.sparse.csr_matrix((V, (I,J)), shape=(N,N))</code>\n",
    "\n",
    "Note that depending on your python version, you might now have access to the more recent `scipy.sparse.csr_array` functions."
   ]
  },
  {
   "cell_type": "markdown",
   "id": "20",
   "metadata": {},
   "source": [
    "**Notes for numpy linear algebra**<br>\n",
    "A few tips for simpler reading of numpy\n",
    "<ol>\n",
    "    <li> <code>np.matmul(A, B)</code> and <code>A @ B</code> are the same </li>\n",
    "    <li><code>np.matmum(A, v)</code> and <code>A @ v</code> are the same</li>\n",
    "    <li><code>np.dot(u, v)</code> and <code>u @ v</code> are the same</li>\n",
    "    <li> <code>np.transpose(A)</code> and <code>A.T</code> are the same</li>\n",
    "</ol>\n",
    "\n",
    "This means <code>A @ B.T @ u</code> is the same as <code>np.matmul(A, np.matmul(np.transpose(B), u))</code>"
   ]
  },
  {
   "cell_type": "markdown",
   "id": "21",
   "metadata": {},
   "source": [
    "## Question 2 \n",
    "<b> Fill the functions <code>compute_faces_areas</code> and <code>area_matrix</code> to respectively compute the area of each face and the vertex-wise area matrix $A$</b>"
   ]
  },
  {
   "cell_type": "markdown",
   "id": "22",
   "metadata": {},
   "source": [
    "Recall the area matrix $A$ is a $n\\times n$ diagonal matrix where each entry provide the corresponding vertex area defined as:\n",
    "$$\n",
    "A_{ii} = \\frac{1}{3}\\sum_{f\\in\\mathcal{F}\\\\ i\\in f} \\text{Area}(f)\n",
    "$$\n",
    "\n",
    "**Tip**: There are multiple ways to compute the area of a triangle $ABC$, one of them being $\\frac{1}{2}\\|\\vec{AB}\\times \\vec{AC}\\|$"
   ]
  },
  {
   "cell_type": "code",
   "execution_count": null,
   "id": "23",
   "metadata": {},
   "outputs": [],
   "source": [
    "test = np.array([[1, 2, 3], [1, 5, 6]])"
   ]
  },
  {
   "cell_type": "code",
   "execution_count": null,
   "id": "24",
   "metadata": {},
   "outputs": [],
   "source": [
    "faces = np.array([[1, 0, 2]])\n",
    "vertices = np.array([[0, 0, 0], [0, 1, 0], [0, 0, 1]])\n",
    "compute_faces_areas(vertices, faces)"
   ]
  },
  {
   "cell_type": "code",
   "execution_count": null,
   "id": "25",
   "metadata": {},
   "outputs": [],
   "source": [
    "def compute_faces_areas(vertices, faces):\n",
    "    \"\"\"\n",
    "    Compute the area of each face\n",
    "\n",
    "    Input\n",
    "    --------------\n",
    "    vertices : (n,3) - vertex coordinates\n",
    "    faces    : (m,3) - faces defined by vertex indices\n",
    "\n",
    "    Output\n",
    "    --------------\n",
    "    faces_areas : (m,) - area of each face\n",
    "    \"\"\"\n",
    "    ## TODO\n",
    "    n = vertices.shape[0]\n",
    "    # Compute the area of each triangle of the mesh.\n",
    "    faces_areas = []\n",
    "    for area in faces:\n",
    "        i, j, k = area\n",
    "        A, B, C = vertices[i], vertices[j], vertices[k]\n",
    "        value = (B - A) @ (C - A)\n",
    "        face_area = 1 / 2 * np.linalg.norm(value)\n",
    "        faces_areas.append(face_area)\n",
    "\n",
    "    return np.array(faces_areas)\n",
    "\n",
    "\n",
    "def area_matrix(vertices, faces):\n",
    "    \"\"\"\n",
    "    Compute the diagonal area matrix\n",
    "\n",
    "    Input\n",
    "    --------------\n",
    "    vertices : (n,3) - vertex coordinates\n",
    "    faces    : (m,3) - faces defined by vertex indices\n",
    "\n",
    "    Output\n",
    "    --------------\n",
    "    A : (n,n) sparse matrix in DIAgonal format\n",
    "    \"\"\"\n",
    "    # TODO\n",
    "    # Compute the area of each vertex in the mesh.\n",
    "    # Use the formula above.\n",
    "    n = vertices.shape[0]\n",
    "    m = faces.shape[0]\n",
    "    vertex_areas = np.zeros((n))\n",
    "    faces_areas = compute_faces_areas(vertices=vertices, faces=faces)\n",
    "\n",
    "    for k in range(m):\n",
    "        i, j, l = faces[k]\n",
    "        face_areas = faces_areas[k]\n",
    "        for vertex in [i, j, l]:\n",
    "            vertex_areas[vertex] += face_areas\n",
    "\n",
    "    vertex_areas *= 1 / 3\n",
    "\n",
    "    # TODO (takes more than one line)\n",
    "\n",
    "    # Create a SPARSE diagonal matix from vertex areas\n",
    "    N = vertices.shape[0]\n",
    "    A = sparse.dia_matrix((vertex_areas, 0), shape=(N, N))\n",
    "    return A\n",
    "\n",
    "\n",
    "faces_areas = compute_faces_areas(mesh.vertices, mesh.faces)"
   ]
  },
  {
   "cell_type": "markdown",
   "id": "26",
   "metadata": {},
   "source": [
    "<b>Sanity Check : Verify that your total area remains the same whether you sum all face areas or the entries of the area matrix</b>"
   ]
  },
  {
   "cell_type": "code",
   "execution_count": null,
   "id": "27",
   "metadata": {},
   "outputs": [],
   "source": [
    "A = area_matrix(mesh.vertices, mesh.faces)"
   ]
  },
  {
   "cell_type": "code",
   "execution_count": null,
   "id": "28",
   "metadata": {},
   "outputs": [],
   "source": [
    "A.diagonal().sum()"
   ]
  },
  {
   "cell_type": "code",
   "execution_count": null,
   "id": "29",
   "metadata": {},
   "outputs": [],
   "source": [
    "faces_areas.sum()"
   ]
  },
  {
   "cell_type": "code",
   "execution_count": null,
   "id": "30",
   "metadata": {},
   "outputs": [],
   "source": [
    "faces_areas.sum()"
   ]
  },
  {
   "cell_type": "code",
   "execution_count": null,
   "id": "31",
   "metadata": {},
   "outputs": [],
   "source": [
    "faces_areas = compute_faces_areas(mesh.vertices, mesh.faces)\n",
    "\n",
    "A = area_matrix(mesh.vertices, mesh.faces)\n",
    "print(A.diagonal().sum() == faces_areas.sum())"
   ]
  },
  {
   "cell_type": "markdown",
   "id": "32",
   "metadata": {},
   "source": [
    "## Question 3"
   ]
  },
  {
   "cell_type": "markdown",
   "id": "33",
   "metadata": {},
   "source": [
    "Recall the stiffness matrix $W$ is a $n\\times n$ sparse matrix. There are multiple ways to compute each entry, one of them being:\n",
    "$$\n",
    "W_{ij} = \\begin{cases}\n",
    "\\sum_{k\\neq i} W_{ik} \\quad&\\text{if}\\quad i=j\\\\\n",
    "-\\frac{1}{2} \\left(\\cot(\\alpha_{ij}) + \\cot(\\beta_{ij})\\right)\\quad&\\text{if}\\quad ij\\in\\mathcal{E}\\\\\n",
    "0 \\quad&\\text{else}\n",
    "\\end{cases}\n",
    "$$\n",
    "\n",
    "where $\\alpha_{ij}$ and $\\beta_{ij}$ are the angles opposite to the edge $ij$. Note that actually $\\beta_{ij}=\\alpha_{ji}$. With other notations you can visualize this face on the image below"
   ]
  },
  {
   "cell_type": "markdown",
   "id": "34",
   "metadata": {},
   "source": [
    "![title](https://www.researchgate.net/publication/361577236/figure/fig3/AS:1182638081617922@1658974299594/An-illustration-for-the-cotangent-weights.png)"
   ]
  },
  {
   "cell_type": "markdown",
   "id": "35",
   "metadata": {},
   "source": [
    "### Question 3.1 "
   ]
  },
  {
   "cell_type": "markdown",
   "id": "36",
   "metadata": {},
   "source": [
    "<b> Fill the function <code>get_cotan_weights</code> to compute the cotangent weights for each face</b>"
   ]
  },
  {
   "cell_type": "code",
   "execution_count": null,
   "id": "37",
   "metadata": {},
   "outputs": [],
   "source": [
    "def cotan_weights(vertices, faces):\n",
    "    \"\"\"\n",
    "    Compute cotangent weights for each face. Each vertex will carry the cotan of its angle.\n",
    "\n",
    "    For a face [i, j, k], the output will be [alpha_{jk}, alpha_{ki}, alpha_{ij}].\n",
    "\n",
    "    Input\n",
    "    ----------\n",
    "    vertices : (n,3) - The vertices of the mesh\n",
    "    faces : (m,3) The faces of the mesh\n",
    "\n",
    "    Output\n",
    "    -------\n",
    "    cotan_weights : (m,3) The cotangent weights for each face\n",
    "    \"\"\"\n",
    "    ### TODO - Compute the cotangent weights\n",
    "    # This can be done in parallel using numpy, or by looping over the faces\n",
    "    m = faces.shape[0]\n",
    "    n = vertices.shape[0]\n",
    "    cotan_weights = np.zeros(shape=(m, 3))\n",
    "\n",
    "    for i in range(m):\n",
    "        i, j, k = faces[i]\n",
    "        A, B, C = vertices[i], vertices[j], vertices[k]\n",
    "        AB = B - A\n",
    "        BC = C - A\n",
    "        CA = A - C\n",
    "\n",
    "        alpha_jk = np.dot(AB, BC) / (np.linalg.norm(AB) * np.linalg.norm(BC))\n",
    "        alpha_ki = np.dot(BC, CA) / (np.linalg.norm(BC) * np.linalg.norm(CA))\n",
    "        alpha_ij = np.dot(CA, AB) / (np.linalg.norm(CA) * np.linalg.norm(AB))\n",
    "        cotan_weights[i] = np.array([alpha_jk, alpha_ki, alpha_ij])\n",
    "    \"\"\"    for face in faces : \n",
    "        angle_1= np.dot(signed_angles[1],signed_angles[0])/(np.linalg.norm(signed_angles[0])*np.linalg.norm(signed_angles[1]))\n",
    "        angle_2=\n",
    "        angle_3=\n",
    "    \"\"\"\n",
    "\n",
    "    return cotan_weights"
   ]
  },
  {
   "cell_type": "markdown",
   "id": "38",
   "metadata": {},
   "source": [
    "### Question 3.2 "
   ]
  },
  {
   "cell_type": "markdown",
   "id": "39",
   "metadata": {},
   "source": [
    "<b> Fill the function <code>cotan_matrix</code> to compute the cotangent weight matrix $W$</b>"
   ]
  },
  {
   "cell_type": "code",
   "execution_count": null,
   "id": "40",
   "metadata": {},
   "outputs": [],
   "source": [
    "def cotan_matrix(vertices, faces):\n",
    "    \"\"\"\n",
    "    Compute the stiffness matrix\n",
    "\n",
    "    Input\n",
    "    --------------\n",
    "    vertices : (n,3) - vertex coordinates\n",
    "    faces    : (m,3) - faces defined by vertex indices\n",
    "\n",
    "    Output\n",
    "    --------------\n",
    "    W : (n,n) sparse matrix in CSC format\n",
    "    \"\"\"\n",
    "    # TODO\n",
    "    # Compute the entries I,J,V of the stiffness matrix\n",
    "    # Note that the same pair (i,j) of indices can appear multiple times in I,J\n",
    "    # The corresponding values in V are then summed by scipy.\n",
    "\n",
    "    m = faces.shape[0]\n",
    "    n = vertices.shape[0]\n",
    "    cotan_weight = cotan_weights(vertices, faces)\n",
    "\n",
    "    W = np.zeros(shape=(n, n))\n",
    "\n",
    "    for i in range(m):\n",
    "        i, j, k = faces[i]\n",
    "        cotan_w = cotan_weight[i]\n",
    "        W[i, j] += -cotan_w[2]\n",
    "        W[j, k] += -cotan_w[0]\n",
    "        W[k, i] += -cotan_w[1]\n",
    "        \"\"\" W[j,i]+= cotan_w[2]\n",
    "        W[k,j]+= cotan_w[0]\n",
    "        W[i,k]+= cotan_w[1] \"\"\"\n",
    "\n",
    "    # Don't forget the middle term\n",
    "    for i in range(n):\n",
    "        W[i, i] = -W[i].sum()\n",
    "    return sparse.csc_matrix(W)\n",
    "\n",
    "    return W\n",
    "\n",
    "\n",
    "np.isclose(cotan_matrix(mesh.vertices, mesh.faces).sum(), 0)"
   ]
  },
  {
   "cell_type": "markdown",
   "id": "41",
   "metadata": {},
   "source": [
    "**Sanity Check : Ensure all terms sum to 0**"
   ]
  },
  {
   "cell_type": "code",
   "execution_count": null,
   "id": "42",
   "metadata": {},
   "outputs": [],
   "source": [
    "np.isclose(cotan_matrix(mesh.vertices, mesh.faces).sum(), 0)"
   ]
  },
  {
   "cell_type": "markdown",
   "id": "43",
   "metadata": {},
   "source": [
    "Let us now integrate this Laplacian into our mesh class (nothing to change here):"
   ]
  },
  {
   "cell_type": "code",
   "execution_count": null,
   "id": "44",
   "metadata": {},
   "outputs": [],
   "source": [
    "class MyMesh:\n",
    "    def __init__(self, path):\n",
    "        \"\"\"\n",
    "        Initialize the mesh from a path\n",
    "        \"\"\"\n",
    "        self.vertices, self.faces = read_off(path)\n",
    "\n",
    "    def compute_laplacian(self):\n",
    "        self.A = area_matrix(self.vertices, self.faces)\n",
    "        self.W = cotan_matrix(self.vertices, self.faces)"
   ]
  },
  {
   "cell_type": "markdown",
   "id": "45",
   "metadata": {},
   "source": [
    "The function `compute_laplacian` is called a *method* of the class `MyMesh`, and can be called as follows:"
   ]
  },
  {
   "cell_type": "code",
   "execution_count": null,
   "id": "46",
   "metadata": {},
   "outputs": [],
   "source": [
    "mesh = MyMesh(\"bunny.off\")\n",
    "mesh.compute_laplacian()"
   ]
  },
  {
   "cell_type": "markdown",
   "id": "47",
   "metadata": {},
   "source": [
    "The `self` parameter actually defined the instance of the class `MyMesh` on which the method is called.\n",
    "Equivalentely, one could run `MyMesh.compute_laplacian(mesh)` instead of `mesh.compute_laplacian()`."
   ]
  },
  {
   "cell_type": "markdown",
   "id": "48",
   "metadata": {},
   "source": [
    "# 2. Diffusion on Surface "
   ]
  },
  {
   "cell_type": "markdown",
   "id": "49",
   "metadata": {},
   "source": [
    "## 2.1 Exact Diffusion "
   ]
  },
  {
   "cell_type": "markdown",
   "id": "50",
   "metadata": {},
   "source": [
    "Perhaps, the most common use of the Laplace-Beltrami operator is to simulate heat diffusion on an arbitrary surface.\n",
    "\n",
    "Recall that the Heat Equation is defined as\n",
    "$$\n",
    "\\frac{\\partial u}{\\partial t} = \\Delta u\n",
    "$$\n",
    "\n",
    "Given an initial function $u_0$, the values $u_t$ at time $t$ can be obtained by discretizing the equation using single backward Euler Step, which leads to \n",
    "$$\n",
    "\\left(I_d - t\\Delta \\right) u_t = u_0\n",
    "$$\n",
    "\n",
    "Note however that the mathematical laplacian $\\Delta$ is <b>negative semidefinite</b>, while our laplacian $L$ is <b>positive semidefinite</b>, and $L\\simeq -\\Delta$. \n",
    "\n",
    "Replacing $\\Delta$ by $-L$ and multiplying the left and right side of the equation by $A$, which removes the inverse $A^{-1}$, we obtain\n",
    "\n",
    "$$\n",
    "\\left(A + tW \\right) u_t = A u_0\n",
    "$$\n",
    "\n",
    "Therefore, given $u_0$, the value of $u$ at time $t$ can be obtained by solving this **sparse** linear system (as the matrix $A + tW$ we want to invert is sparse).\n",
    "\n",
    "While the system is made of $n$ equations,  where $n$ is the number of vertices which can grow very large, the fact it is **sparse** enables the use of significanly faster solver than for dense systems of the same size. Note that solving the system **does not** require to actually invert $A + tW$.\n",
    "\n"
   ]
  },
  {
   "cell_type": "markdown",
   "id": "51",
   "metadata": {},
   "source": [
    "## Question 4\n",
    "<b> Fill the function <code>diffuse_full</code> to compute diffusion of an initial function $f$ for time $t$</b>"
   ]
  },
  {
   "cell_type": "markdown",
   "id": "52",
   "metadata": {},
   "source": [
    "**Tip**: Use [`sparse.linalg.spsolve`](https://docs.scipy.org/doc/scipy/reference/generated/scipy.sparse.linalg.spsolve.html)"
   ]
  },
  {
   "cell_type": "code",
   "execution_count": null,
   "id": "53",
   "metadata": {},
   "outputs": [],
   "source": [
    "from scipy.sparse.linalg import spsolve\n",
    "\n",
    "\n",
    "def diffuse_full(f, mesh, t):\n",
    "    \"\"\"\n",
    "    Diffuse a function f on a mesh for time t\n",
    "\n",
    "    Input\n",
    "    --------------\n",
    "    f       : (n,) - function values\n",
    "    mesh    : MyMesh - mesh on which to diffuse\n",
    "    t       : float - time for which to diffuse\n",
    "\n",
    "    Output\n",
    "    --------------\n",
    "    f_diffuse : (n,) values of f after diffusion\n",
    "    \"\"\"\n",
    "    # TODO\n",
    "    # Solve the Diffusion process using the formula above\n",
    "    A, W = mesh.A, mesh.W\n",
    "    to_invert = A + t * W\n",
    "\n",
    "    return spsolve(to_invert, A @ f)\n",
    "    return f_diffuse"
   ]
  },
  {
   "cell_type": "markdown",
   "id": "54",
   "metadata": {},
   "source": [
    "## Question 4\n",
    "<b> See what happens when diffusing a dirac function</b>\n",
    "\n",
    "**Tip**:\n",
    "<ol>\n",
    "    <li> Plotting the dirac function centered on index <code>ind</code> can be done with <code>plu.plot(mesh, points=ind)</code> </li>\n",
    "    <li> Plotting the diffused function <code>f_diffuse</code> can be done with <code>plu.plot(mesh, f_diffuse, colormap='Reds')</code> </li>"
   ]
  },
  {
   "cell_type": "code",
   "execution_count": null,
   "id": "55",
   "metadata": {},
   "outputs": [],
   "source": [
    "## TODO\n",
    "n = mesh.vertices.shape[0]\n",
    "dirac = np.zeros(n)\n",
    "ind = 5\n",
    "dirac[ind] = 1\n",
    "\n",
    "# plu.plot(mesh,points=ind)\n",
    "\n",
    "f_diffuse = diffuse_full(dirac, mesh, 1)\n",
    "f_diffuse.shape"
   ]
  },
  {
   "cell_type": "code",
   "execution_count": null,
   "id": "56",
   "metadata": {},
   "outputs": [],
   "source": [
    "print(f_diffuse)\n",
    "plu.plot(mesh, f_diffuse, colormap=\"Reds\")"
   ]
  },
  {
   "cell_type": "markdown",
   "id": "57",
   "metadata": {},
   "source": [
    "## 2.2 Approximate Diffusion "
   ]
  },
  {
   "cell_type": "markdown",
   "id": "58",
   "metadata": {},
   "source": [
    "As seen in class, the spectrum of the Laplace-Beltrami operator provides a functional basis which generalizes the standard Fourier Analysis to all surfaces.\n",
    "\n",
    "As the Laplacian is only positive **semidefinite**, its spectrum is obtained by solving the **generalized** eigenvalue problem $W\\phi = \\lambda A \\phi$.\n",
    "\n",
    "This spectrum consists in eigenvalues - eigenfunctions pairs $\\left(\\lambda_j, \\phi_j\\right)_j$.\n",
    "\n",
    "In practice, we only compute the first $K$ eigenfunctions where $K$ lies in $[10,100]$. This defines an **orthogonal** basis (with respect to the standard inner product defined by $A$), which already provides good approximations of many functions.\n",
    "\n",
    "In practice, the spectrum is stored as follows:\n",
    "<ol>\n",
    "    <li>The eigenvalues $\\left(\\lambda_j\\right)_j$ are stored in a list and seen as a diagonal matrix $\\Lambda$</li>\n",
    "    <li>The eigenvectors $\\left(\\phi_j\\right)_j$ are stored as columns of matrix $\\Phi$</li>\n",
    "</ol>\n",
    "\n",
    "and proposes the following properties:\n",
    "<ul>\n",
    "    <li><b>Orthogonality</b> of the inner product defined by $A$: $\\Phi^\\top A \\Phi = I_K$. This is the discrete translation of $\\langle \\phi_i, \\phi_j\\rangle_{A} = \\delta_{ij}$, where $\\delta$ is here the Kronecker symbol</li>\n",
    "    <li><b>Eigendecomposition</b>: $L\\Phi = \\Phi \\Lambda$ (or $W\\Phi = A\\Phi \\Lambda$). This is the discrete translation of $L\\phi_i=\\lambda_i\\phi_i$</li>\n",
    "    <li>The <b>projection</b> $\\alpha\\in\\mathbb{R}^K$ of a function $f\\in\\mathbb{R}^n$ on the basis is: $\\alpha = \\Phi^\\top A f$. This is the translation of $\\alpha_i=\\langle\\phi_i, f\\rangle_A$</li>\n",
    "    <li>Coefficients $\\alpha\\in\\mathbb{R}^K$ in the basis define a function $f\\in\\mathbb{R}^n$ on the shape as: $\\Phi\\alpha = f$. This is the translation of $f=\\sum_{i=0}^K \\alpha_i\\phi_i$</li>\n",
    "</ul>"
   ]
  },
  {
   "cell_type": "markdown",
   "id": "59",
   "metadata": {},
   "source": [
    "Let's add the eigendecomposition of the Laplacian to the mesh class as a new method."
   ]
  },
  {
   "cell_type": "code",
   "execution_count": null,
   "id": "60",
   "metadata": {},
   "outputs": [],
   "source": [
    "class MyMesh:\n",
    "    def __init__(self, path):\n",
    "        \"\"\"\n",
    "        Initialize the mesh from a path\n",
    "        \"\"\"\n",
    "        self.vertices, self.faces = read_off(path)\n",
    "\n",
    "    def compute_laplacian(self):\n",
    "        self.A = area_matrix(self.vertices, self.faces)\n",
    "        self.W = cotan_matrix(self.vertices, self.faces)\n",
    "\n",
    "    def compute_eigendecomposition(self, K):\n",
    "        self.eigenvalues, self.eigenvectors = sparse.linalg.eigsh(\n",
    "            self.W, M=self.A, k=K, sigma=-0.01\n",
    "        )\n",
    "        # The sigma parameter allows to stabilize the eigendecomposition"
   ]
  },
  {
   "cell_type": "code",
   "execution_count": null,
   "id": "61",
   "metadata": {},
   "outputs": [],
   "source": [
    "mesh = MyMesh(\"bunny.off\")\n",
    "mesh.compute_laplacian()\n",
    "eigenvalues, eigenvectores = mesh.compute_eigendecomposition(100)  ## This can take some time"
   ]
  },
  {
   "cell_type": "code",
   "execution_count": null,
   "id": "62",
   "metadata": {},
   "outputs": [],
   "source": [
    "mesh.eigenvectors.shape"
   ]
  },
  {
   "cell_type": "markdown",
   "id": "63",
   "metadata": {},
   "source": [
    "## Question 6\n",
    "<ol>\n",
    "    <li><b> Visualize some eigenfunctios of the Laplacian.</b></li>\n",
    "    <li><b> Visualize the effect of projecting a dirac function on a basis of different size</b>. Use the above explanations to project</li>\n",
    "</ol>\n",
    "\n",
    "**Tip** To plot a general function, it is good to use a simple colormap like `\"coolwarm\"`: <code>plu.plot(mesh, function, colormap=\"coolwarm\")</code>"
   ]
  },
  {
   "cell_type": "code",
   "execution_count": null,
   "id": "64",
   "metadata": {},
   "outputs": [],
   "source": [
    "plu.plot(mesh, mesh.eigenvectors[:, 0], colormap=\"coolwarm\")"
   ]
  },
  {
   "cell_type": "markdown",
   "id": "65",
   "metadata": {},
   "source": [
    "Coming back to Diffusion, we wish to solve the Diffusion process using spectral analysis. Recall the discretized diffusion equation was\n",
    "$$\n",
    "\\left(A + tW \\right) u_t = A u_0\n",
    "$$\n",
    "\n",
    "If we consider $u_t$ to lie in a basis of size $K$ - that is $u_t =\\Phi\\alpha_t$, multiplying by $\\Phi^\\top$ on the left gives\n",
    "$$\n",
    "\\left(I_K + t\\Lambda \\right) \\alpha_t = \\Phi^\\top A u_0\n",
    "$$\n",
    "\n",
    "Since the leftmost term is diagonal, this means $u_t =\\Phi\\alpha_t$ with the element-wise value:\n",
    "$$\n",
    "(\\alpha_t)_j = \\frac{\\beta_j}{1+\\lambda_j}\n",
    "$$\n",
    "\n",
    "where $\\beta=\\Phi^\\top A u_0$ is actually the **projection** of $u_0$ in the basis.\n",
    "\n",
    "Note that <b>this only requires elementary matrix multiplications</b> and not solving a linear system."
   ]
  },
  {
   "cell_type": "markdown",
   "id": "66",
   "metadata": {},
   "source": [
    "**Note**: In practice we can have a better approximation by coming back to the original heat equation $\\frac{\\partial u_t}{\\partial t} = \\Delta u_t$.\n",
    "\n",
    "Using $u_t =\\Phi\\alpha_t$ and $\\Delta\\Phi=-\\Phi\\Lambda$, we can obtain $\\frac{\\partial \\alpha_t}{\\partial t} = -\\Lambda \\alpha_t$, with $\\Lambda$ being a diagonal matrix. We then obtain\n",
    "$$\n",
    "(\\alpha_t)_j = \\exp(-\\lambda_j t) \\beta_j\n",
    "$$"
   ]
  },
  {
   "cell_type": "markdown",
   "id": "67",
   "metadata": {},
   "source": [
    "## Question 7\n",
    "<b> Fill the function <code>diffuse_spectral</code> which diffuses a function f for a time t</b>\n"
   ]
  },
  {
   "cell_type": "code",
   "execution_count": null,
   "id": "68",
   "metadata": {},
   "outputs": [],
   "source": [
    "def diffuse_spectral(f, mesh, t, k):\n",
    "    \"\"\"\n",
    "    Diffuse a function f on a mesh for time t\n",
    "\n",
    "    Input\n",
    "    --------------\n",
    "    f       : (n,) - function values\n",
    "    mesh    : MyMesh - mesh on which to diffuse\n",
    "    t       : float - time for which to diffuse\n",
    "    k       : int - size of the basis to use for diffusion\n",
    "\n",
    "    Output\n",
    "    --------------\n",
    "    f_diffuse : (n,) values of f after diffusion\n",
    "    \"\"\"\n",
    "    # TODO\n",
    "    # Solve the Diffusion process using spectral analysis.\n",
    "    # Use the formula above.\n",
    "    # Note that you should return the function u_t, NOT alpha_t !\n",
    "\n",
    "    return f_diffuse"
   ]
  },
  {
   "cell_type": "markdown",
   "id": "69",
   "metadata": {},
   "source": [
    "## Question 8\n",
    "<b>Compare the results of the diffusion using the exact and spectral approach on :</b>\n",
    "<ol>\n",
    "    <li> <b>a dirac function</b>.</li>\n",
    "    <li> <b> a function $\\Phi\\alpha$ with $\\alpha\\sim \\otimes^k\\mathcal{U}(0,1)$ </b>"
   ]
  },
  {
   "cell_type": "markdown",
   "id": "70",
   "metadata": {},
   "source": [
    "Note that similarly to standard Fourier analysis, a dirac function require the entire range of frequencies to be represented in the basis."
   ]
  },
  {
   "cell_type": "code",
   "execution_count": null,
   "id": "71",
   "metadata": {},
   "outputs": [],
   "source": [
    "## TODO"
   ]
  },
  {
   "cell_type": "markdown",
   "id": "72",
   "metadata": {},
   "source": [
    "# 3. The Heat Kernel Signature (Bonus, simple)"
   ]
  },
  {
   "cell_type": "markdown",
   "id": "73",
   "metadata": {},
   "source": [
    "The [Heat Kernel Signature](http://www.lix.polytechnique.fr/~maks/papers/hks.pdf) (**HKS**) is a pointwise descriptor which provides local information invariant under isometry. In particular, this allows to compute correspondences between near-isometric surfaces.\n",
    "\n",
    "Given the spectrum $\\left(\\lambda_j, \\phi_j\\right)$ of the Laplacian of a shape, the HKS is defined as\n",
    "$$\n",
    "HKS(x,t) = C_t\\sum_j e^{-\\lambda_j t} \\phi_j(x)^2\n",
    "$$\n",
    "\n",
    "with $C_t^{-1} = \\sum_j  e^{-\\lambda_j t}$"
   ]
  },
  {
   "cell_type": "markdown",
   "id": "74",
   "metadata": {},
   "source": [
    "## Question 9\n",
    "<b>Fill the `compute_HKS` function to compute HKS descriptor for some time parameters $t$</b>"
   ]
  },
  {
   "cell_type": "code",
   "execution_count": null,
   "id": "75",
   "metadata": {},
   "outputs": [],
   "source": [
    "def compute_HKS(mesh, n_times, k):\n",
    "    # Defines a list of time parameters at which to compute HKS\n",
    "    abs_ev = sorted(np.abs(mesh.eigenvalues[:k]))\n",
    "    t_list = np.geomspace(4*np.log(10)/abs_ev[-1], 4*np.log(10)/abs_ev[1], n_times)  # (n_times,)\n",
    "    \n",
    "    \n",
    "    ## TODO COMPUTE HKS\n",
    "    HKS = \n",
    "    \n",
    "    \n",
    "\n",
    "    return HKS"
   ]
  },
  {
   "cell_type": "markdown",
   "id": "76",
   "metadata": {},
   "source": [
    "HKS can later be used as a means to compute shape correspondence. Given two shapes $\\mathcal{X}$ and $\\mathcal{Y}$, we define the HKS distance between $x\\in\\mathcal{X}$ and $y\\in\\mathcal{Y}$ as\n",
    "$$\n",
    "d_{HKS}(x,y) = \\int_t |HKS_\\mathcal{X}(x,t) -  HKS_\\mathcal{Y}(y,t)|d\\log t\n",
    "$$\n",
    "\n",
    "The logarithmic sampling in `compute_HKS` naturally amounts for the $d\\log t$ integration, so two embeddings obtained with our function `compute_HKS` can simply be compared using the standard norm of the difference.\n",
    "\n",
    "Eventually, correspondences $T_{\\mathcal{Y}\\mathcal{X}}$ from $\\mathcal{Y}$ to $\\mathcal{X}$ can be obtained by setting\n",
    "$$\n",
    "T_{\\mathcal{Y}\\mathcal{X}}(y) = \\underset{y\\in\\mathcal{Y}}{\\text{argmin}}\\ d_{HKS}(x,y)\n",
    "$$"
   ]
  },
  {
   "cell_type": "markdown",
   "id": "77",
   "metadata": {},
   "source": [
    "## Question 10\n",
    "<b>Use HKS to compute correspondences between two surfaces</b>\n",
    "\n",
    "**Tips**: \n",
    "<ol>\n",
    "    <li> $T_{\\mathcal{Y}\\mathcal{X}}$ is stored as a $n_\\mathcal{Y}$ dimensional array where the $i$-th entry gives the index of the image of $y_i$ in $\\mathcal{X}$ </li>\n",
    "    <li> Plot correspondences $T_{\\mathcal{Y}\\mathcal{X}}$ using <code>plu.plot_p2p(mesh1, mesh2, T_YX)</code></li>\n",
    "    \n",
    "</ol>"
   ]
  },
  {
   "cell_type": "code",
   "execution_count": null,
   "id": "78",
   "metadata": {},
   "outputs": [],
   "source": [
    "mesh1 = MyMesh(\"hand1\")\n",
    "mesh2 = MyMesh(\"hand2\")"
   ]
  },
  {
   "cell_type": "markdown",
   "id": "79",
   "metadata": {},
   "source": [
    "# 4. Heat Method for geodesic (BONUS) "
   ]
  },
  {
   "cell_type": "markdown",
   "id": "80",
   "metadata": {},
   "source": [
    "The [Heat method](https://www.cs.cmu.edu/~kmcrane/Projects/HeatMethod/paperCACM.pdf) uses the diffusion process of a dirac function to compute geodesic distances across a mesh. One advantage of this method is speed and a formulation independant from the specific triangulation of the mesh as long as differential operators are defined (**results are not though**).\n",
    "\n",
    "Given a point $x$, we start from a diract function $\\delta_x$ centered on $x$. The heat method is solved as follows:\n",
    "\n",
    "<ol>\n",
    "    <li> Integrate the heat equation with $u_0=\\delta_x$, that is solve $\\left(A + tW \\right) u_t = A \\delta_x$. This diffuses a lot heat to points close to $x$ and the value decreases as we for further away points. </li>\n",
    "    <li> Evaluate the vector field $X=-\\nabla u_t / \\|\\nabla u_t \\|$ which gives the (opposite) normalized direction of diffusion, hopefully going *geodesically* towards $x$ </li>\n",
    "    <li> Solve the Poisson Equation $\\Delta \\varphi = \\nabla\\cdot X$ to obtain the geodesic distance $\\varphi$ ensuring the distance to $x$ is $0$ by adding the necessary constant</li>\n",
    "</ol>\n",
    "\n",
    "The time of diffusion $t$ is usually set as $h^2$ with $h$ the average edge length of the mesh."
   ]
  },
  {
   "cell_type": "markdown",
   "id": "81",
   "metadata": {},
   "source": [
    "## Question 11 (Bonus)\n",
    "**Implement the heat method usng the gradient and divergence operator we provide**"
   ]
  },
  {
   "cell_type": "code",
   "execution_count": null,
   "id": "82",
   "metadata": {},
   "outputs": [],
   "source": [
    "def grad_f(f, vertices, faces, normals):\n",
    "    \"\"\"\n",
    "    Compute the gradient of a function on a mesh\n",
    "\n",
    "    Parameters\n",
    "    --------------------------\n",
    "    f          : (n,) function value on each vertex\n",
    "    vertices   : (n,3) coordinates of vertices\n",
    "    faces      : (m,3) indices of vertices for each face\n",
    "    normals    : (m,3) normals coordinate for each face\n",
    "    face_area : (m,) - Optional, array of per-face area, for faster computation\n",
    "    use_sym    : bool - If true, uses the (slower but) symmetric expression\n",
    "                 of the gradient\n",
    "\n",
    "    Output\n",
    "    --------------------------\n",
    "    gradient : (m,3) gradient of f on the mesh\n",
    "    \"\"\"\n",
    "    v1 = vertices[faces[:, 0]]  # (m,3)\n",
    "    v2 = vertices[faces[:, 1]]  # (m,3)\n",
    "    v3 = vertices[faces[:, 2]]  # (m,3)\n",
    "\n",
    "    f1 = f[faces[:, 0]]  # (m,)\n",
    "    f2 = f[faces[:, 1]]  # (m,)\n",
    "    f3 = f[faces[:, 2]]  # (m,)\n",
    "\n",
    "    # Compute area for each face\n",
    "    face_areas = 0.5 * np.linalg.norm(np.cross(v2 - v1, v3 - v1), axis=1)  # (m)\n",
    "\n",
    "    grad1 = np.cross(normals, v3 - v2) / (2 * face_areas[:, None])  # (m,3)\n",
    "    grad2 = np.cross(normals, v1 - v3) / (2 * face_areas[:, None])  # (m,3)\n",
    "    grad3 = np.cross(normals, v2 - v1) / (2 * face_areas[:, None])  # (m,3)\n",
    "\n",
    "    gradient = f1[:, None] * grad1 + f2[:, None] * grad2 + f3[:, None] * grad3\n",
    "\n",
    "    return gradient\n",
    "\n",
    "\n",
    "def div_f(f, vertices, faces, normals, vert_areas):\n",
    "    \"\"\"\n",
    "    Compute the divergence of a vector field on a mesh\n",
    "\n",
    "    Parameters\n",
    "    --------------------------\n",
    "    f          : (m,3) vector field on each face\n",
    "    vertices   : (n,3) coordinates of vertices\n",
    "    faces      : (m,3) indices of vertices for each face\n",
    "    normals    : (m,3) normals coordinate for each face\n",
    "    vert_area : (m,) - array of per-vertex area\n",
    "\n",
    "    Output\n",
    "    --------------------------\n",
    "    divergence : (n,) divergence of f on the mesh\n",
    "    \"\"\"\n",
    "    n_vertices = vertices.shape[0]\n",
    "\n",
    "    v1 = vertices[faces[:, 0]]  # (m,3)\n",
    "    v2 = vertices[faces[:, 1]]  # (m,3)\n",
    "    v3 = vertices[faces[:, 2]]  # (m,3)\n",
    "\n",
    "    grad1 = np.einsum(\"ij,ij->i\", np.cross(normals, v3 - v2) / 2, f)  # (m,)\n",
    "    grad2 = np.einsum(\"ij,ij->i\", np.cross(normals, v1 - v3) / 2, f)  # (m,)\n",
    "    grad3 = np.einsum(\"ij,ij->i\", np.cross(normals, v2 - v1) / 2, f)  # (m,)\n",
    "\n",
    "    I = np.concatenate([faces[:, 0], faces[:, 1], faces[:, 2]])  # (3*m)\n",
    "    J = np.zeros_like(I)\n",
    "    V = np.concatenate([grad1, grad2, grad3])\n",
    "\n",
    "    div_val = sparse.coo_matrix((V, (I, J)), shape=(n_vertices, 1)).todense()\n",
    "\n",
    "    return np.asarray(div_val).flatten() / vert_areas"
   ]
  },
  {
   "cell_type": "code",
   "execution_count": null,
   "id": "83",
   "metadata": {},
   "outputs": [],
   "source": []
  },
  {
   "cell_type": "markdown",
   "id": "84",
   "metadata": {},
   "source": [
    "test2\n"
   ]
  }
 ],
 "metadata": {
  "kernelspec": {
   "display_name": "Python 3 (ipykernel)",
   "language": "python",
   "name": "python3"
  },
  "language_info": {
   "codemirror_mode": {
    "name": "ipython",
    "version": 3
   },
   "file_extension": ".py",
   "mimetype": "text/x-python",
   "name": "python",
   "nbconvert_exporter": "python",
   "pygments_lexer": "ipython3",
   "version": "3.12.4"
  },
  "toc": {
   "base_numbering": 1,
   "nav_menu": {},
   "number_sections": true,
   "sideBar": true,
   "skip_h1_title": false,
   "title_cell": "Table of Contents",
   "title_sidebar": "Contents",
   "toc_cell": false,
   "toc_position": {},
   "toc_section_display": true,
   "toc_window_display": false
  }
 },
 "nbformat": 4,
 "nbformat_minor": 5
}
