{
 "cells": [
  {
   "cell_type": "markdown",
   "metadata": {},
   "source": [
    "<center>TP noté 1: 3M \n",
    "\n",
    "Pierrick Bournez\n",
    "</center>"
   ]
  },
  {
   "cell_type": "markdown",
   "metadata": {},
   "source": [
    "Helper : https://scikit-image.org/docs/stable/auto_examples/applications/plot_morphology.html#sphx-glr-auto-examples-applications-plot-morphology-py"
   ]
  },
  {
   "cell_type": "markdown",
   "metadata": {},
   "source": [
    "## Preliminaire\n",
    "On charge une image de test : "
   ]
  },
  {
   "cell_type": "code",
   "execution_count": null,
   "metadata": {},
   "outputs": [],
   "source": [
    "!pip install scikit-image"
   ]
  },
  {
   "cell_type": "code",
   "execution_count": null,
   "metadata": {},
   "outputs": [],
   "source": [
    "import matplotlib.pyplot as plt\n",
    "from skimage import data\n",
    "from skimage.util import img_as_ubyte\n",
    "import numpy as np\n",
    "\n",
    "orig_phantom = img_as_ubyte(data.shepp_logan_phantom())\n",
    "fig, ax = plt.subplots()\n",
    "ax.imshow(orig_phantom, cmap=plt.cm.gray)\n",
    "plt.title(\"Original image\")"
   ]
  },
  {
   "cell_type": "markdown",
   "metadata": {},
   "source": []
  },
  {
   "cell_type": "markdown",
   "metadata": {},
   "source": [
    "## Question 1 :\n",
    "Implantez la dilatation/erosion par un ES horizontal ou vertical de longueur fixe.\n",
    "\n",
    "2- Réalisez ces opérations en utilisant la bibliothèque Numpy\n",
    "\n",
    "dans toute la suite on suppose que le point de calcul est centré sur l'élément structurant\n",
    "\n",
    "On implémente la dilatation/érosion horizontal"
   ]
  },
  {
   "cell_type": "code",
   "execution_count": null,
   "metadata": {},
   "outputs": [],
   "source": [
    "def operation_horizontal(input_img: np.array, ES: np.array, op=\"dilation\"):\n",
    "    n, m = input_img.shape\n",
    "    center = int(ES.shape[1] / 2)  # Center of the SE element\n",
    "    output = np.zeros((n, m))\n",
    "    for i in range(n):\n",
    "        for j in range(m):\n",
    "            min_ind = max(0, j - center)\n",
    "            max_ind = min(m, j + center + 1)\n",
    "            if op == \"dilation\":\n",
    "                value = -1\n",
    "            if op == \"erosion\":\n",
    "                value = np.inf\n",
    "            for k in range(min_ind, max_ind):\n",
    "                if op == \"dilation\":\n",
    "                    if input_img[i, k] > value:\n",
    "                        value = input_img[i, k]\n",
    "                if op == \"erosion\":\n",
    "                    if input_img[i, k] < value:\n",
    "                        value = input_img[i, k]\n",
    "            output[i, j] = value\n",
    "\n",
    "    return output"
   ]
  },
  {
   "cell_type": "code",
   "execution_count": null,
   "metadata": {},
   "outputs": [],
   "source": [
    "bright_square = np.array(\n",
    "    [\n",
    "        [0, 0, 0, 0, 0],\n",
    "        [0, 1, 1, 1, 0],\n",
    "        [0, 1, 1, 1, 0],\n",
    "        [0, 1, 1, 1, 0],\n",
    "        [0, 0, 0, 0, 0],\n",
    "    ],\n",
    "    dtype=np.uint8,\n",
    ")\n",
    "from skimage.morphology import footprint_rectangle\n",
    "\n",
    "res = operation_horizontal(bright_square, footprint_rectangle((1, 3)), op=\"dilation\")\n",
    "plt.imshow(res, cmap=plt.cm.gray)\n",
    "plt.title(\"Dilated Bright square with a 1,3 horizontal SE\")"
   ]
  },
  {
   "cell_type": "markdown",
   "metadata": {},
   "source": [
    "On calcule la dilation vertical de la même manière\n"
   ]
  },
  {
   "cell_type": "code",
   "execution_count": null,
   "metadata": {},
   "outputs": [],
   "source": [
    "def operation_vertical(input_img: np.array, ES: np.array, op=\"dilation\"):\n",
    "    n, m = input_img.shape\n",
    "    center = int(ES.shape[0] / 2)  # Center of the SE element\n",
    "    output = np.zeros((n, m))\n",
    "    for i in range(n):\n",
    "        for j in range(m):\n",
    "            min_ind = max(0, i - center)\n",
    "            max_ind = min(n - 1, i + center + 1)\n",
    "            if op == \"dilation\":\n",
    "                value = -1\n",
    "            if op == \"erosion\":\n",
    "                value = np.inf\n",
    "            for k in range(min_ind, max_ind):\n",
    "                if op == \"dilation\":\n",
    "                    if input_img[k, j] > value:\n",
    "                        value = input_img[k, j]\n",
    "                if op == \"erosion\":\n",
    "                    if input_img[k, j] < value:\n",
    "                        value = input_img[k, j]\n",
    "\n",
    "            output[i, j] = value\n",
    "\n",
    "    return output"
   ]
  },
  {
   "cell_type": "code",
   "execution_count": null,
   "metadata": {},
   "outputs": [],
   "source": [
    "res = operation_vertical(bright_square, footprint_rectangle((3, 1)), op=\"dilation\")\n",
    "plt.imshow(res, cmap=plt.cm.gray)\n",
    "plt.title(\"Dilated Bright square with a 1,3 vertical SE\")"
   ]
  },
  {
   "cell_type": "markdown",
   "metadata": {},
   "source": [
    "On peut maintenant coder la  Dilatation par un rectangle "
   ]
  },
  {
   "cell_type": "code",
   "execution_count": null,
   "metadata": {},
   "outputs": [],
   "source": [
    "def operation_naive(input_img: np.array, ES: np.array, op=\"dilation\"):\n",
    "    row = ES[0, :]\n",
    "    # create a shape (,) of row\n",
    "    row = row.reshape((1, row.shape[0]))\n",
    "    column = ES[:, 0]\n",
    "    result = operation_horizontal(input_img, row, op=op)\n",
    "    result = operation_vertical(result, column, op=op)\n",
    "    return result"
   ]
  },
  {
   "cell_type": "code",
   "execution_count": null,
   "metadata": {},
   "outputs": [],
   "source": []
  },
  {
   "cell_type": "code",
   "execution_count": null,
   "metadata": {},
   "outputs": [],
   "source": [
    "res = operation_naive(bright_square, footprint_rectangle((2, 2)), op=\"dilation\")\n",
    "plt.imshow(res, cmap=plt.cm.gray)\n",
    "plt.title(\"Dilated Bright square with a 2,2 horizontal SE,colors are inverted \")"
   ]
  },
  {
   "cell_type": "markdown",
   "metadata": {},
   "source": [
    "On vérifie que le code marche pour l'image d'origine"
   ]
  },
  {
   "cell_type": "markdown",
   "metadata": {},
   "source": [
    "On vérifie que le code donne des résultats cohérents :\n",
    "\n",
    "\n",
    "    - Pour les opérations \"verticales\""
   ]
  },
  {
   "cell_type": "code",
   "execution_count": null,
   "metadata": {},
   "outputs": [],
   "source": [
    "import matplotlib.pyplot as plt\n",
    "\n",
    "# Assuming `operation_vertical` and `footprint_rectangle` are defined\n",
    "\n",
    "plt.figure(figsize=(12, 6))\n",
    "\n",
    "# First image (Vertical dilation)\n",
    "plt.subplot(1, 2, 1)  # Create subplot (1 row, 2 columns, 1st subplot)\n",
    "plt.imshow(operation_vertical(orig_phantom, footprint_rectangle((10, 1))), cmap=\"gray\")\n",
    "plt.title(\"Vertical Dilation for a 10 vertical SE\")\n",
    "plt.axis(\"off\")  # Hide axes for better visualization\n",
    "\n",
    "# Second image (Vertical erosion)\n",
    "plt.subplot(1, 2, 2)  # Create subplot (1 row, 2 columns, 2nd subplot)\n",
    "plt.imshow(\n",
    "    operation_vertical(orig_phantom, footprint_rectangle((10, 1)), op=\"erosion\"),\n",
    "    cmap=\"gray\",\n",
    ")\n",
    "plt.title(\"Vertical Erosion for a 10 vertical SE\")\n",
    "plt.axis(\"off\")  # Hide axes for better visualization\n",
    "\n",
    "# Display the images\n",
    "plt.tight_layout()\n",
    "\n",
    "plt.show()"
   ]
  },
  {
   "cell_type": "markdown",
   "metadata": {},
   "source": [
    "    - Pour les opérations horizontales"
   ]
  },
  {
   "cell_type": "code",
   "execution_count": null,
   "metadata": {},
   "outputs": [],
   "source": [
    "import matplotlib.pyplot as plt\n",
    "\n",
    "# Assuming `operation_vertical` and `footprint_rectangle` are defined\n",
    "\n",
    "plt.figure(figsize=(12, 6))\n",
    "\n",
    "# First image (Vertical dilation)\n",
    "plt.subplot(1, 2, 1)  # Create subplot (1 row, 2 columns, 1st subplot)\n",
    "plt.imshow(\n",
    "    operation_horizontal(orig_phantom, footprint_rectangle((1, 10))), cmap=\"gray\"\n",
    ")\n",
    "plt.title(\"horizontal Dilation for a 10 horizontal bar\")\n",
    "plt.axis(\"off\")  # Hide axes for better visualization\n",
    "\n",
    "# Second image (horizontal erosion)\n",
    "plt.subplot(1, 2, 2)  # Create subplot (1 row, 2 columns, 2nd subplot)\n",
    "plt.imshow(\n",
    "    operation_horizontal(orig_phantom, footprint_rectangle((1, 10)), op=\"erosion\"),\n",
    "    cmap=\"gray\",\n",
    ")\n",
    "plt.title(\"horizontal Erosion for a 10 horizontal bar\")\n",
    "plt.axis(\"off\")  # Hide axes for better visualization\n",
    "\n",
    "# Display the images\n",
    "plt.tight_layout()\n",
    "\n",
    "plt.show()"
   ]
  },
  {
   "cell_type": "markdown",
   "metadata": {},
   "source": [
    "    - Pour les rectangles"
   ]
  },
  {
   "cell_type": "code",
   "execution_count": null,
   "metadata": {},
   "outputs": [],
   "source": [
    "import matplotlib.pyplot as plt\n",
    "\n",
    "# Assuming `operation_vertical` and `footprint_rectangle` are defined\n",
    "\n",
    "plt.figure(figsize=(12, 6))\n",
    "\n",
    "# First image (Vertical dilation)\n",
    "plt.subplot(1, 2, 1)  # Create subplot (1 row, 2 columns, 1st subplot)\n",
    "plt.imshow(operation_naive(orig_phantom, footprint_rectangle((10, 10))), cmap=\"gray\")\n",
    "plt.title(\"horizontal Dilation with a 10,10 rectangle Structuring Element \")\n",
    "plt.axis(\"off\")  # Hide axes for better visualization\n",
    "\n",
    "# Second image (horizontal erosion)\n",
    "plt.subplot(1, 2, 2)  # Create subplot (1 row, 2 columns, 2nd subplot)\n",
    "plt.imshow(\n",
    "    operation_naive(orig_phantom, footprint_rectangle((10, 10)), op=\"erosion\"),\n",
    "    cmap=\"gray\",\n",
    ")\n",
    "plt.title(\"horizontal Erosion for a 10,10 rectangle Structuring Element\")\n",
    "plt.axis(\"off\")  # Hide axes for better visualization\n",
    "\n",
    "# Display the images\n",
    "plt.tight_layout()\n",
    "\n",
    "plt.show()"
   ]
  },
  {
   "cell_type": "markdown",
   "metadata": {},
   "source": [
    "# Question 2 \n",
    "Implantez la dilatation et l'érosion efficaces par l'algorithme de van Herk (page 160 du poly de 2018)\n",
    "\n",
    "\n",
    "( voir See polycopié and this one https://pismin.com/10.1016/0167-8655(92)90069-c)\n"
   ]
  },
  {
   "cell_type": "markdown",
   "metadata": {},
   "source": [
    "\n",
    "On code Van Herk d'abord en 1D "
   ]
  },
  {
   "cell_type": "code",
   "execution_count": null,
   "metadata": {},
   "outputs": [],
   "source": [
    "def dilation_Vanherk_1D(input_img_1D: np.array, ES: np.array):\n",
    "    k = ES.shape[0]\n",
    "    n_ini = input_img_1D.shape[0]\n",
    "    # if n%k !=0 pad it with +Inf\n",
    "    if n_ini % k != 0:\n",
    "        input_img_1D = np.concatenate(\n",
    "            (input_img_1D, np.array([-np.inf] * (k - n_ini % k)))\n",
    "        )\n",
    "        n = input_img_1D.shape[0]\n",
    "    else:\n",
    "        n = n_ini\n",
    "\n",
    "    g = np.zeros(n)\n",
    "    h = np.zeros(n)\n",
    "    for i in range(0, n, k):\n",
    "        subarray = input_img_1D[i : i + k]\n",
    "        int_result_g = np.zeros(k)\n",
    "        int_result_h = np.zeros(k)\n",
    "\n",
    "        int_result_g[0] = subarray[0]\n",
    "        int_result_h[-1] = subarray[-1]\n",
    "        for o in range(1, k):\n",
    "            int_result_g[o] = max(int_result_g[o - 1], subarray[o])\n",
    "        for o in range(k - 2, -1, -1):\n",
    "            int_result_h[o] = max(int_result_h[o + 1], subarray[o])\n",
    "\n",
    "        g[i : i + k] = int_result_g\n",
    "        h[i : i + k] = int_result_h\n",
    "\n",
    "    # compute the result\n",
    "\n",
    "    result = np.zeros(n)\n",
    "    for x in range(n):\n",
    "        min_ind = int(max(0, x - (k - 1) / 2))\n",
    "        max_ind = int(min(n - 1, x + (k - 1) / 2))\n",
    "        result[x] = max(g[max_ind], h[min_ind])\n",
    "\n",
    "    # remove the padded value if needed\n",
    "    result = result[:n_ini]\n",
    "    return result\n",
    "\n",
    "\n",
    "bright_line = np.array([0, 1, 0, 0, 0, 0, 0, 1, 1])\n",
    "ES = np.array([1, 1, 1])\n",
    "dilation_Vanherk_1D(bright_line, ES)"
   ]
  },
  {
   "cell_type": "markdown",
   "metadata": {},
   "source": [
    "We code now the Van Herk dilation for a rectangle"
   ]
  },
  {
   "cell_type": "code",
   "execution_count": null,
   "metadata": {},
   "outputs": [],
   "source": [
    "def dilation_Vanherk(input_img: np.array, ES: np.array):\n",
    "    n, m = input_img.shape\n",
    "    sample_row = ES[0, :]\n",
    "    sample_column = ES[:, 0]\n",
    "    result = np.zeros((n, m))\n",
    "    for i in range(n):\n",
    "        result[i, :] = dilation_Vanherk_1D(input_img[i, :], sample_row)\n",
    "    for j in range(m):\n",
    "        result[:, j] = dilation_Vanherk_1D(result[:, j], sample_column)\n",
    "    return result"
   ]
  },
  {
   "cell_type": "code",
   "execution_count": null,
   "metadata": {},
   "outputs": [],
   "source": [
    "bright_square = np.array(\n",
    "    [\n",
    "        [0, 0, 0, 0, 0],\n",
    "        [0, 1, 1, 1, 0],\n",
    "        [0, 1, 1, 1, 0],\n",
    "        [0, 1, 1, 1, 0],\n",
    "        [0, 0, 0, 0, 0],\n",
    "    ],\n",
    "    dtype=np.uint8,\n",
    ")\n",
    "res = dilation_Vanherk(bright_square, footprint_rectangle((1, 3)))\n",
    "plt.imshow(res, cmap=plt.cm.gray)\n",
    "plt.title(\"Dilated Bright square with a 1,3 horizontal SE with Van Herk\")"
   ]
  },
  {
   "cell_type": "code",
   "execution_count": null,
   "metadata": {},
   "outputs": [],
   "source": [
    "def erosion_Vanherk_1D(input_img_1D: np.array, ES: np.array):\n",
    "    k = ES.shape[0]\n",
    "    n_ini = input_img_1D.shape[0]\n",
    "    # if n%k !=0 pad it with +Inf\n",
    "    if n_ini % k != 0:\n",
    "        input_img_1D = np.concatenate(\n",
    "            (input_img_1D, np.array([np.inf] * (k - n_ini % k)))\n",
    "        )\n",
    "        n = input_img_1D.shape[0]\n",
    "    else:\n",
    "        n = n_ini\n",
    "\n",
    "    g = np.zeros(n)\n",
    "    h = np.zeros(n)\n",
    "    for i in range(0, n, k):\n",
    "        subarray = input_img_1D[i : i + k]\n",
    "        int_result_g = np.zeros(k)\n",
    "        int_result_h = np.zeros(k)\n",
    "\n",
    "        int_result_g[0] = subarray[0]\n",
    "        int_result_h[-1] = subarray[-1]\n",
    "        for o in range(1, k):\n",
    "            int_result_g[o] = min(int_result_g[o - 1], subarray[o])\n",
    "\n",
    "        for o in range(k - 2, -1, -1):\n",
    "            int_result_h[o] = min(int_result_h[o + 1], subarray[o])\n",
    "\n",
    "        g[i : i + k] = int_result_g\n",
    "        h[i : i + k] = int_result_h\n",
    "\n",
    "    result = np.zeros(n)\n",
    "    for x in range(n):\n",
    "        max_ind = int(min(n - 1, x + (k - 1) / 2))\n",
    "        min_ind = int(max(0, x - (k - 1) / 2))\n",
    "\n",
    "        value_g = g[max_ind]\n",
    "        value_h = h[min_ind]\n",
    "        if x - (k - 1) / 2 < 0:\n",
    "            value_h = np.inf\n",
    "        if x + (k - 1) / 2 >= n:\n",
    "            value_g = np.inf\n",
    "\n",
    "        result[x] = min(value_g, value_h)\n",
    "\n",
    "    # remove the padded value if needed\n",
    "    result = result[:n_ini]\n",
    "    return result\n",
    "\n",
    "\n",
    "# Example usage\n",
    "bright_line = np.array([1, 1, 0, 1, 1, 1, 1])\n",
    "ES = np.array([1, 1, 1])\n",
    "result = erosion_Vanherk_1D(bright_line, ES)\n",
    "print(\"Erosion result:\", result)"
   ]
  },
  {
   "cell_type": "code",
   "execution_count": null,
   "metadata": {},
   "outputs": [],
   "source": [
    "import numpy as np\n",
    "\n",
    "\n",
    "def erosion_Vanherk(input_img: np.array, ES: np.array):\n",
    "    n, m = input_img.shape\n",
    "    sample_row = ES[0, :]\n",
    "    sample_column = ES[:, 0]\n",
    "    result = np.zeros((n, m))\n",
    "    for i in range(n):\n",
    "        result[i, :] = erosion_Vanherk_1D(input_img[i, :], sample_row)\n",
    "    for j in range(m):\n",
    "        result[:, j] = erosion_Vanherk_1D(result[:, j], sample_column)\n",
    "    return result"
   ]
  },
  {
   "cell_type": "markdown",
   "metadata": {},
   "source": [
    "It matches our initial Implementation !"
   ]
  },
  {
   "cell_type": "markdown",
   "metadata": {},
   "source": [
    "On vérifie que le résultat est cohérent avec notre première implémentation"
   ]
  },
  {
   "cell_type": "code",
   "execution_count": null,
   "metadata": {},
   "outputs": [],
   "source": [
    "import matplotlib.pyplot as plt\n",
    "\n",
    "# Assuming `operation_vertical` and `footprint_rectangle` are defined\n",
    "\n",
    "plt.figure(figsize=(12, 6))\n",
    "\n",
    "# First image (Vertical dilation)\n",
    "plt.subplot(1, 2, 1)  # Create subplot (1 row, 2 columns, 1st subplot)\n",
    "plt.imshow(\n",
    "    dilation_Vanherk(input_img=orig_phantom, ES=footprint_rectangle((10, 10))),\n",
    "    cmap=\"gray\",\n",
    ")\n",
    "plt.title(\"Dilatation avec Van Herk pour un rectangle 10,10\")\n",
    "plt.axis(\"off\")  # Hide axes for better visualization\n",
    "plt.show()\n",
    "plt.imshow(operation_naive(orig_phantom, footprint_rectangle((10, 10))), cmap=\"gray\")\n",
    "plt.title(\" Dilatation naive pour un rectangle 10,10\")\n",
    "\n",
    "\n",
    "plt.show()\n",
    "\n",
    "\n",
    "# Assuming `operation_vertical` and `footprint_rectangle` are defined\n",
    "\n",
    "plt.figure(figsize=(12, 6))\n",
    "\n",
    "# First image (Vertical dilation)\n",
    "plt.subplot(1, 2, 1)  # Create subplot (1 row, 2 columns, 1st subplot)\n",
    "plt.imshow(\n",
    "    erosion_Vanherk(input_img=orig_phantom, ES=footprint_rectangle((10, 10))),\n",
    "    cmap=\"gray\",\n",
    ")\n",
    "plt.title(\"erosion avec Van Herk pour un rectangle 10,10\")\n",
    "plt.axis(\"off\")  # Hide axes for better visualization\n",
    "plt.show()\n",
    "plt.imshow(\n",
    "    operation_naive(orig_phantom, footprint_rectangle((10, 10)), op=\"erosion\"),\n",
    "    cmap=\"gray\",\n",
    ")\n",
    "plt.title(\" erosion naive pour un rectangle 10,10\")\n",
    "\n",
    "from skimage.morphology import erosion\n",
    "\n",
    "plt.figure()\n",
    "plt.imshow(erosion(orig_phantom, footprint_rectangle((10, 10))), cmap=\"gray\")\n",
    "plt.title(\"erosion avec skimage pour un rectangle 10,10\")"
   ]
  },
  {
   "cell_type": "markdown",
   "metadata": {},
   "source": []
  },
  {
   "cell_type": "markdown",
   "metadata": {},
   "source": [
    "# Question 3 \n",
    " Comparez les temps de calcul par comparaison avec l'implantation classique, par décomposition et par van Herk. Comparez à Scikit-image."
   ]
  },
  {
   "cell_type": "code",
   "execution_count": null,
   "metadata": {},
   "outputs": [],
   "source": [
    "from skimage.morphology import dilation as dilation_skimage"
   ]
  },
  {
   "cell_type": "code",
   "execution_count": null,
   "metadata": {},
   "outputs": [],
   "source": [
    "import time\n",
    "\n",
    "\n",
    "def benchmark_op(operation, input_img, ES):\n",
    "    start_time = time.time()\n",
    "    result = operation(input_img, ES)\n",
    "    end_time = time.time()\n",
    "    # print(\"Time taken for the operation\",operation,\" is \",end_time-start_time)\n",
    "    return result, end_time - start_time"
   ]
  },
  {
   "cell_type": "markdown",
   "metadata": {},
   "source": [
    "We benchmark our bright square and the orig_phantom"
   ]
  },
  {
   "cell_type": "code",
   "execution_count": null,
   "metadata": {},
   "outputs": [],
   "source": [
    "result = {}\n",
    "footprint_to_assess = {\n",
    "    \" 1,3\": footprint_rectangle((1, 3)),\n",
    "    \"5,5\": footprint_rectangle((5, 5)),\n",
    "    \"20,20\": footprint_rectangle((20, 20)),\n",
    "    \"50,50\": footprint_rectangle((50, 50)),\n",
    "}\n",
    "for op in [dilation_skimage, dilation_Vanherk, operation_naive]:\n",
    "    result[op.__name__] = {}\n",
    "    for key in footprint_to_assess.keys():\n",
    "        print(\"key\", key)\n",
    "        print(op)\n",
    "        result[op.__name__][key] = []\n",
    "        for k in range(10):\n",
    "            result[op.__name__][key].append(\n",
    "                benchmark_op(op, orig_phantom, footprint_to_assess[key])[1]\n",
    "            )"
   ]
  },
  {
   "cell_type": "code",
   "execution_count": null,
   "metadata": {},
   "outputs": [],
   "source": [
    "# rename the dilation key by dilation_skimage\n",
    "result[\"dilation_skimage\"] = result.pop(\"dilation\")"
   ]
  },
  {
   "cell_type": "code",
   "execution_count": null,
   "metadata": {},
   "outputs": [],
   "source": [
    "# Plotting the results\n",
    "fig, ax = plt.subplots(figsize=(10, 6))\n",
    "footprint_sizes = [\"1,3\", \"5,5\", \"20,20\", \"50,50\"]\n",
    "colors = [\"blue\", \"green\", \"red\"]\n",
    "operations = list(result.keys())\n",
    "\n",
    "for idx, op in enumerate(operations):\n",
    "    means = [np.mean(result[op][key]) for key in result[op].keys()]\n",
    "    stds = [np.std(result[op][key]) for key in result[op].keys()]\n",
    "    # Line plot\n",
    "    ax.plot(footprint_sizes, means, label=op, linestyle=\"-\", marker=\"o\", alpha=0.8)\n",
    "\n",
    "    # Shaded area for standard deviation\n",
    "    ax.fill_between(\n",
    "        footprint_sizes,\n",
    "        [m - s for m, s in zip(means, stds)],\n",
    "        [m + s for m, s in zip(means, stds)],\n",
    "        alpha=0.2,\n",
    "    )\n",
    "\n",
    "ax.set_title(\"Benchmark Results For Dilation with different ES  different Rectangle\")\n",
    "ax.set_xlabel(\"Footprint Size\")\n",
    "ax.set_ylabel(\"Execution Time (s)\")\n",
    "ax.legend(title=\"Operations\")\n",
    "\n",
    "plt.tight_layout()\n",
    "plt.show()"
   ]
  },
  {
   "cell_type": "markdown",
   "metadata": {},
   "source": [
    "Quelle que soit le rectangle considéré, l'algorithme de skimage est meilleur que l'algorithme de Van Herk que l'algorithme naif.\n",
    "\n",
    "La différence entre Van Herk et l'algorithme naif est \"logique\" en raison de la meilleur compléxité.\n",
    "\n",
    "je  suspecte que l'algorithme de Van Herk est moins bien que l'algorithme de skimage car le code de skimage est codé en C++ au contraire de notre algorithme."
   ]
  },
  {
   "cell_type": "markdown",
   "metadata": {},
   "source": [
    "# 5- Implantez les opérateurs efficaces avec des ES diagonaux.\n",
    "En faite , cela revient à appliquer le Van Herk 1D sur chaque diagonale de la matrice d'entrée !"
   ]
  },
  {
   "cell_type": "code",
   "execution_count": null,
   "metadata": {},
   "outputs": [],
   "source": [
    "def Van_herk_diag(input_img, k):\n",
    "    # k is tb he size of the SE element\n",
    "    #! TODO\n",
    "    n, m = input_img.shape\n",
    "    result = np.zeros((n, m))\n",
    "    for offset in range(-n + 1, n):  # Covers all diagonals\n",
    "        diagonal = np.diagonal(input_img, offset=offset)\n",
    "        result_diag = dilation_Vanherk_1D(diagonal, np.ones(k))\n",
    "        # Write the correct diagonal placement, didn't find a easy way with diagonal.\n",
    "        if offset >= 0:\n",
    "            for i in range(len(result_diag)):\n",
    "                result[i + offset, i] = result_diag[i]\n",
    "        elif offset < 0:\n",
    "            for i in range(len(result_diag)):\n",
    "                result[i, i - offset] = result_diag[i]\n",
    "    return result"
   ]
  },
  {
   "cell_type": "markdown",
   "metadata": {},
   "source": [
    "# 6- Implantez les opérateurs efficaces avec des octogones.\n",
    "\n"
   ]
  },
  {
   "cell_type": "markdown",
   "metadata": {},
   "source": [
    "D'abord on définit un exemple"
   ]
  },
  {
   "cell_type": "code",
   "execution_count": null,
   "metadata": {},
   "outputs": [],
   "source": [
    "# create a black image with one white square on the middle\n",
    "\n",
    "n = 20\n",
    "m = 20\n",
    "img = np.zeros((n, m))\n",
    "img[n // 2, m // 2] = 1\n",
    "plt.imshow(img, cmap=\"gray\")\n",
    "plt.title(\"Input of the Van Herk Octogone\")"
   ]
  },
  {
   "cell_type": "code",
   "execution_count": null,
   "metadata": {},
   "outputs": [],
   "source": [
    "def dilate_by_octagon(img, length):\n",
    "    \"\"\"\n",
    "    Perform dilation using an octagonal structuring element by combining\n",
    "    horizontal, vertical, and diagonal dilations.\n",
    "\n",
    "    Parameters:\n",
    "    - img: Input image.\n",
    "    - length: Length of the structuring element.\n",
    "\n",
    "    Returns:\n",
    "    - dilated: The image dilated by the octagonal structuring element.\n",
    "    \"\"\"\n",
    "    # Horizontal dilation\n",
    "    footprint = footprint_rectangle((1, length))\n",
    "    dilated = dilation_Vanherk(img, footprint)\n",
    "\n",
    "    # Vertical dilation (transpose for reuse)\n",
    "    img_transposed = dilated.T\n",
    "    footprint = footprint_rectangle((1, length))\n",
    "\n",
    "    dilated_ver = dilation_Vanherk(img_transposed, footprint)\n",
    "    dilated = dilated_ver.T\n",
    "\n",
    "    # Diagonal dilations\n",
    "    dilated = Van_herk_diag(dilated, length)\n",
    "    dilated = Van_herk_diag(np.fliplr(dilated), length)  # Diagonal (/)\n",
    "    dilated = np.fliplr(dilated)\n",
    "\n",
    "    return dilated\n",
    "\n",
    "\n",
    "result = dilate_by_octagon(img, 5)"
   ]
  },
  {
   "cell_type": "code",
   "execution_count": null,
   "metadata": {},
   "outputs": [],
   "source": [
    "plt.imshow(img, cmap=\"gray\")\n",
    "plt.title(\"Input of the Van Herk Octogone\")\n",
    "plt.show()\n",
    "\n",
    "plt.imshow(result, cmap=\"gray\")\n",
    "plt.title(\"Output of the Van Herk Octogone\")"
   ]
  }
 ],
 "metadata": {
  "kernelspec": {
   "display_name": "hrl",
   "language": "python",
   "name": "python3"
  },
  "language_info": {
   "codemirror_mode": {
    "name": "ipython",
    "version": 3
   },
   "file_extension": ".py",
   "mimetype": "text/x-python",
   "name": "python",
   "nbconvert_exporter": "python",
   "pygments_lexer": "ipython3",
   "version": "3.12.4"
  }
 },
 "nbformat": 4,
 "nbformat_minor": 2
}
