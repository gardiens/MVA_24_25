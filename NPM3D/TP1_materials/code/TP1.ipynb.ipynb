{
 "cells": [
  {
   "cell_type": "code",
   "execution_count": null,
   "metadata": {},
   "outputs": [],
   "source": [
    "from neighborhoods import *\n",
    "import time\n",
    "import numpy as np"
   ]
  },
  {
   "cell_type": "code",
   "execution_count": null,
   "metadata": {},
   "outputs": [],
   "source": [
    "# Path of the file\n",
    "file_path = \"../data/indoor_scan.ply\"\n",
    "\n",
    "# Load point cloud\n",
    "data = read_ply(file_path)\n",
    "\n",
    "# Concatenate data\n",
    "points = np.vstack((data[\"x\"], data[\"y\"], data[\"z\"])).T"
   ]
  },
  {
   "cell_type": "markdown",
   "metadata": {},
   "source": [
    "\n",
    "\n",
    "# Question 3 "
   ]
  },
  {
   "cell_type": "code",
   "execution_count": null,
   "metadata": {},
   "outputs": [],
   "source": [
    "neighbors_num = 100\n",
    "radius = 0.2\n",
    "num_queries = 10\n",
    "\n",
    "# Pick random queries\n",
    "random_indices = np.random.choice(points.shape[0], num_queries, replace=False)\n",
    "queries = points[random_indices, :]"
   ]
  },
  {
   "cell_type": "code",
   "execution_count": null,
   "metadata": {},
   "outputs": [],
   "source": [
    "# Search spherical\n",
    "t0 = time.time()\n",
    "neighborhoods = brute_force_spherical(queries, points, radius)\n",
    "t1 = time.time()\n",
    "print(\"KNN?\", neighbors_num)\n",
    "# Search KNN\n",
    "neighborhoods = brute_force_KNN(queries, points, neighbors_num)\n",
    "t2 = time.time()\n",
    "\n",
    "# Print timing results\n",
    "print(\n",
    "    \"{:d} spherical neighborhoods computed in {:.3f} seconds\".format(\n",
    "        num_queries, t1 - t0\n",
    "    )\n",
    ")\n",
    "print(\"{:d} KNN computed in {:.3f} seconds\".format(num_queries, t2 - t1))\n",
    "\n",
    "# Time to compute all neighborhoods in the cloud\n",
    "total_spherical_time = points.shape[0] * (t1 - t0) / num_queries\n",
    "total_KNN_time = points.shape[0] * (t2 - t1) / num_queries\n",
    "print(\n",
    "    \"Computing spherical neighborhoods on whole cloud : {:.0f} hours\".format(\n",
    "        total_spherical_time / 3600\n",
    "    )\n",
    ")\n",
    "print(\"Computing KNN on whole cloud : {:.0f} hours\".format(total_KNN_time / 3600))"
   ]
  },
  {
   "cell_type": "markdown",
   "metadata": {},
   "source": [
    "# Question 4 a"
   ]
  },
  {
   "cell_type": "code",
   "execution_count": null,
   "metadata": {},
   "outputs": [],
   "source": [
    "num_queries = 10\n",
    "from scipy.spatial import cKDTree\n",
    "\n",
    "num_neighbors = 1000000  #! really big\n",
    "random_indices = np.random.choice(points.shape[0], num_queries, replace=False)\n",
    "queries = points[random_indices, :]\n",
    "radius = 0.2\n",
    "num_queries = 1000\n",
    "best_leaf_size = 128\n",
    "print(\"search spherical with same parameters\")\n",
    "for leaf_size in [1, 2, 4, 8, 16, 32, 64, 128, 256, 512, 1024]:\n",
    "    kdtree = cKDTree(points, leafsize=leaf_size)\n",
    "\n",
    "    t1 = time.time()\n",
    "\n",
    "    # Search KNN\n",
    "    distances, eighbors = kdtree.query(\n",
    "        queries, k=num_neighbors, distance_upper_bound=radius\n",
    "    )\n",
    "\n",
    "    t2 = time.time()\n",
    "    print(\"leaf size\", leaf_size)\n",
    "    print(\"KNN computed in {:.3f} seconds\".format(t2 - t1))"
   ]
  },
  {
   "cell_type": "markdown",
   "metadata": {},
   "source": []
  },
  {
   "cell_type": "markdown",
   "metadata": {},
   "source": [
    "## 4.a 2"
   ]
  },
  {
   "cell_type": "code",
   "execution_count": null,
   "metadata": {},
   "outputs": [],
   "source": [
    "print(\"search KNN with best parameters\")\n",
    "\n",
    "radius = 0.2\n",
    "num_queries = 1000\n",
    "best_leaf_size = 128\n",
    "random_indices = np.random.choice(points.shape[0], num_queries, replace=False)\n",
    "queries = points[random_indices, :]\n",
    "t1 = time.time()\n",
    "# select random num_queries queries\n",
    "\n",
    "# Search KNN\n",
    "kdtree = cKDTree(points, leafsize=best_leaf_size)\n",
    "distances, eighbors = kdtree.query(\n",
    "    queries, k=neighbors_num, distance_upper_bound=radius\n",
    ")\n",
    "t2 = time.time()\n",
    "print(\"leaf size\", best_leaf_size)\n",
    "print(\"KNN computed in {:.3f} seconds with 1000 random queries \".format(t2 - t1))"
   ]
  },
  {
   "cell_type": "markdown",
   "metadata": {},
   "source": [
    "# Question 4.b "
   ]
  },
  {
   "cell_type": "code",
   "execution_count": null,
   "metadata": {},
   "outputs": [],
   "source": [
    "# Benchmark with radius\n",
    "neighbors_num = 50000\n",
    "num_queries = 1000\n",
    "best_leaf_size = 128\n",
    "random_indices = np.random.choice(points.shape[0], num_queries, replace=False)\n",
    "queries = points[random_indices, :]\n",
    "kdtree = cKDTree(points, leafsize=best_leaf_size)\n",
    "print(\"start benchmark radius\")\n",
    "for radius in np.logspace(0, 2, 20, base=10):\n",
    "    t1 = time.time()\n",
    "    # Search KNN\n",
    "    distances, eighbors = kdtree.query(\n",
    "        queries, k=neighbors_num, distance_upper_bound=radius\n",
    "    )\n",
    "\n",
    "    t2 = time.time()\n",
    "    print(\"radius\", radius)\n",
    "    print(\"KNN computed in {:.3f} seconds\".format(t2 - t1))\n",
    "# distances,eighbors=kdtree.query(points[:num_queries],k=neighbors_num,distance_upper_bound=radius)"
   ]
  },
  {
   "cell_type": "code",
   "execution_count": null,
   "metadata": {},
   "outputs": [],
   "source": [
    "print(\"start computing for 20cm back\")\n",
    "num_queries = 100000\n",
    "num_neighbors = 10000  #! really big\n",
    "random_indices = np.random.choice(points.shape[0], num_queries, replace=False)\n",
    "queries = points[random_indices, :]\n",
    "radius = 0.2\n",
    "num_queries = 1000\n",
    "best_leaf_size = 128\n",
    "\n",
    "t1 = time.time()\n",
    "# Search KNN\n",
    "distances, eighbors = kdtree.query(\n",
    "    queries, k=num_neighbors, distance_upper_bound=radius\n",
    ")\n",
    "t2 = time.time()\n",
    "\n",
    "# Print timing results\n",
    "print(\n",
    "    \"{:d} KNN computed back with the best leaves  in {:.3f} seconds\".format(\n",
    "        num_queries, t2 - t1\n",
    "    )\n",
    ")\n",
    "\n",
    "# Time to compute all neighborhoods in the cloud\n",
    "total_KNN_time = points.shape[0] * (t2 - t1) / num_queries\n",
    "print(\"Computing KNN on whole cloud : {:.0f} hours\".format(total_KNN_time / 3600))"
   ]
  },
  {
   "cell_type": "markdown",
   "metadata": {},
   "source": [
    "# Question Bonus: implement voxel_grid"
   ]
  },
  {
   "cell_type": "code",
   "execution_count": null,
   "metadata": {},
   "outputs": [],
   "source": [
    "from scipy.spatial import cKDTree\n",
    "import numpy as np\n",
    "\n",
    "\n",
    "def grid_voxel(data, voxel_size=5):\n",
    "    points = np.vstack((data[\"x\"], data[\"y\"], data[\"z\"])).T\n",
    "    colors = np.vstack((data[\"red\"], data[\"green\"], data[\"blue\"])).T\n",
    "\n",
    "    # Quantize the points to voxel grid\n",
    "    voxel_indices = np.floor(points / voxel_size).astype(np.int32)\n",
    "\n",
    "    # Use a dictionary to aggregate points and colors within each voxel\n",
    "    voxel_dict = {}\n",
    "    for i, voxel_idx in enumerate(map(tuple, voxel_indices)):\n",
    "        if voxel_idx not in voxel_dict:\n",
    "            voxel_dict[voxel_idx] = {\"points\": [], \"colors\": []}\n",
    "        voxel_dict[voxel_idx][\"points\"].append(points[i])\n",
    "        voxel_dict[voxel_idx][\"colors\"].append(colors[i])\n",
    "\n",
    "    # Compute the average position and color for each voxel\n",
    "    subsampled_points = []\n",
    "    subsampled_colors = []\n",
    "    for voxel in voxel_dict.values():\n",
    "        avg_point = np.mean(voxel[\"points\"], axis=0)\n",
    "        avg_color = np.mean(voxel[\"colors\"], axis=0)\n",
    "        # convert avg_color to int\n",
    "        avg_color = avg_color.astype(np.uint8)\n",
    "\n",
    "        subsampled_points.append(avg_point)\n",
    "        subsampled_colors.append(avg_color)\n",
    "\n",
    "    return np.array(subsampled_points), np.array(subsampled_colors)"
   ]
  },
  {
   "cell_type": "code",
   "execution_count": null,
   "metadata": {},
   "outputs": [],
   "source": [
    "file_path = \"../data/indoor_scan.ply\"\n",
    "data = read_ply(file_path)"
   ]
  },
  {
   "cell_type": "code",
   "execution_count": null,
   "metadata": {},
   "outputs": [],
   "source": []
  },
  {
   "cell_type": "code",
   "execution_count": null,
   "metadata": {},
   "outputs": [],
   "source": [
    "# Concatenate x, y, and z in a (N*3) point matrix\n",
    "points = np.vstack((data[\"x\"], data[\"y\"], data[\"z\"])).T\n",
    "\n",
    "# Concatenate R, G, and B channels in a (N*3) color matrix\n",
    "colors = np.vstack((data[\"red\"], data[\"green\"], data[\"blue\"])).T\n",
    "transformed_points, transformed_colors = grid_voxel(data, 0.4)\n",
    "\n",
    "# Save point cloud\n",
    "# *********************\n",
    "#\n",
    "#   Save your result file\n",
    "#   (See write_ply function)\n",
    "#\n",
    "\n",
    "\n",
    "# Save point cloud\n",
    "write_ply(\n",
    "    \"../decimated_indoor_scan.ply\",\n",
    "    [transformed_points, transformed_colors],\n",
    "    [\"x\", \"y\", \"z\", \"red\", \"green\", \"blue\"],\n",
    ")\n",
    "\n",
    "print(\"Done\")"
   ]
  }
 ],
 "metadata": {
  "kernelspec": {
   "display_name": "hrl",
   "language": "python",
   "name": "python3"
  },
  "language_info": {
   "codemirror_mode": {
    "name": "ipython",
    "version": 3
   },
   "file_extension": ".py",
   "mimetype": "text/x-python",
   "name": "python",
   "nbconvert_exporter": "python",
   "pygments_lexer": "ipython3",
   "version": "3.12.4"
  }
 },
 "nbformat": 4,
 "nbformat_minor": 2
}
