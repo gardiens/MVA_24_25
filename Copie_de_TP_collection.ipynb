{
  "nbformat": 4,
  "nbformat_minor": 0,
  "metadata": {
    "colab": {
      "provenance": [],
      "collapsed_sections": [
        "PqRz_PtEXjqY",
        "NMQA9OjqXjqa",
        "DEhFp4LDXjqb",
        "hyp7cxd7Xjqd",
        "EAmVHs11Xjqd",
        "DHq9wwSuXjqe"
      ],
      "toc_visible": true,
      "include_colab_link": true
    },
    "language_info": {
      "name": "python"
    },
    "kernelspec": {
      "name": "python3",
      "display_name": "Python 3"
    },
    "gpuClass": "standard"
  },
  "cells": [
    {
      "cell_type": "markdown",
      "metadata": {
        "id": "view-in-github",
        "colab_type": "text"
      },
      "source": [
        "<a href=\"https://colab.research.google.com/github/gardiens/mva_geom_24/blob/main/Copie_de_TP_collection.ipynb\" target=\"_parent\"><img src=\"https://colab.research.google.com/assets/colab-badge.svg\" alt=\"Open In Colab\"/></a>"
      ]
    },
    {
      "cell_type": "markdown",
      "metadata": {
        "id": "YYGVyIDXXjqO"
      },
      "source": [
        "# TP1: Collection of Sentinel Images\n",
        "\n",
        "---\n",
        "\n",
        "\n",
        "\n",
        "### Name: **WRITE YOUR NAME HERE**\n",
        "\n",
        "The objective of this session is to create a video of your house seen from space using satellite images freely available online. For that we are going to learn how to access and manipulate optical images from the Sentinel-2 satellites, and radar images from Sentinel-1. We will cover the following topics:\n",
        "* coordinate reference systems, WGS84 (longitude/latitude), and projections (Mercator, UTM, EPSG codes)\n",
        "* search and download images available at a given position\n",
        "* image metadata, GeoTIFFs, and GDAL (gdalinfo)\n",
        "* spectral bands and file formats\n",
        "\n",
        "#### Instructions\n",
        "To solve this TP, answer the questions below. Then export the notebook with the answers using the menu option **File->Download as->Notebook (.ipynb)**. Then [submit the resulting file here](https://kiwi.cmla.ens-cachan.fr/index.php/s/Q5ymNLQbGGKCgpq) by next week. You will receive an automatic acknowledgement of receipt.\n",
        "\n",
        "The notes associated to this lesson are in [TP1.pdf](http://boucantrin.ovh.hw.ipol.im/static/facciolo/mvaisat/TP1.pdf).\n",
        "\n",
        "There are **8 questions** in the notebook and corresponding text areas to fill-in the answers."
      ]
    },
    {
      "cell_type": "code",
      "metadata": {
        "id": "HaYIutPOXjqU",
        "colab": {
          "base_uri": "https://localhost:8080/",
          "height": 734
        },
        "outputId": "1c67c74d-2e8c-46fa-fd88-a066e45ebb28"
      },
      "source": [
        "# Setup code for the notebook\n",
        "\n",
        "# Execute code 'cells' like this by clicking on the 'Run'\n",
        "# button or by pressing [shift] + [Enter].\n",
        "\n",
        "# This cell only imports some python packages that will be\n",
        "# used below. It doesn't generate any output.\n",
        "\n",
        "# The following lines install the necessary packages in the colab environment\n",
        "try:\n",
        "    from google.colab import files\n",
        "\n",
        "    # download TP data and tools\n",
        "    !wget -q http://boucantrin.ovh.hw.ipol.im/static/facciolo/mvaisat/tp1.2.zip\n",
        "    !unzip -q -o tp1.2.zip\n",
        "\n",
        "    # install dependencies\n",
        "    !apt-get -qq -o=Dpkg::Use-Pty=0 update && apt install -qq -o=Dpkg::Use-Pty=0 gdal-bin\n",
        "    !python -m pip -q install rpcm rasterio\n",
        "    !python -m pip -q install numpy utm python-dateutil tifffile shapely geojson enum34 features filelock matplotlib scipy pyproj scikit-image numba pillow opencv-contrib-python~=4.8.0.76  pandas setuptools srtm4 folium\n",
        "    # install latest TSD\n",
        "    !python -m pip -q install tsd==0.9.0\n",
        "    #!pip install pypotree\n",
        "\n",
        "\n",
        "\n",
        "except ImportError:\n",
        "    %matplotlib notebook\n",
        "    pass\n",
        "\n",
        "\n",
        "## Setup code for the notebook\n",
        "##\n",
        "# Autoreload external python modules\n",
        "# see http://stackoverflow.com/questions/1907993/autoreload-of-modules-in-ipython\n",
        "%load_ext autoreload\n",
        "%autoreload 2\n",
        "\n",
        "# These are the main includes used through the notebook\n",
        "import datetime\n",
        "import geojson\n",
        "import numpy as np                   # numeric linear algebra\n",
        "import matplotlib.pyplot as plt      # plotting\n",
        "import rasterio       # read/write geotiffs\n",
        "import tsd            # time series downloader for sentinel and landsat\n",
        "import utils          # IO and coordinate system conversion tools\n",
        "import vistools       # display tools\n",
        "import folium\n",
        "import folium.plugins"
      ],
      "execution_count": null,
      "outputs": [
        {
          "output_type": "stream",
          "name": "stdout",
          "text": [
            "W: Skipping acquire of configured file 'main/source/Sources' as repository 'https://r2u.stat.illinois.edu/ubuntu jammy InRelease' does not seem to provide it (sources.list entry misspelt?)\n",
            "The following additional packages will be installed:\n",
            "  python3-gdal python3-numpy\n",
            "Suggested packages:\n",
            "  libgdal-grass python-numpy-doc python3-pytest\n",
            "The following NEW packages will be installed:\n",
            "  gdal-bin python3-gdal python3-numpy\n",
            "0 upgraded, 3 newly installed, 0 to remove and 50 not upgraded.\n",
            "Need to get 5,055 kB of archives.\n",
            "After this operation, 25.1 MB of additional disk space will be used.\n",
            "Selecting previously unselected package python3-numpy.\n",
            "(Reading database ... 123634 files and directories currently installed.)\n",
            "Preparing to unpack .../python3-numpy_1%3a1.21.5-1ubuntu22.04.1_amd64.deb ...\n",
            "Unpacking python3-numpy (1:1.21.5-1ubuntu22.04.1) ...\n",
            "Selecting previously unselected package python3-gdal.\n",
            "Preparing to unpack .../python3-gdal_3.6.4+dfsg-1~jammy0_amd64.deb ...\n",
            "Unpacking python3-gdal (3.6.4+dfsg-1~jammy0) ...\n",
            "Selecting previously unselected package gdal-bin.\n",
            "Preparing to unpack .../gdal-bin_3.6.4+dfsg-1~jammy0_amd64.deb ...\n",
            "Unpacking gdal-bin (3.6.4+dfsg-1~jammy0) ...\n",
            "Setting up python3-numpy (1:1.21.5-1ubuntu22.04.1) ...\n",
            "Setting up python3-gdal (3.6.4+dfsg-1~jammy0) ...\n",
            "Setting up gdal-bin (3.6.4+dfsg-1~jammy0) ...\n",
            "Processing triggers for man-db (2.10.2-1) ...\n",
            "\u001b[2K     \u001b[90m━━━━━━━━━━━━━━━━━━━━━━━━━━━━━━━━━━━━━━━━\u001b[0m \u001b[32m2.0/2.0 MB\u001b[0m \u001b[31m21.8 MB/s\u001b[0m eta \u001b[36m0:00:00\u001b[0m\n",
            "\u001b[?25h  Preparing metadata (setup.py) ... \u001b[?25l\u001b[?25hdone\n",
            "\u001b[2K   \u001b[90m━━━━━━━━━━━━━━━━━━━━━━━━━━━━━━━━━━━━━━━━\u001b[0m \u001b[32m22.2/22.2 MB\u001b[0m \u001b[31m73.0 MB/s\u001b[0m eta \u001b[36m0:00:00\u001b[0m\n",
            "\u001b[2K   \u001b[90m━━━━━━━━━━━━━━━━━━━━━━━━━━━━━━━━━━━━━━━━\u001b[0m \u001b[32m139.2/139.2 kB\u001b[0m \u001b[31m13.9 MB/s\u001b[0m eta \u001b[36m0:00:00\u001b[0m\n",
            "\u001b[2K   \u001b[90m━━━━━━━━━━━━━━━━━━━━━━━━━━━━━━━━━━━━━━━━\u001b[0m \u001b[32m13.3/13.3 MB\u001b[0m \u001b[31m83.4 MB/s\u001b[0m eta \u001b[36m0:00:00\u001b[0m\n",
            "\u001b[2K   \u001b[90m━━━━━━━━━━━━━━━━━━━━━━━━━━━━━━━━━━━━━━━━\u001b[0m \u001b[32m83.2/83.2 kB\u001b[0m \u001b[31m8.2 MB/s\u001b[0m eta \u001b[36m0:00:00\u001b[0m\n",
            "\u001b[?25h  Building wheel for srtm4 (setup.py) ... \u001b[?25l\u001b[?25hdone\n",
            "  Preparing metadata (setup.py) ... \u001b[?25l\u001b[?25hdone\n",
            "\u001b[2K   \u001b[90m━━━━━━━━━━━━━━━━━━━━━━━━━━━━━━━━━━━━━━━━\u001b[0m \u001b[32m67.8/67.8 MB\u001b[0m \u001b[31m7.6 MB/s\u001b[0m eta \u001b[36m0:00:00\u001b[0m\n",
            "\u001b[?25h  Building wheel for utm (setup.py) ... \u001b[?25l\u001b[?25hdone\n",
            "\u001b[2K     \u001b[90m━━━━━━━━━━━━━━━━━━━━━━━━━━━━━━━━━━━━━━━━\u001b[0m \u001b[32m57.1/57.1 kB\u001b[0m \u001b[31m2.2 MB/s\u001b[0m eta \u001b[36m0:00:00\u001b[0m\n",
            "\u001b[?25h  Preparing metadata (setup.py) ... \u001b[?25l\u001b[?25hdone\n",
            "\u001b[2K   \u001b[90m━━━━━━━━━━━━━━━━━━━━━━━━━━━━━━━━━━━━━━━━\u001b[0m \u001b[32m41.9/41.9 kB\u001b[0m \u001b[31m3.3 MB/s\u001b[0m eta \u001b[36m0:00:00\u001b[0m\n",
            "\u001b[2K   \u001b[90m━━━━━━━━━━━━━━━━━━━━━━━━━━━━━━━━━━━━━━━━\u001b[0m \u001b[32m183.9/183.9 kB\u001b[0m \u001b[31m6.1 MB/s\u001b[0m eta \u001b[36m0:00:00\u001b[0m\n",
            "\u001b[?25h  Building wheel for tsd (setup.py) ... \u001b[?25l\u001b[?25hdone\n"
          ]
        }
      ]
    },
    {
      "cell_type": "markdown",
      "metadata": {
        "id": "M8WVSR3zXjqU"
      },
      "source": [
        "## A. Coordinate systems: longitude/latitude and UTM\n",
        "\n",
        "* longitude/latitude and UTM coordinates\n",
        "* convert from lon/lat to UTM and back\n",
        "   - `utils.lonlat_to_utm(longitude, latitude, force_epsg=None)`: from lon/lat\n",
        "   - `utils.utm_to_lonlat(easting, northing, epsg)`: to lon/lat\n",
        "* interactive map tool for navigation\n",
        "   - `vistools.foliummap(location=(lat,lon), zoom_start=13)`: creates an interactive map and returns a handle to modify it.\n",
        "\n",
        "**Attention: the map widget use the latitude/longitude convention, which is the opposite to what we use in the utils package. This explains the reversed order  in m.location**"
      ]
    },
    {
      "cell_type": "code",
      "metadata": {
        "id": "uXHdp9zuXjqV"
      },
      "source": [
        "## First we use a map to find the coordinates of a region of interest\n",
        "\n",
        "print('Select a rectangular region of interest on the interactive map and export it to download the corresponding geojson')\n",
        "\n",
        "# these lines create a map and return a map handle, it's equivalent to\n",
        "#     m = folium.Map()   # +  with widgets\n",
        "m = vistools.foliummap(location = [48.841413, 2.328409])\n",
        "# we can move the map to any position by indicating its (latitude, longitude)\n",
        "m.location   = [48.841413, 2.328409]   # i.e. Paris, France\n",
        "m.options['zoom'] = 13\n",
        "\n",
        "display(m)"
      ],
      "execution_count": null,
      "outputs": []
    },
    {
      "cell_type": "markdown",
      "metadata": {
        "id": "y6CNkM9dXjqV"
      },
      "source": [
        "**Copy the text of the exported polygon in the `geojsonstring` string below**"
      ]
    },
    {
      "cell_type": "code",
      "metadata": {
        "id": "05rlRfhdXjqV"
      },
      "source": [
        "geojsonstring = \"\"\"\n",
        "\n",
        "COPY THE GEOJSON TEXT HERE\n",
        "\n",
        "\"\"\"\n",
        "\n",
        "#  example polygons with other areas of interest\n",
        "if \"COPY THE GEOJSON TEXT HERE\" in geojsonstring:\n",
        "    geojsonstring = \"\"\"\n",
        "       { \"type\": \"FeatureCollection\",\n",
        "        \"features\": [ {\"type\": \"Feature\",\n",
        "        \"geometry\": {\"coordinates\":\n",
        "                    [[[31.12624503672123, 29.97234031281746],\n",
        "                    [31.12624503672123, 29.982786256861996],\n",
        "                    [31.14066459238529, 29.982786256861996],\n",
        "                    [31.14066459238529, 29.97234031281746],\n",
        "                    [31.12624503672123, 29.97234031281746]]],\n",
        "                    \"type\": \"Polygon\"}\n",
        "        } ] }\n",
        "        \"\"\"\n",
        "\n",
        "    # SF financial district:\n",
        "    geojsonstring = \"\"\"\n",
        "        { \"type\": \"FeatureCollection\",\n",
        "        \"features\": [ {\"type\": \"Feature\",\n",
        "        \"geometry\": {\"coordinates\":\n",
        "                    [[[-122.410056, 37.77979],\n",
        "                    [-122.410056, 37.798578],\n",
        "                    [-122.383276, 37.798578],\n",
        "                    [-122.383276, 37.77979],\n",
        "                    [-122.410056, 37.77979]]],\n",
        "                    \"type\": \"Polygon\"}\n",
        "        } ] }\n",
        "        \"\"\""
      ],
      "execution_count": null,
      "outputs": []
    },
    {
      "cell_type": "markdown",
      "metadata": {
        "id": "0FN5PpS4XjqW"
      },
      "source": [
        "We only care about the `coordinates` in the `geometry` field so we extract it"
      ]
    },
    {
      "cell_type": "code",
      "metadata": {
        "id": "WuTT8Zs0XjqW"
      },
      "source": [
        "# interpret the string as an object\n",
        "geojsonstruct = geojson.loads(geojsonstring)\n",
        "\n",
        "# this extracts the geometry field\n",
        "aoi = utils.find_key_in_geojson(geojsonstruct,'geometry')\n",
        "\n",
        "print(\"These are the coordinates of the selected polygon in GeoJSON format:\")\n",
        "print(geojson.dumps(aoi, indent=2))"
      ],
      "execution_count": null,
      "outputs": []
    },
    {
      "cell_type": "code",
      "metadata": {
        "id": "q4c0PzQXXjqW"
      },
      "source": [],
      "execution_count": null,
      "outputs": []
    },
    {
      "cell_type": "code",
      "metadata": {
        "id": "ZGu3rp7XXjqW"
      },
      "source": [
        "m = vistools.foliummap()\n",
        "\n",
        "# we can draw the aoi\n",
        "folium.GeoJson(aoi).add_to(m)\n",
        "# and center the map at the aoi center\n",
        "m.location   = np.mean(aoi['coordinates'][0][:4], axis=0).tolist()[::-1]\n",
        "\n",
        "display(m)"
      ],
      "execution_count": null,
      "outputs": []
    },
    {
      "cell_type": "code",
      "metadata": {
        "id": "1J1eupkAXjqW"
      },
      "source": [
        "print(\"lat, lon: {}\".format(m.location))"
      ],
      "execution_count": null,
      "outputs": []
    },
    {
      "cell_type": "markdown",
      "metadata": {
        "id": "H28TftgzXjqW"
      },
      "source": [
        "UTM coordinates are interesting because they are locally Euclidean.\n",
        "\n",
        "**Exercise 1.** Implement the function `two_way_conversion_error` below, to convert (longitude, latitude) coordinates to UTM coordinates (easting, northing, and zone), then back to (longitude, latitude), and measure the resulting conversion error.\n",
        "\n",
        "Use the `lonlat_to_utm` and `utm_to_lonlat` functions\n",
        "from the `utils` module to convert to and from UTM.\n",
        "\n",
        "_Note:_ be careful with the parameter conventions lon/lat vs lat/lon."
      ]
    },
    {
      "cell_type": "code",
      "metadata": {
        "id": "JU-tCagdXjqX"
      },
      "source": [
        "### Ex. 1\n",
        "\n",
        "def two_way_conversion_error(lon, lat):\n",
        "    \"\"\"\n",
        "    Compute the error after converting to UTM and back to lon, lat.\n",
        "\n",
        "    Args:\n",
        "        lon (float): longitude\n",
        "        lat (float): latitude\n",
        "\n",
        "    Returns:\n",
        "        the difference between input lon, lat and lon, lat obtained\n",
        "        after converting back and forth to UTM.\n",
        "    \"\"\"\n",
        "\n",
        "\n",
        "    ###### Insert your solution code here ######"
      ],
      "execution_count": null,
      "outputs": []
    },
    {
      "cell_type": "markdown",
      "metadata": {
        "id": "vUZRPeGRXjqX"
      },
      "source": [
        "The code in the cell below extracts the longitude, latitude of the center (location) of the map, and call your `two_way_conversion_error` function to measure the lon, lat --> UTM --> lon, lat conversion error."
      ]
    },
    {
      "cell_type": "code",
      "metadata": {
        "id": "rkIhozSgXjqX"
      },
      "source": [
        "# call your function\n",
        "lat, lon = m.location\n",
        "error = two_way_conversion_error(lon,lat)\n",
        "np.testing.assert_allclose(error, np.zeros(2), atol=1e-9)\n",
        "print(error)"
      ],
      "execution_count": null,
      "outputs": []
    },
    {
      "cell_type": "markdown",
      "metadata": {
        "id": "UC3-f6_0XjqX"
      },
      "source": [
        "**Exercise 2.**\n",
        "Trace a 200 km west-to-east line (with constant northing) in UTM coordinates with 10 samples.\n",
        "\n",
        "Start at: `easting=400000; northing=5400000; epsg=32631`\n",
        "\n",
        "1. Convert it to lon/lat and plot the resulting coordinates in a cartesian lon/lat plot.\n",
        "\n",
        "2. Plot the same line on the map by using\n",
        "\n",
        "```\n",
        "    line = {'type': 'LineString', 'coordinates': [[-122.6, 37.], [..., ...], [-122., 37.]]}\n",
        "    folium.GeoJson(line).add_to(m)\n",
        "```\n",
        "\n",
        "\n",
        "3. **Answer to the question:** What do you observe in the this experiment? Why?\n",
        "\n",
        "Bear in mind these conclusions about the projections."
      ]
    },
    {
      "cell_type": "markdown",
      "metadata": {
        "id": "6pnqysFIXjqX"
      },
      "source": [
        "**Solution**"
      ]
    },
    {
      "cell_type": "code",
      "metadata": {
        "id": "noBUQkX6XjqX"
      },
      "source": [
        "### Ex 2.\n",
        "\n",
        "###### Insert your solution code here ######\n",
        "\n"
      ],
      "execution_count": null,
      "outputs": []
    },
    {
      "cell_type": "code",
      "metadata": {
        "id": "IH9HO_rdXjqY"
      },
      "source": [
        "###### Write your answer here ######"
      ],
      "execution_count": null,
      "outputs": []
    },
    {
      "cell_type": "markdown",
      "metadata": {
        "id": "PqRz_PtEXjqY"
      },
      "source": [
        "## B. Query an image database for an AOI (area of interest)\n",
        "\n",
        "We want to find all the available images over an area of interest (AOI). The Python package `tsd` (Time Series Downloader) allows to search for Sentinel-2 images on free online catalogs (such as CDSE, element84, planet...).\n",
        "\n",
        "To query the online catalog for Sentinel-2 images, one can use the `tsd.get_sentinel2.search` function.\n",
        "\n",
        "Each catalog entry is returned by `tsd` as a Python dictionary containing the image metadata. To display nicely the list of dictionaries, one may turn it into a `pandas.DataFrame`. There's plenty of data associated to each entry of the catalog. Take some time to see all the available keys of each image entry dict. Note that there is a cloud cover percentage estimation, and a thumbnail url."
      ]
    },
    {
      "cell_type": "code",
      "metadata": {
        "id": "-nJm3OFcXjqY"
      },
      "source": [
        "# We shall use the following area of interest in the following experiments\n",
        "\n",
        "if 1:\n",
        "    # SF financial district:\n",
        "    geojsonstring = \"\"\"\n",
        "        { \"type\": \"FeatureCollection\",\n",
        "        \"features\": [ {\"type\": \"Feature\",\n",
        "        \"geometry\": {\"coordinates\":\n",
        "                    [[[-122.410056, 37.77979],\n",
        "                    [-122.410056, 37.798578],\n",
        "                    [-122.383276, 37.798578],\n",
        "                    [-122.383276, 37.77979],\n",
        "                    [-122.410056, 37.77979]]],\n",
        "                    \"type\": \"Polygon\"}\n",
        "        } ] }\n",
        "        \"\"\"\n",
        "    geojsonstruct = geojson.loads(geojsonstring)\n",
        "    aoi = utils.find_key_in_geojson(geojsonstruct,'geometry')"
      ],
      "execution_count": null,
      "outputs": []
    },
    {
      "cell_type": "code",
      "metadata": {
        "id": "l26wGXWIXjqY"
      },
      "source": [
        "start_date = datetime.datetime(2023, 7, 1)\n",
        "end_date = datetime.datetime(2023, 12, 31)\n",
        "\n",
        "# run the query\n",
        "image_catalog = tsd.get_sentinel2.search(aoi, start_date=start_date, end_date=end_date)\n",
        "\n",
        "if len(image_catalog) == 0:\n",
        "    print(\"Maybe your AOI selection is too large\")\n",
        "\n",
        "import pandas as pd\n",
        "pd.DataFrame([dict(i) for i in image_catalog])"
      ],
      "execution_count": null,
      "outputs": []
    },
    {
      "cell_type": "markdown",
      "metadata": {
        "id": "zTouwNuQXjqZ"
      },
      "source": [
        "The catalog contains the URL of each full image, thumbnail, and other information useful to filter the results before downloading the images.\n",
        "\n",
        "To display an image in the notebook, use the `vistools.display_image` function:\n",
        "- `vistools.display_image`: display images contained in np.arrays, files, or urls"
      ]
    },
    {
      "cell_type": "code",
      "metadata": {
        "id": "atmNL_BVXjqZ"
      },
      "source": [
        "## Let's select the last entry from the catalog\n",
        "entry = image_catalog[-1]\n",
        "\n",
        "# and display its thumbnail\n",
        "vistools.display_image(entry['thumbnail'])   #  for displaying an image in the notebook\n",
        "print('At any moment, about 60 percent of the earth is covered by clouds.')"
      ],
      "execution_count": null,
      "outputs": []
    },
    {
      "cell_type": "markdown",
      "metadata": {
        "id": "d_37OSFPXjqZ"
      },
      "source": [
        "**Exercise 3.**\n",
        "Implement the function `query_clear_sky` according to the interface specified below. The function must query for Sentinel-2 images on the provided aoi and return only those with a cloud cover below the provided percentage.\n",
        "\n",
        "**Hint:** access  fields from the registers using attributes i.e. `image_catalog[0].date`"
      ]
    },
    {
      "cell_type": "markdown",
      "metadata": {
        "id": "_H5R-0tVXjqZ"
      },
      "source": [
        "**Solution**"
      ]
    },
    {
      "cell_type": "code",
      "metadata": {
        "id": "Ziso7ekdXjqZ"
      },
      "source": [
        "### Ex 3.\n",
        "def query_clear_sky(aoi, satellite='Sentinel-2', max_cloud_cover=30,\n",
        "                    start_date=None, end_date=None):\n",
        "    '''\n",
        "    queries the devseed database for the aoi\n",
        "    returns a filtered catalog with images with cloud\n",
        "    cover of at most max_cloud_cover\n",
        "    '''\n",
        "    # run a search\n",
        "    if satellite == 'Sentinel-2':\n",
        "        res = tsd.get_sentinel2.search(aoi, start_date, end_date)\n",
        "    elif satellite == 'Landsat-8':\n",
        "        res = tsd.get_landsat.search(aoi, start_date, end_date)\n",
        "\n",
        "\n",
        "    ###### Insert your solution code here ######\n",
        "\n",
        "    return res"
      ],
      "execution_count": null,
      "outputs": []
    },
    {
      "cell_type": "markdown",
      "metadata": {
        "id": "x6Go6kB_XjqZ"
      },
      "source": [
        "The next cell tests your function by calling it on your AOI to search for images with cloud cover less than 20%, and displays the THUMBNAIL of all the images."
      ]
    },
    {
      "cell_type": "code",
      "metadata": {
        "id": "PCtvzzy0Xjqa"
      },
      "source": [
        "res = query_clear_sky(aoi, satellite='Sentinel-2', max_cloud_cover=20,\n",
        "                      start_date=start_date,\n",
        "                      end_date=end_date)\n",
        "\n",
        "## display the images in a gallery\n",
        "g, l = [], []\n",
        "for p in res:\n",
        "    l.append(\"Imaging date: {}, cloud cover: {}\".format(p.date.isoformat(), p.cloud_cover))\n",
        "    g.append(p.thumbnail)\n",
        "\n",
        "vistools.display_gallery(g, l)"
      ],
      "execution_count": null,
      "outputs": []
    },
    {
      "cell_type": "markdown",
      "metadata": {
        "id": "NMQA9OjqXjqa"
      },
      "source": [
        "## C. Downloading a full resolution image\n",
        "\n",
        "Since the images are usually quite large (40k x 40k pixels, about 1GB) instead of downloading the entire images **tsd** (through GDAL) allows to download just a crop containing the desired AOI.\n",
        "\n",
        "The `get_crop_from_aoi` function is a simplified interface to GDAL for cropping an AOI. Internally, it\n",
        "* Extracts the url of the image from the catalog entry for the selected band\n",
        "* Downloads a crop corresponding to the selected aoi\n",
        "* Writes a GeoTIFF\n",
        "\n",
        "The underlying function for cropping an image on the web is `tsd.utils.rasterio_geo_crop(output, inpath, ulx, uly, lrx, lry, epsg=None)`.\n",
        "\n",
        "In this lower level function the aoi is specified using UTM bounding box coordinates `(ulx, uly, lrx, lry, epsg)` **but today we will only use it indirectly**."
      ]
    },
    {
      "cell_type": "code",
      "metadata": {
        "id": "jnc6_xUsXjqa"
      },
      "source": [
        "def get_crop_from_aoi(output_path, aoi, catalog_entry, band):\n",
        "    \"\"\"\n",
        "    Crop and download an AOI from a georeferenced image.\n",
        "    Args:\n",
        "        output_path (string): path to the output GeoTIFF file\n",
        "        aoi (geojson.Polygon): area of interest defined by a polygon in longitude, latitude coordinates\n",
        "        catalog_entry (tsd.s2_metadata_parser.Sentinel2Image): metadata object\n",
        "        band (str): desired band, e.g. 'B04' for Sentinel-2 or 'B8' for Landsat-8\n",
        "    \"\"\"\n",
        "    metadata = catalog_entry\n",
        "    if not metadata.urls['aws']:\n",
        "        metadata.build_s3_links()\n",
        "    inpath = metadata.urls['aws'][band]\n",
        "\n",
        "    utm_zone = metadata.get(\"utm_zone\")\n",
        "    lat_band = metadata.get(\"lat_band\")\n",
        "    epsg = tsd.utils.utm_to_epsg_code(utm_zone, lat_band) if utm_zone else None\n",
        "\n",
        "    ulx, uly, lrx, lry, epsg = tsd.utils.utm_bbx(aoi, epsg=epsg, r=60)\n",
        "    tsd.utils.rasterio_geo_crop(output_path, inpath, ulx, uly, lrx, lry, epsg=epsg)"
      ],
      "execution_count": null,
      "outputs": []
    },
    {
      "cell_type": "code",
      "metadata": {
        "id": "jUN9sBlWXjqa"
      },
      "source": [
        "# Let's start downloading the green channel\n",
        "my_satellite, band = 'Sentinel-2', 'B03'\n",
        "fname = 'ex4_{}.tif'.format(band)\n",
        "results = query_clear_sky(aoi, my_satellite, max_cloud_cover=30,\n",
        "                          start_date=start_date, end_date=end_date)\n",
        "\n",
        "# This is where the downloading is done\n",
        "get_crop_from_aoi(fname, aoi, results[-1], band)\n",
        "\n",
        "# To read the image and metadata useutils.readGTIFF andutils.readGTIFFmeta\n",
        "im   = utils.readGTIFF(fname)\n",
        "meta = utils.readGTIFFmeta(fname)\n",
        "\n",
        "print('We can see some metadata...')\n",
        "display(meta)\n",
        "print('...and the image. However it has a high bit depth so it cannot be shown as it is')\n",
        "vistools.display_image(im)\n",
        "print('we can divide by 32 and see what happens')\n",
        "vistools.display_image(im/32)\n",
        "print('the result seems ok, but a bit dark')"
      ],
      "execution_count": null,
      "outputs": []
    },
    {
      "cell_type": "markdown",
      "metadata": {
        "id": "DEhFp4LDXjqb"
      },
      "source": [
        "## D. Read, write, and display images\n",
        "* GeoTIFF and 8 bits formats (PNG and JPEG)\n",
        "* read/write *GeoTIFF*s and its metadata:\n",
        "  -  `utils.readGTIFF(fname)`:   Reads the image file `fname` into a numpy array,\n",
        "    returns the numpy array with dimensions (height, width, channels)\n",
        "  - `utils.readGTIFFmeta(fname)`: Reads the GeoTIFF metadata and returns a tuple\n",
        "    containing the metadata and bounding box: (meta, bounds)\n",
        "    if the file format doesn't support metadata the returned metadata is invalid.\n",
        "  -  `utils.writeGTIFF(im, fname, copy_metadata_from=None)`:  Writes a numpy array to a *GeoTIFF*, *PNG*, or *JPEG* file depending on `fname` extension.\n",
        "    For GeoTIFF files the metadata can be copied from another file (optional parameter).\n",
        "    Note that if  `im`  and  `copy_metadata_from` have different size,\n",
        "    the copied geolocation properties are not adapted.\n",
        "* display a numpy array with a color palette:\n",
        "  - `vistools.display_imshow(out,[0,1], cmap=\"jet\")`: display the `[0,1]` range using the `jet` palette\n",
        "* assemble color images from bands\n",
        "* compute a multispectral vegetation index: NDVI"
      ]
    },
    {
      "cell_type": "markdown",
      "metadata": {
        "id": "Hmyme2lYXjqb"
      },
      "source": [
        "**Exercise 4.**\n",
        "The TIFF images can have a high dynamic range. To display them on\n",
        "the screen we must map them to 8bits.\n",
        "Write a program that affinely maps a high dynamic range image to\n",
        "8bits (0 to 255). Determine the range of the input data and set\n",
        "the saturation values at X and (100-X) percentile of the image.\n",
        "Implement the function `simple_equalization_8bit` according to the interface specified below.\n",
        "\n",
        "\n",
        "```python\n",
        "def simple_equalization_8bit(im, percentiles=5):\n",
        "    ''' im is a numpy array\n",
        "        returns a numpy array\n",
        "    '''\n",
        "\n",
        "    ###     <<< CODE HERE >>>\n",
        "\n",
        "    return im  # return equalized image\n",
        "```"
      ]
    },
    {
      "cell_type": "markdown",
      "metadata": {
        "id": "lNkOe9w4Xjqb"
      },
      "source": [
        "**Solution**"
      ]
    },
    {
      "cell_type": "code",
      "metadata": {
        "id": "XUZ7vxWiXjqb"
      },
      "source": [
        "### Ex 4.\n",
        "\n",
        "###### Insert your solution code here ######"
      ],
      "execution_count": null,
      "outputs": []
    },
    {
      "cell_type": "markdown",
      "metadata": {
        "id": "QoYNCmJ5Xjqc"
      },
      "source": [
        "This cell tests the above function."
      ]
    },
    {
      "cell_type": "code",
      "metadata": {
        "id": "pqf4_lxzXjqc"
      },
      "source": [
        "#### Test the function by calling it with\n",
        "basename='ex4_'\n",
        "im = utils.readGTIFF(basename+'B03.tif')\n",
        "vistools.display_image(\n",
        "    simple_equalization_8bit(im, percentiles=2)\n",
        ")"
      ],
      "execution_count": null,
      "outputs": []
    },
    {
      "cell_type": "code",
      "metadata": {
        "id": "hZ83sxv7Xjqc"
      },
      "source": [
        "#  Let's write a function that downloads the Sentinel-2 RGB bands\n",
        "#  and creates an 8bit color image. For that we will apply the function\n",
        "#  simple_equalization_8bit to each channel.\n",
        "\n",
        "def get_sentinel2_color_8bit(basefilename, aoi, catalog_entry, percentiles=5):\n",
        "    ''' basefilename to store the bands:  basename+BAND+'.tif'\n",
        "        returns a numpy array of the RGB image (height, width, channels)\n",
        "    '''\n",
        "    bands = ['B02', 'B03', 'B04']    # SENTINEL2 R,G,B BANDS\n",
        "\n",
        "    # this command downloads all the bands\n",
        "    for b in bands:\n",
        "        get_crop_from_aoi('{}_{}.tif'.format(basefilename, b), aoi, catalog_entry, b)\n",
        "\n",
        "    # read, equalize, and stack all the channels\n",
        "    out = []\n",
        "    for b in bands:\n",
        "        im = utils.readGTIFF('{}_{}.tif'.format(basefilename, b))\n",
        "        im = simple_equalization_8bit(im, percentiles)\n",
        "        out.append(im)\n",
        "\n",
        "    # The transposition is necessary because the indexing\n",
        "    # convention for color images is (height, width, channels)\n",
        "    im = np.squeeze(out,axis=(3)).transpose(1,2,0)\n",
        "    return im\n",
        "\n",
        "\n",
        "#### Test the function by running\n",
        "# pick the satellite then query the database\n",
        "my_satellite = 'Sentinel-2'\n",
        "basename = 'rgb'\n",
        "res = query_clear_sky(aoi, my_satellite, max_cloud_cover=10, start_date=start_date, end_date=end_date)\n",
        "\n",
        "# generate the RGB image\n",
        "RGBout = get_sentinel2_color_8bit(basename, aoi, res[-1])\n",
        "\n",
        "# Writes RGBout in 'rgb_RGB.tif' copying geolocation metadata from 'rgb_B03.tif',\n",
        "# which has been written by    get_sentinel2_color_8bit\n",
        "utils.writeGTIFF(RGBout[:,:,0:3], basename+'_RGB.tif', basename+'_B03.tif')\n",
        "\n",
        "# display RGBout\n",
        "vistools.display_imshow(RGBout[:,:,0:3], figsize=(10,10))"
      ],
      "execution_count": null,
      "outputs": []
    },
    {
      "cell_type": "code",
      "metadata": {
        "id": "JIrW7VcNXjqc"
      },
      "source": [],
      "execution_count": null,
      "outputs": []
    },
    {
      "cell_type": "markdown",
      "metadata": {
        "id": "nzEHxk3BXjqc"
      },
      "source": [
        "**Exercise 5.**\n",
        "  Multi-spectral images allow to measure things that are otherwise non visible.\n",
        "  By using the NIR and RED bands, the normalized difference vegetation index (NDVI)\n",
        "  (https://en.wikipedia.org/wiki/Normalized_difference_vegetation_index) can assess\n",
        "  whether the observed target contains live green vegetation or not.\n",
        "  More on NDVI: https://phenology.cr.usgs.gov/ndvi_foundation.php\n",
        "  Other indices can be found here:\n",
        "  * http://www.sentinel-hub.com/apps/wms/wms-parameters/EOproducts\n",
        "  * https://www.indexdatabase.de/db/ias.php\n",
        "\n",
        "Let us compute and display the NDVI index on the AOI to find the parks and forests in a the area.\n",
        "Implement the function `get_sentinel2_NDVI` according to the interface specified below.\n",
        "\n",
        "\n",
        "```python\n",
        "def get_sentinel2_NDVI(basefilename, aoi, catalog_entry):\n",
        "    '''\n",
        "    basefilename: to store the bands:  basename+BAND+'.tif'\n",
        "    aoi: is the area of interest\n",
        "    catalog_entry: is the register of a query\n",
        "    returns a numpy array\n",
        "    '''\n",
        "\n",
        "    ###     <<< CODE HERE >>>\n",
        "\n",
        "    return NDVI  # NDVI image (numpy array)\n",
        "```"
      ]
    },
    {
      "cell_type": "markdown",
      "metadata": {
        "id": "O7KY3UwtXjqc"
      },
      "source": [
        "**Solution**"
      ]
    },
    {
      "cell_type": "code",
      "metadata": {
        "id": "SBh8WIauXjqc"
      },
      "source": [
        "### Ex 5.\n",
        "\n",
        "###### Insert your solution code here ######"
      ],
      "execution_count": null,
      "outputs": []
    },
    {
      "cell_type": "markdown",
      "metadata": {
        "id": "fr7CYzB3Xjqd"
      },
      "source": [
        "The following lines allow to test the function.\n",
        "This command:\n",
        "\n",
        "      display_imshow(NDVI, [0,1], cmap=\"jet\")\n",
        "is used to show the array mapping the range [0,1] using the 'jet' colormap"
      ]
    },
    {
      "cell_type": "code",
      "metadata": {
        "id": "CITXMFtiXjqd"
      },
      "source": [
        "# pick the satellite then query the database\n",
        "my_satellite = 'Sentinel-2'\n",
        "basename = 'ex5'\n",
        "res = query_clear_sky(aoi, my_satellite, max_cloud_cover=10, start_date=start_date, end_date=end_date)\n",
        "\n",
        "out = get_sentinel2_NDVI(basename, aoi, res[-1])\n",
        "\n",
        "utils.writeGTIFF(out, basename+'_NDVI.tif', basename+'B08.tif')\n",
        "\n",
        "vistools.display_imshow(out, [0,1], cmap=\"jet\", figsize=(10,10))"
      ],
      "execution_count": null,
      "outputs": []
    },
    {
      "cell_type": "markdown",
      "metadata": {
        "id": "hyp7cxd7Xjqd"
      },
      "source": [
        "## E. Time series\n",
        "* Downloading crops of all the images for an AOI could be done with the tools presented so far:\n",
        "\n",
        "  `tsd.get_sentinel2.search` and `get_crop_from_aoi`.\n",
        "\n",
        "  But, we provide the following function to simplify the task of searching and downloading all the images on the `aoi`:\n",
        "\n",
        "   - `tsd.get_sentinel2.get_time_series(aoi, out_dir='tmp', bands=['B04'])`\n",
        "\n",
        "* Make an animated gif"
      ]
    },
    {
      "cell_type": "code",
      "metadata": {
        "id": "RYqSz-4MXjqd"
      },
      "source": [
        "# FIRST REMOVE THE OUTPUT FILES FROM PREVIOUS RUNS\n",
        "!rm -rf tmp/*.tif.png* tmp/*.tif\n",
        "\n",
        "# Download all the image for a satellite over an aoi\n",
        "tsd.get_sentinel2.get_time_series(aoi, out_dir='tmp', bands=['B03'], start_date=start_date, end_date=end_date)\n",
        "\n",
        "import glob\n",
        "\n",
        "# list the donwloaded files\n",
        "#print (glob.glob('tmp/*.tif') )\n",
        "\n",
        "\n",
        "# select the green band 'B03' (sentinel), or panchromatic '8' (landsat)\n",
        "# then read tiff and convert them to png (geolocation information is lost)\n",
        "for i in  glob.glob('tmp/*_B8.tif') + (glob.glob('tmp/*B03.tif')):\n",
        "    im = utils.readGTIFF( i )\n",
        "    im = simple_equalization_8bit(im,  percentiles=2)\n",
        "    utils.writeGTIFF(im,'%s.png'%i)\n",
        "    vistools.overprintText('%s.png'%i,'%s.png'%i,i[4:-4],textRGBA=[0,255,0,255])\n",
        "\n",
        "\n",
        "# create an animated gif\n",
        "vistools.make_animated_gif('tmp/timeseries.gif', 'tmp/*.tif.png')\n",
        "\n",
        "vistools.display_image('tmp/timeseries.gif')"
      ],
      "execution_count": null,
      "outputs": []
    },
    {
      "cell_type": "code",
      "metadata": {
        "id": "p0qoS9y5Xjqd"
      },
      "source": [],
      "execution_count": null,
      "outputs": []
    },
    {
      "cell_type": "markdown",
      "metadata": {
        "id": "EAmVHs11Xjqd"
      },
      "source": [
        "### SAR time series\n",
        "\n",
        "* obverve the modulus of an SLC radar image in a time series\n",
        "* SLC images appear stretched in the azimuth direction (flight direction)"
      ]
    },
    {
      "cell_type": "code",
      "metadata": {
        "id": "lPI0qcw0Xjqd"
      },
      "source": [
        "## The files 'data/SF/SanFranciscoRadar{01-48}.tif' form a time series of sentinel-1 images\n",
        "## the images are georeferenced and are already real with 8-bits values\n",
        "\n",
        "import glob\n",
        "# generate PNG\n",
        "imgs=glob.glob('data/SF/SanFranciscoRadar??.tif')\n",
        "for i in imgs:\n",
        "    utils.writeGTIFF(utils.readGTIFF(i),i[:-3]+'png')\n",
        "# display the result\n",
        "imgs=sorted(glob.glob('data/SF/SanFranciscoRadar??.png'))\n",
        "vistools.display_gallery(imgs)"
      ],
      "execution_count": null,
      "outputs": []
    },
    {
      "cell_type": "markdown",
      "metadata": {
        "id": "U_S4BxMLXjqd"
      },
      "source": [
        "**Exercise 6.**\n",
        "  Simple denoising. Write a program to remove some of the noise by using the fact that the images are aligned.\n",
        "  The simplest denoising consists in taking the average, however the geometric mean (\n",
        "$ \\left(\\prod _{i=1}^{n}x_{i}\\right)^{\\frac {1}{n}} $)\n",
        "  is more appropriate for the type of noise present in SAR images.\n",
        "\n",
        "Implement the function `geometric_mean_images` according to the interface specified below.\n",
        "\n",
        "\n",
        "```python\n",
        "def geometric_mean_images(imgs_names_list):\n",
        "    '''\n",
        "    receives a list of image filenames\n",
        "    returns a numpy array with the pixel-wise geometric mean\n",
        "    '''\n",
        "\n",
        "    ###     <<< CODE HERE >>>\n",
        "\n",
        "    return gm\n",
        "```"
      ]
    },
    {
      "cell_type": "markdown",
      "metadata": {
        "id": "8ueeUY9gXjqd"
      },
      "source": [
        "**Solution**"
      ]
    },
    {
      "cell_type": "code",
      "metadata": {
        "id": "TBx6E52SXjqd"
      },
      "source": [
        "### Ex 6.\n",
        "\n",
        "###### Insert your solution code here ######"
      ],
      "execution_count": null,
      "outputs": []
    },
    {
      "cell_type": "code",
      "metadata": {
        "id": "czT9hTKMXjqe"
      },
      "source": [
        "#### Test the function by running\n",
        "import glob\n",
        "imgs=sorted(glob.glob('data/SF/SanFranciscoRadar??.tif'))\n",
        "\n",
        "vistools.display_image(\n",
        "    simple_equalization_8bit(\n",
        "        geometric_mean_images(imgs)\n",
        "    ))"
      ],
      "execution_count": null,
      "outputs": []
    },
    {
      "cell_type": "markdown",
      "metadata": {
        "id": "DHq9wwSuXjqe"
      },
      "source": [
        "## F. Reprojection\n",
        "\n",
        "* determine the geographic coordinates (longitude, latitude, and altitude wrt the WGS84 reference\n",
        "    ellipsoid) corresponding to an image coordinate (in pixels)\n",
        "  - `utils.gdal_get_longlat_of_pixel(fname, x, y )`: returns the long/lat (at 0 altitude) for the points at pixel coordinates (x, y) of the image fname.\n",
        "* resample (or reproject) a GeoTIFF in longitude, latitude coordinates\n",
        "  - `utils.gdal_resample_image_to_longlat(fname, outfname)`: reproject GeoTIFF image in the long/lat image CRS"
      ]
    },
    {
      "cell_type": "markdown",
      "metadata": {
        "id": "uDHrFiaiXjqe"
      },
      "source": [
        "**Exercise 7.**\n",
        "Determine the geographic coordinates (longitude, latitude) of the\n",
        " four corners of the SAR image and draw a polygon on a map.\n",
        " Write the function `get_image_longlat_polygon` following the prototype below and use provided test code.\n",
        "\n",
        "\n",
        "```python\n",
        "def get_image_longlat_polygon(filename):\n",
        "    '''\n",
        "    receives a GeoTIFF filename. Determines the image size\n",
        "    and computes the long/lat coordinates of the four image corners.\n",
        "    returns a GeoJSON polygon with the four corners\n",
        "    '''\n",
        "\n",
        "    ###     <<< COMPLETE THE CODE >>>\n",
        "\n",
        "    return polygon\n",
        "```\n",
        "\n",
        "**Hint:** use  `utils.gdal_get_longlat_of_pixel`\n",
        "\n",
        "**Hint2:** make sure to use `utils.readGTIFFmeta`  in order to determine the\n",
        "         size of the image. It is much faster than reading the whole image"
      ]
    },
    {
      "cell_type": "markdown",
      "metadata": {
        "id": "odYRdHIuXjqe"
      },
      "source": [
        "**Solution**"
      ]
    },
    {
      "cell_type": "code",
      "metadata": {
        "id": "merPZvZZXjqe"
      },
      "source": [
        "### Ex 7.\n",
        "\n",
        "###### SOLUTION ######\n",
        "\n",
        "def get_image_longlat_polygon(filename):\n",
        "    '''\n",
        "    receives a GeoTIFF filename. Determines the image size\n",
        "    and computes the long/lat coordinates of the four image corners.\n",
        "    returns a GeoJSON polygon with the four corners\n",
        "    '''\n",
        "    # get the image size\n",
        "    A = utils.readGTIFFmeta(filename)\n",
        "    H = int(A[0]['height'])\n",
        "    W = int(A[0]['width'])\n",
        "\n",
        "    cols = [0,W,W,0]\n",
        "    rows = [0,0,H,H]\n",
        "\n",
        "    ###     <<< COMPLETE THE CODE >>>\n",
        "\n",
        "    # remove the altitude (which is 0)\n",
        "    coords = [ [x[0], x[1]] for x in coords ]\n",
        "\n",
        "    polygon = {'type': 'Polygon', 'coordinates': [coords]}\n",
        "    return polygon\n"
      ],
      "execution_count": null,
      "outputs": []
    },
    {
      "cell_type": "code",
      "metadata": {
        "id": "rn-t4yohXjqe"
      },
      "source": [
        "#### Test the function by running\n",
        "fname = 'data/SF/SanFranciscoRadar01.tif'\n",
        "\n",
        "footprint = get_image_longlat_polygon(fname)\n",
        "\n",
        "# create a map cetered at location indicated by its (latitude, longitude)\n",
        "m = vistools.foliummap(location = footprint[ 'coordinates'][0][0][::-1],\n",
        "                       zoom_start = 13 )\n",
        "# and display the footprint polygon\n",
        "folium.GeoJson(footprint).add_to(m)\n",
        "\n",
        "display(m)"
      ],
      "execution_count": null,
      "outputs": []
    },
    {
      "cell_type": "code",
      "metadata": {
        "id": "seioexTDXjqe"
      },
      "source": [
        "##  Now we can reproject the image in geographic coordinates (longitude, latitude)\n",
        "##  using utils.gdal_resample_image_to_longlat, then compute the footprint of the\n",
        "##  reprojected image and display the result on a map.\n",
        "\n",
        "img = 'data/SF/SanFranciscoRadar01.tif'\n",
        "\n",
        "# Reproject the image in longlat (one GeoTIFF and one PNG)\n",
        "utils.gdal_resample_image_to_longlat(img, 'tmp/sarimage_longlat.tif')\n",
        "\n",
        "# Extract the new image footprint from the GeoTIFF\n",
        "footprint2 = get_image_longlat_polygon('tmp/sarimage_longlat.tif')\n",
        "print (footprint2)\n",
        "\n",
        "# Convert TIFF to 8-bits and write a PNG\n",
        "data = utils.readGTIFF('tmp/sarimage_longlat.tif')\n",
        "utils.writeGTIFF( simple_equalization_8bit( data ), 'tmp/sarimage_longlat.png' )\n",
        "\n",
        "# Display the reprojected PNG overlaid on a map at the coordinates of the footprint\n",
        "m = vistools.foliummap(location = footprint2[ 'coordinates'][0][0][::-1],\n",
        "                        zoom_start = 13)\n",
        "\n",
        "# first show the footprint\n",
        "folium.GeoJson(footprint2).add_to(m)\n",
        "\n",
        "# then compute the bounding box of the image footprint\n",
        "lon, lat, Dlon, Dlat = utils.bounding_box2D( footprint2[ 'coordinates'] )\n",
        "\n",
        "# then add the image overlay at the bounding box location\n",
        "folium.raster_layers.ImageOverlay(image   = 'tmp/sarimage_longlat.png',\n",
        "                                  bounds  = [[lat + Dlat, lon + Dlon ] ,\n",
        "                                             [lat       , lon] ],\n",
        "                                  opacity = 0.7).add_to(m)\n",
        "\n",
        "folium.LayerControl().add_to(m)\n",
        "\n",
        "display(m)"
      ],
      "execution_count": null,
      "outputs": []
    },
    {
      "cell_type": "code",
      "metadata": {
        "id": "gql_xNHvXjqe"
      },
      "source": [],
      "execution_count": null,
      "outputs": []
    },
    {
      "cell_type": "markdown",
      "metadata": {
        "id": "dvw0ES4AXjqe"
      },
      "source": [
        "**Exercise 8.**\n",
        "Read the GeoTIFF `data/fin.tif`, and overlay it on the map at its correct position and orientation"
      ]
    },
    {
      "cell_type": "markdown",
      "metadata": {
        "id": "mYvt2YMaXjqe"
      },
      "source": [
        "**Solution**"
      ]
    },
    {
      "cell_type": "code",
      "metadata": {
        "id": "n-JYMdDQXjqf"
      },
      "source": [
        "### Ex 8.\n",
        "\n",
        "img = 'data/fin.tif'\n",
        "\n",
        "\n",
        "###### SOLUTION ######\n",
        "\n",
        "\n",
        "\n",
        "## Reproject the image in longlat (one GeoTIFF and one PNG)\n",
        "utils.gdal_resample_image_to_longlat(img, 'tmp/ex10_longlat.tif')\n",
        "\n",
        "# Extract the new image footprint from the GeoTIFF\n",
        "footprint3 = get_image_longlat_polygon('tmp/ex10_longlat.tif')\n",
        "print(footprint3)\n",
        "\n",
        "# Convert TIFF to 8-bits and write a PNG\n",
        "data =  utils.readGTIFF('tmp/ex10_longlat.tif')\n",
        "utils.writeGTIFF( simple_equalization_8bit( data ), 'tmp/ex10_longlat.png' )\n",
        "\n",
        "\n",
        "# Display the reprojected PNG overlaid on a map at the coordinates of the footprint\n",
        "m = vistools.foliummap(location = footprint3[ 'coordinates'][0][0][::-1],\n",
        "                        zoom_start = 13)\n",
        "\n",
        "folium.GeoJson(footprint3).add_to(m)\n",
        "\n",
        "lon, lat, Dlon, Dlat = utils.bounding_box2D( footprint3[ 'coordinates'] )\n",
        "\n",
        "folium.raster_layers.ImageOverlay(image   = 'tmp/ex10_longlat.png',\n",
        "                                bounds  = [[lat + Dlat, lon + Dlon ] ,\n",
        "                                            [lat       , lon] ],\n",
        "                                opacity = 0.7).add_to(m)\n",
        "\n",
        "\n",
        "folium.LayerControl().add_to(m)\n",
        "\n",
        "display(m)\n",
        "\n"
      ],
      "execution_count": null,
      "outputs": []
    },
    {
      "cell_type": "code",
      "metadata": {
        "id": "Wig7ZyrkXjqf"
      },
      "source": [],
      "execution_count": null,
      "outputs": []
    },
    {
      "cell_type": "markdown",
      "metadata": {
        "id": "jtFZVN29Xjqf"
      },
      "source": [
        "---------------------------\n",
        "[//]: # (© 2018 Gabriele Facciolo)\n",
        "[//]: # (<div style=\"text-align:center; font-size:75%;\"> Copyright © 2018 Gabriele Facciolo. All rights reserved.</div> )"
      ]
    }
  ]
}